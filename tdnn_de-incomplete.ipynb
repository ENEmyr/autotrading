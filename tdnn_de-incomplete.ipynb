{
 "cells": [
  {
   "cell_type": "code",
   "execution_count": 5,
   "metadata": {},
   "outputs": [
    {
     "name": "stdout",
     "output_type": "stream",
     "text": [
      "Collecting tensorflow_probability\n",
      "  Downloading tensorflow_probability-0.11.1-py2.py3-none-any.whl (4.3 MB)\n",
      "Collecting dm-tree\n",
      "  Downloading dm_tree-0.1.5-cp38-cp38-win_amd64.whl (83 kB)\n",
      "Requirement already satisfied: numpy>=1.13.3 in c:\\users\\keypg\\anaconda3\\envs\\ml\\lib\\site-packages (from tensorflow_probability) (1.19.0)\n",
      "Requirement already satisfied: decorator in c:\\users\\keypg\\anaconda3\\envs\\ml\\lib\\site-packages (from tensorflow_probability) (4.4.2)\n",
      "Requirement already satisfied: gast>=0.3.2 in c:\\users\\keypg\\anaconda3\\envs\\ml\\lib\\site-packages (from tensorflow_probability) (0.3.3)\n",
      "Requirement already satisfied: six>=1.10.0 in c:\\users\\keypg\\anaconda3\\envs\\ml\\lib\\site-packages (from tensorflow_probability) (1.15.0)\n",
      "Collecting cloudpickle>=1.3\n",
      "  Using cached cloudpickle-1.6.0-py3-none-any.whl (23 kB)\n",
      "Installing collected packages: dm-tree, cloudpickle, tensorflow-probability\n",
      "Successfully installed cloudpickle-1.6.0 dm-tree-0.1.5 tensorflow-probability-0.11.1\n",
      "Note: you may need to restart the kernel to use updated packages.\n"
     ]
    }
   ],
   "source": [
    "%pip install tensorflow_probability"
   ]
  },
  {
   "cell_type": "code",
   "execution_count": 1,
   "metadata": {},
   "outputs": [
    {
     "name": "stderr",
     "output_type": "stream",
     "text": [
      "C:\\Users\\keypg\\Anaconda3\\envs\\ml\\lib\\site-packages\\numpy\\_distributor_init.py:30: UserWarning: loaded more than 1 DLL from .libs:\n",
      "C:\\Users\\keypg\\Anaconda3\\envs\\ml\\lib\\site-packages\\numpy\\.libs\\libopenblas.NOIJJG62EMASZI6NYURL6JBKM4EVBGM7.gfortran-win_amd64.dll\n",
      "C:\\Users\\keypg\\Anaconda3\\envs\\ml\\lib\\site-packages\\numpy\\.libs\\libopenblas.PYQHXLVVQ7VESDPUVUADXEVJOBGHJPAY.gfortran-win_amd64.dll\n",
      "  warnings.warn(\"loaded more than 1 DLL from .libs:\\n%s\" %\n"
     ]
    }
   ],
   "source": [
    "import numpy as np\n",
    "import tensorflow as tf\n",
    "import math, os, sys\n",
    "import matplotlib.pyplot as plt\n",
    "import tensorflow_probability as tfp "
   ]
  },
  {
   "cell_type": "code",
   "execution_count": 2,
   "metadata": {},
   "outputs": [],
   "source": [
    "gpus = tf.config.experimental.list_physical_devices('GPU')\n",
    "if gpus:\n",
    "    try:\n",
    "        for gpu in gpus:\n",
    "            tf.config.experimental.set_memory_growth(gpu, True)\n",
    "    except RuntimeError as e:\n",
    "        print(e)"
   ]
  },
  {
   "cell_type": "code",
   "execution_count": 3,
   "metadata": {},
   "outputs": [
    {
     "name": "stdout",
     "output_type": "stream",
     "text": [
      "(288, 1, 7, 1) (288, 7) (72, 1, 7, 1) (72, 7)\n"
     ]
    }
   ],
   "source": [
    "N = 10\n",
    "STEPS = 250\n",
    "LOSS = 'mse'\n",
    "BATCH_SIZE = 32\n",
    "\n",
    "dataset = np.load('dataset/all_data-preprocessed.npz')\n",
    "features, labels = dataset['features'].astype('float32'), dataset['labels'].astype('float32')\n",
    "train_test_split_factor = .8\n",
    "validation_split_factor = .2\n",
    "train_x, train_y, test_x, test_y = features[:math.floor(len(features)*train_test_split_factor)], labels[:math.floor(len(labels)*train_test_split_factor)], features[math.floor(len(features)*train_test_split_factor):], labels[math.floor(len(labels)*train_test_split_factor):]\n",
    "train_x, test_x = np.expand_dims(train_x, axis=-1), np.expand_dims(test_x, axis=-1) # for use with TimeDistributed\n",
    "input_shape = train_x.shape\n",
    "#train_y, test_y = np.expand_dims(train_y, axis=1), np.expand_dims(test_y, axis=1) # for use with TimeDistributed\n",
    "print(train_x.shape, train_y.shape, test_x.shape, test_y.shape)"
   ]
  },
  {
   "cell_type": "code",
   "execution_count": 4,
   "metadata": {},
   "outputs": [],
   "source": [
    "def build_model(loss, optimizer='adam'):\n",
    "    layers = [\n",
    "        tf.keras.layers.TimeDistributed(tf.keras.layers.Conv1D(7, 3, padding='same', activation='relu', input_shape=input_shape[1:])),\n",
    "        tf.keras.layers.TimeDistributed(tf.keras.layers.Conv1D(7, 3, padding='same', activation='relu', dilation_rate=2)),\n",
    "        tf.keras.layers.TimeDistributed(tf.keras.layers.Conv1D(14, 3, padding='same', activation='relu', dilation_rate=1)),\n",
    "        tf.keras.layers.TimeDistributed(tf.keras.layers.Conv1D(36, 3, padding='same', activation='relu', dilation_rate=1)),\n",
    "        tf.keras.layers.Dense(70, activation='relu'),\n",
    "        tf.keras.layers.Flatten(),\n",
    "        tf.keras.layers.Dense(7, activation='linear')\n",
    "    ]\n",
    "    model = tf.keras.models.Sequential(layers=layers)\n",
    "    model.compile(optimizer=optimizer, loss=loss)\n",
    "    return model"
   ]
  },
  {
   "cell_type": "code",
   "execution_count": 5,
   "metadata": {},
   "outputs": [],
   "source": [
    "def run_backpropagation(x_train, y_train, epochs=0):\n",
    "    best_model = None\n",
    "    best_score = float('inf')\n",
    "    if epochs == 0:\n",
    "        epochs = STEPS\n",
    "    for i in range(N):\n",
    "        model_s = build_model(LOSS)\n",
    "        model_s.fit(\n",
    "            x_train, y_train,\n",
    "            epochs=epochs,\n",
    "            batch_size=BATCH_SIZE,\n",
    "            verbose=0\n",
    "        )\n",
    "        train_score = model_s.evaluate(x_train, y_train, batch_size=BATCH_SIZE, verbose=0)\n",
    "        if train_score < best_score:\n",
    "            best_model = model_s\n",
    "            best_score = train_score\n",
    "        return best_model"
   ]
  },
  {
   "cell_type": "code",
   "execution_count": 59,
   "metadata": {},
   "outputs": [
    {
     "data": {
      "text/plain": [
       "<tf.Tensor: shape=(), dtype=float32, numpy=63280.332>"
      ]
     },
     "execution_count": 59,
     "metadata": {},
     "output_type": "execute_result"
    }
   ],
   "source": [
    "tf.convert_to_tensor(model_obj.evaluate(test_x,test_y,verbose=0), dtype=tf.float32)"
   ]
  },
  {
   "cell_type": "code",
   "execution_count": 58,
   "metadata": {},
   "outputs": [
    {
     "data": {
      "text/plain": [
       "tf.float32"
      ]
     },
     "execution_count": 58,
     "metadata": {},
     "output_type": "execute_result"
    }
   ],
   "source": [
    "tf.random.normal([7])[0].dtype.base_dtype"
   ]
  },
  {
   "cell_type": "code",
   "execution_count": 74,
   "metadata": {},
   "outputs": [
    {
     "ename": "AttributeError",
     "evalue": "module 'tensorflow' has no attribute 'enable_eager_execution'",
     "output_type": "error",
     "traceback": [
      "\u001b[1;31m---------------------------------------------------------------------------\u001b[0m",
      "\u001b[1;31mAttributeError\u001b[0m                            Traceback (most recent call last)",
      "\u001b[1;32m<ipython-input-74-69076ab7150b>\u001b[0m in \u001b[0;36m<module>\u001b[1;34m\u001b[0m\n\u001b[1;32m----> 1\u001b[1;33m \u001b[0mtf\u001b[0m\u001b[1;33m.\u001b[0m\u001b[0menable_eager_execution\u001b[0m\u001b[1;33m(\u001b[0m\u001b[1;33m)\u001b[0m\u001b[1;33m\u001b[0m\u001b[1;33m\u001b[0m\u001b[0m\n\u001b[0m\u001b[0;32m      2\u001b[0m \u001b[0mpopulation_size\u001b[0m \u001b[1;33m=\u001b[0m \u001b[1;36m40\u001b[0m\u001b[1;33m\u001b[0m\u001b[1;33m\u001b[0m\u001b[0m\n\u001b[0;32m      3\u001b[0m \u001b[1;31m# With an initial population and a multi-part state.\u001b[0m\u001b[1;33m\u001b[0m\u001b[1;33m\u001b[0m\u001b[1;33m\u001b[0m\u001b[0m\n\u001b[0;32m      4\u001b[0m initial_population = (tf.random.normal(test_x.shape),\n\u001b[0;32m      5\u001b[0m                     tf.random.normal(test_y.shape))\n",
      "\u001b[1;31mAttributeError\u001b[0m: module 'tensorflow' has no attribute 'enable_eager_execution'"
     ]
    }
   ],
   "source": [
    "tf.enable_eager_execution()\n",
    "population_size = 40 \n",
    "# With an initial population and a multi-part state.\n",
    "initial_population = (tf.random.normal(test_x.shape),\n",
    "                    tf.random.normal(test_y.shape))\n",
    "initial_position = (tf.constant(1.0), tf.constant(1.0))\n",
    "model_obj = run_backpropagation(train_x, train_y, 1) # initilize weights\n",
    "\n",
    "def de_objective(x, y):\n",
    "    #return tf.convert_to_tensor(model_obj.evaluate(x, y, verbose=0), dtype=tf.float32)\n",
    "    return tf.Variable(model_obj.evaluate(x, y, verbose=0), dtype=tf.float32)\n",
    "\n",
    "#def easom_fn(x, y):\n",
    "#    return -(tf.math.cos(x) * tf.math.cos(y) *\n",
    "#         tf.math.exp(-(x-np.pi)**2 - (y-np.pi)**2))\n",
    "\n",
    "de_optimizer = tfp.optimizer.differential_evolution_minimize(de_objective,\n",
    "                                                            initial_population=initial_population,\n",
    "                                                            initial_position=None,\n",
    "                                                            population_size=population_size,\n",
    "                                                            population_stddev=1.0,\n",
    "                                                            max_iterations=100,\n",
    "                                                            func_tolerance=0,\n",
    "                                                            position_tolerance=1e-08,\n",
    "                                                            differential_weight=0.5,\n",
    "                                                            crossover_prob=0.9)\n",
    "model_de = build_model(LOSS, de_optimizer)\n",
    "model_de.fit(\n",
    "    train_x, train_y,\n",
    "    epochs=250,\n",
    "    batch_size=BATCH_SIZE\n",
    ")"
   ]
  },
  {
   "cell_type": "code",
   "execution_count": 7,
   "metadata": {},
   "outputs": [
    {
     "data": {
      "text/plain": [
       "array([[198.0694 , 198.64291, 203.3807 , 200.3389 , 203.87701, 199.9482 ,\n",
       "        204.05898],\n",
       "       [314.46463, 316.48914, 323.22443, 320.32175, 325.20148, 318.39246,\n",
       "        325.0246 ],\n",
       "       [321.1539 , 323.37744, 330.32767, 327.86972, 332.52335, 325.49854,\n",
       "        332.2129 ],\n",
       "       [413.7916 , 417.43658, 425.4994 , 423.06775, 428.74667, 419.71063,\n",
       "        428.17868],\n",
       "       [404.96997, 408.45245, 416.73325, 414.91205, 420.1315 , 411.09882,\n",
       "        419.38306],\n",
       "       [452.34897, 456.68878, 465.32364, 463.38516, 469.18484, 459.2108 ,\n",
       "        468.40182],\n",
       "       [464.1343 , 468.7425 , 477.78693, 476.56055, 482.0278 , 471.6446 ,\n",
       "        481.01184],\n",
       "       [454.89926, 459.3726 , 468.1775 , 466.69275, 472.20703, 462.09985,\n",
       "        471.29816],\n",
       "       [454.89926, 459.3726 , 468.1775 , 466.69275, 472.20703, 462.09985,\n",
       "        471.29816],\n",
       "       [454.89926, 459.3726 , 468.1775 , 466.69275, 472.20703, 462.09985,\n",
       "        471.29816],\n",
       "       [454.89926, 459.3726 , 468.1775 , 466.69275, 472.20703, 462.09985,\n",
       "        471.29816],\n",
       "       [454.89926, 459.3726 , 468.1775 , 466.69275, 472.20703, 462.09985,\n",
       "        471.29816],\n",
       "       [454.89926, 459.3726 , 468.1775 , 466.69275, 472.20703, 462.09985,\n",
       "        471.29816],\n",
       "       [454.89926, 459.3726 , 468.1775 , 466.69275, 472.20703, 462.09985,\n",
       "        471.29816],\n",
       "       [454.89926, 459.3726 , 468.1775 , 466.69275, 472.20703, 462.09985,\n",
       "        471.29816],\n",
       "       [454.89926, 459.3726 , 468.1775 , 466.69275, 472.20703, 462.09985,\n",
       "        471.29816],\n",
       "       [454.89926, 459.3726 , 468.1775 , 466.69275, 472.20703, 462.09985,\n",
       "        471.29816],\n",
       "       [454.89926, 459.3726 , 468.1775 , 466.69275, 472.20703, 462.09985,\n",
       "        471.29816],\n",
       "       [454.89926, 459.3726 , 468.1775 , 466.69275, 472.20703, 462.09985,\n",
       "        471.29816],\n",
       "       [454.89926, 459.3726 , 468.1775 , 466.69275, 472.20703, 462.09985,\n",
       "        471.29816],\n",
       "       [454.89926, 459.3726 , 468.1775 , 466.69275, 472.20703, 462.09985,\n",
       "        471.29816],\n",
       "       [454.89926, 459.3726 , 468.1775 , 466.69275, 472.20703, 462.09985,\n",
       "        471.29816],\n",
       "       [454.89926, 459.3726 , 468.1775 , 466.69275, 472.20703, 462.09985,\n",
       "        471.29816],\n",
       "       [454.89926, 459.3726 , 468.1775 , 466.69275, 472.20703, 462.09985,\n",
       "        471.29816],\n",
       "       [454.89926, 459.3726 , 468.1775 , 466.69275, 472.20703, 462.09985,\n",
       "        471.29816],\n",
       "       [454.89926, 459.3726 , 468.1775 , 466.69275, 472.20703, 462.09985,\n",
       "        471.29816],\n",
       "       [454.89926, 459.3726 , 468.1775 , 466.69275, 472.20703, 462.09985,\n",
       "        471.29816],\n",
       "       [454.89926, 459.3726 , 468.1775 , 466.69275, 472.20703, 462.09985,\n",
       "        471.29816],\n",
       "       [454.89926, 459.3726 , 468.1775 , 466.69275, 472.20703, 462.09985,\n",
       "        471.29816],\n",
       "       [454.89926, 459.3726 , 468.1775 , 466.69275, 472.20703, 462.09985,\n",
       "        471.29816],\n",
       "       [454.89926, 459.3726 , 468.1775 , 466.69275, 472.20703, 462.09985,\n",
       "        471.29816],\n",
       "       [454.89926, 459.3726 , 468.1775 , 466.69275, 472.20703, 462.09985,\n",
       "        471.29816]], dtype=float32)"
      ]
     },
     "execution_count": 7,
     "metadata": {},
     "output_type": "execute_result"
    }
   ],
   "source": [
    "# fit test sample into batch\n",
    "max_samples_test_x = test_x.shape[0]\n",
    "padd_time = 32 - (max_samples_test_x - max_samples_test_x//32*32)\n",
    "test_x_fit_bs32 = test_x[64:]\n",
    "for i in range(padd_time):\n",
    "    test_x_fit_bs32 = np.concatenate((test_x_fit_bs32, np.expand_dims(test_x_fit_bs32[-1], axis=0)))\n",
    "test_x_fit_bs32.shape\n",
    "model_p.predict(test_x_fit_bs32)"
   ]
  },
  {
   "cell_type": "code",
   "execution_count": 8,
   "metadata": {},
   "outputs": [
    {
     "data": {
      "image/png": "[encoded data removed]",
      "text/plain": [
       "<Figure size 432x288 with 1 Axes>"
      ]
     },
     "metadata": {
      "needs_background": "light"
     },
     "output_type": "display_data"
    }
   ],
   "source": [
    "pred = model_s.predict(test_x[:64])\n",
    "close_pred = np.reshape(pred, (-1, 1))\n",
    "test_y_reshape = np.reshape(test_y[:64], (-1, 1))\n",
    "days = np.arange(1, len(test_y_reshape)+1)\n",
    "plt.plot(days, test_y_reshape, 'b', label='Actual line')\n",
    "plt.plot(days, close_pred, 'r', label='Predicted line')\n",
    "plt.title('TDNN')\n",
    "plt.xlabel('Days')\n",
    "plt.ylabel('Close Prices')\n",
    "plt.legend()\n",
    "plt.show()"
   ]
  },
  {
   "cell_type": "code",
   "execution_count": 9,
   "metadata": {},
   "outputs": [
    {
     "data": {
      "image/png": "[encoded data removed]",
      "text/plain": [
       "<Figure size 432x288 with 1 Axes>"
      ]
     },
     "metadata": {
      "needs_background": "light"
     },
     "output_type": "display_data"
    }
   ],
   "source": [
    "pred = model_p.predict(test_x[:64])\n",
    "close_pred = np.reshape(pred, (-1, 1))\n",
    "test_y_reshape = np.reshape(test_y[:64], (-1, 1))\n",
    "days = np.arange(1, len(test_y_reshape)+1)\n",
    "plt.plot(days, test_y_reshape, 'b', label='Actual line')\n",
    "plt.plot(days, close_pred, 'r', label='Predicted line')\n",
    "plt.title('TDNN+PSO')\n",
    "plt.xlabel('Days')\n",
    "plt.ylabel('Close Prices')\n",
    "plt.legend()\n",
    "plt.show()"
   ]
  },
  {
   "cell_type": "code",
   "execution_count": 10,
   "metadata": {},
   "outputs": [],
   "source": [
    "model_s.save('weights/tdnn.h5')\n",
    "model_s.save_weights('weights/tdnn_weight_only.h5')\n",
    "model_p.save('weights/tdnnpso.h5')\n",
    "model_p.save_weights('weights/tdnnpso_weight_only.h5')"
   ]
  },
  {
   "cell_type": "code",
   "execution_count": null,
   "metadata": {},
   "outputs": [],
   "source": []
  }
 ],
 "metadata": {
  "kernelspec": {
   "display_name": "Python 3",
   "language": "python",
   "name": "python3"
  },
  "language_info": {
   "codemirror_mode": {
    "name": "ipython",
    "version": 3
   },
   "file_extension": ".py",
   "mimetype": "text/x-python",
   "name": "python",
   "nbconvert_exporter": "python",
   "pygments_lexer": "ipython3",
   "version": "3.8.5"
  }
 },
 "nbformat": 4,
 "nbformat_minor": 4
}
