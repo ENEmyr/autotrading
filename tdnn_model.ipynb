{
 "cells": [
  {
   "cell_type": "code",
   "execution_count": 1,
   "metadata": {},
   "outputs": [
    {
     "name": "stderr",
     "output_type": "stream",
     "text": [
      "C:\\Users\\keypg\\Anaconda3\\envs\\ml\\lib\\site-packages\\numpy\\_distributor_init.py:30: UserWarning: loaded more than 1 DLL from .libs:\n",
      "C:\\Users\\keypg\\Anaconda3\\envs\\ml\\lib\\site-packages\\numpy\\.libs\\libopenblas.NOIJJG62EMASZI6NYURL6JBKM4EVBGM7.gfortran-win_amd64.dll\n",
      "C:\\Users\\keypg\\Anaconda3\\envs\\ml\\lib\\site-packages\\numpy\\.libs\\libopenblas.PYQHXLVVQ7VESDPUVUADXEVJOBGHJPAY.gfortran-win_amd64.dll\n",
      "  warnings.warn(\"loaded more than 1 DLL from .libs:\\n%s\" %\n"
     ]
    }
   ],
   "source": [
    "import numpy as np\n",
    "import tensorflow as tf\n",
    "import math, os, sys, datetime"
   ]
  },
  {
   "cell_type": "code",
   "execution_count": 2,
   "metadata": {},
   "outputs": [],
   "source": [
    "gpus = tf.config.experimental.list_physical_devices('GPU')\n",
    "if gpus:\n",
    "    try:\n",
    "        for gpu in gpus:\n",
    "            tf.config.experimental.set_memory_growth(gpu, True)\n",
    "    except RuntimeError as e:\n",
    "        print(e)"
   ]
  },
  {
   "cell_type": "code",
   "execution_count": 3,
   "metadata": {},
   "outputs": [
    {
     "name": "stdout",
     "output_type": "stream",
     "text": [
      "(288, 1, 1, 7) (288, 7) (72, 1, 1, 7) (72, 7)\n"
     ]
    }
   ],
   "source": [
    "dataset = np.load('dataset/all_data-preprocessed.npz')\n",
    "features, labels = dataset['features'].astype('float32'), dataset['labels'].astype('float32')\n",
    "train_test_split_factor = .8\n",
    "validation_split_factor = .2\n",
    "train_x, train_y, test_x, test_y = features[:math.floor(len(features)*train_test_split_factor)], labels[:math.floor(len(labels)*train_test_split_factor)], features[math.floor(len(features)*train_test_split_factor):], labels[math.floor(len(labels)*train_test_split_factor):]\n",
    "train_x, test_x = np.expand_dims(train_x, axis=1), np.expand_dims(test_x, axis=1) # for use with TimeDistributed\n",
    "input_shape = train_x.shape\n",
    "#train_x, test_x = train_x.reshape((1, -1)), test_x.reshape((1, -1))\n",
    "#train_y, test_y = np.expand_dims(train_y, axis=1), np.expand_dims(test_y, axis=1) # for use with TimeDistributed\n",
    "print(train_x.shape, train_y.shape, test_x.shape, test_y.shape)"
   ]
  },
  {
   "cell_type": "code",
   "execution_count": 4,
   "metadata": {},
   "outputs": [],
   "source": [
    "class endCallback(tf.keras.callbacks.Callback):\n",
    "    def on_epoch_end(self, epoch, logs = {}):\n",
    "        if logs.get(\"accuracy\") >= .99 or logs.get(\"val_accuracy\") > .95:\n",
    "            print('\\nAccuracy reach the satification point, Stop Training.')\n",
    "            self.model.stop_training = True\n",
    "            try:\n",
    "                print('\\nSaving the model')\n",
    "                if os.path.isdir('./model_out') == False:\n",
    "                    os.path.mkdir('./model_out')\n",
    "                self.model.save(f'./model_out/model-{datetime.datetime.now().strftime(\"%Y%m%d-%H%M%S\")}.h5')\n",
    "            except Exception as e:\n",
    "                print(f'Error : {e}')"
   ]
  },
  {
   "cell_type": "code",
   "execution_count": 5,
   "metadata": {},
   "outputs": [],
   "source": [
    "log_dir = \"logs/fit/\" + datetime.datetime.now().strftime(\"%Y%m%d-%H%M%S\")\n",
    "ckp_path = './save_ckp/checkpoints'\n",
    "tensorboard_callback = tf.keras.callbacks.TensorBoard(log_dir, histogram_freq=1)\n",
    "checkpoint_callback = tf.keras.callbacks.ModelCheckpoint(\n",
    "    filepath=ckp_path,\n",
    "    monitor='val_loss',\n",
    "    save_best_only=True,\n",
    "    save_freq='epoch',\n",
    "    save_weights_only=True\n",
    ")\n",
    "layers = [\n",
    "    tf.keras.layers.TimeDistributed(tf.keras.layers.Conv1D(7, 3, padding='same', activation='relu', input_shape=input_shape[1:])),\n",
    "    tf.keras.layers.TimeDistributed(tf.keras.layers.Conv1D(7, 3, padding='same', activation='relu', dilation_rate=2)),\n",
    "    tf.keras.layers.TimeDistributed(tf.keras.layers.Conv1D(14, 3, padding='same', activation='relu', dilation_rate=1)),\n",
    "    tf.keras.layers.TimeDistributed(tf.keras.layers.Conv1D(36, 3, padding='same', activation='relu', dilation_rate=1)),\n",
    "    tf.keras.layers.Dense(70, activation='relu'),\n",
    "    tf.keras.layers.Flatten(),\n",
    "    tf.keras.layers.Dense(7, activation='linear')\n",
    "]\n",
    "model = tf.keras.models.Sequential(layers=layers)\n",
    "#model.compile(optimizer='adam', loss=tf.keras.losses.MeanSquaredError(), metrics=['accuracy', tf.keras.metrics.MeanSquaredError()])\n",
    "model.compile(optimizer='adam', loss=tf.keras.losses.MeanSquaredError(), metrics=['accuracy'])\n",
    "#model.summary()"
   ]
  },
  {
   "cell_type": "code",
   "execution_count": 6,
   "metadata": {},
   "outputs": [
    {
     "name": "stdout",
     "output_type": "stream",
     "text": [
      "Epoch 1/250\n",
      "1/8 [==>...........................] - ETA: 0s - loss: 1081074.0000 - accuracy: 0.1250WARNING:tensorflow:From C:\\Users\\keypg\\Anaconda3\\envs\\ml\\lib\\site-packages\\tensorflow\\python\\ops\\summary_ops_v2.py:1277: stop (from tensorflow.python.eager.profiler) is deprecated and will be removed after 2020-07-01.\n",
      "Instructions for updating:\n",
      "use `tf.profiler.experimental.stop` instead.\n",
      "2/8 [======>.......................] - ETA: 0s - loss: 1000157.7500 - accuracy: 0.1094WARNING:tensorflow:Callbacks method `on_train_batch_end` is slow compared to the batch time (batch time: 0.0040s vs `on_train_batch_end` time: 0.2860s). Check your callbacks.\n",
      "8/8 [==============================] - 1s 135ms/step - loss: 1063893.0000 - accuracy: 0.1609 - val_loss: 69016.3125 - val_accuracy: 0.1379\n",
      "Epoch 2/250\n",
      "8/8 [==============================] - 0s 47ms/step - loss: 1063824.5000 - accuracy: 0.1609 - val_loss: 68997.7734 - val_accuracy: 0.1379\n",
      "Epoch 3/250\n",
      "8/8 [==============================] - 0s 44ms/step - loss: 1063722.6250 - accuracy: 0.1609 - val_loss: 68969.0703 - val_accuracy: 0.1379\n",
      "Epoch 4/250\n",
      "8/8 [==============================] - 0s 40ms/step - loss: 1063566.2500 - accuracy: 0.1609 - val_loss: 68922.9922 - val_accuracy: 0.1379\n",
      "Epoch 5/250\n",
      "8/8 [==============================] - 0s 41ms/step - loss: 1063284.1250 - accuracy: 0.1609 - val_loss: 68849.4922 - val_accuracy: 0.1379\n",
      "Epoch 6/250\n",
      "8/8 [==============================] - 0s 38ms/step - loss: 1062821.8750 - accuracy: 0.1609 - val_loss: 68724.6953 - val_accuracy: 0.1379\n",
      "Epoch 7/250\n",
      "8/8 [==============================] - 0s 35ms/step - loss: 1061990.0000 - accuracy: 0.1609 - val_loss: 68516.7188 - val_accuracy: 0.1379\n",
      "Epoch 8/250\n",
      "8/8 [==============================] - 0s 36ms/step - loss: 1060595.0000 - accuracy: 0.1609 - val_loss: 68180.0547 - val_accuracy: 0.1379\n",
      "Epoch 9/250\n",
      "8/8 [==============================] - 0s 34ms/step - loss: 1058468.6250 - accuracy: 0.1609 - val_loss: 67646.7031 - val_accuracy: 0.1379\n",
      "Epoch 10/250\n",
      "8/8 [==============================] - 0s 31ms/step - loss: 1054649.3750 - accuracy: 0.1609 - val_loss: 66855.5234 - val_accuracy: 0.1379\n",
      "Epoch 11/250\n",
      "8/8 [==============================] - 0s 40ms/step - loss: 1049246.1250 - accuracy: 0.1609 - val_loss: 65669.5547 - val_accuracy: 0.1379\n",
      "Epoch 12/250\n",
      "8/8 [==============================] - 0s 37ms/step - loss: 1040756.8125 - accuracy: 0.1609 - val_loss: 63888.5078 - val_accuracy: 0.1379\n",
      "Epoch 13/250\n",
      "8/8 [==============================] - 0s 33ms/step - loss: 1027655.1875 - accuracy: 0.1609 - val_loss: 61404.0977 - val_accuracy: 0.1379\n",
      "Epoch 14/250\n",
      "8/8 [==============================] - 0s 39ms/step - loss: 1008371.6250 - accuracy: 0.1609 - val_loss: 58017.1719 - val_accuracy: 0.1379\n",
      "Epoch 15/250\n",
      "8/8 [==============================] - 0s 43ms/step - loss: 980469.0625 - accuracy: 0.1609 - val_loss: 53888.8398 - val_accuracy: 0.1379\n",
      "Epoch 16/250\n",
      "8/8 [==============================] - 0s 39ms/step - loss: 943665.8125 - accuracy: 0.1609 - val_loss: 49300.3359 - val_accuracy: 0.1379\n",
      "Epoch 17/250\n",
      "8/8 [==============================] - 0s 38ms/step - loss: 892017.3125 - accuracy: 0.1609 - val_loss: 45163.0781 - val_accuracy: 0.1379\n",
      "Epoch 18/250\n",
      "8/8 [==============================] - 0s 55ms/step - loss: 824639.3750 - accuracy: 0.1609 - val_loss: 42567.6836 - val_accuracy: 0.1379\n",
      "Epoch 19/250\n",
      "8/8 [==============================] - 0s 44ms/step - loss: 741398.1250 - accuracy: 0.1609 - val_loss: 41137.0117 - val_accuracy: 0.1379\n",
      "Epoch 20/250\n",
      "8/8 [==============================] - 0s 37ms/step - loss: 641594.0000 - accuracy: 0.1609 - val_loss: 40302.0898 - val_accuracy: 0.1379\n",
      "Epoch 21/250\n",
      "8/8 [==============================] - 0s 40ms/step - loss: 516796.3438 - accuracy: 0.1609 - val_loss: 39916.8672 - val_accuracy: 0.1379\n",
      "Epoch 22/250\n",
      "8/8 [==============================] - 0s 38ms/step - loss: 390828.2188 - accuracy: 0.1609 - val_loss: 39663.3594 - val_accuracy: 0.1379\n",
      "Epoch 23/250\n",
      "8/8 [==============================] - 0s 46ms/step - loss: 256664.1406 - accuracy: 0.1609 - val_loss: 39517.4688 - val_accuracy: 0.1379\n",
      "Epoch 24/250\n",
      "8/8 [==============================] - 0s 21ms/step - loss: 150397.8281 - accuracy: 0.1609 - val_loss: 39707.6211 - val_accuracy: 0.1379\n",
      "Epoch 25/250\n",
      "8/8 [==============================] - 0s 36ms/step - loss: 73577.9141 - accuracy: 0.1609 - val_loss: 38197.9297 - val_accuracy: 0.1379\n",
      "Epoch 26/250\n",
      "8/8 [==============================] - 0s 37ms/step - loss: 40323.1172 - accuracy: 0.1609 - val_loss: 35278.3633 - val_accuracy: 0.1379\n",
      "Epoch 27/250\n",
      "8/8 [==============================] - 0s 39ms/step - loss: 30220.7246 - accuracy: 0.1609 - val_loss: 30338.9629 - val_accuracy: 0.1379\n",
      "Epoch 28/250\n",
      "8/8 [==============================] - 0s 36ms/step - loss: 26504.8887 - accuracy: 0.1609 - val_loss: 25938.3750 - val_accuracy: 0.1379\n",
      "Epoch 29/250\n",
      "8/8 [==============================] - 0s 36ms/step - loss: 21563.0527 - accuracy: 0.1609 - val_loss: 22800.1719 - val_accuracy: 0.1379\n",
      "Epoch 30/250\n",
      "8/8 [==============================] - 0s 43ms/step - loss: 17789.2715 - accuracy: 0.1609 - val_loss: 20770.4785 - val_accuracy: 0.1379\n",
      "Epoch 31/250\n",
      "8/8 [==============================] - 0s 35ms/step - loss: 15807.3281 - accuracy: 0.1609 - val_loss: 19445.2363 - val_accuracy: 0.1379\n",
      "Epoch 32/250\n",
      "8/8 [==============================] - 0s 34ms/step - loss: 14239.8145 - accuracy: 0.1609 - val_loss: 18304.7930 - val_accuracy: 0.1379\n",
      "Epoch 33/250\n",
      "8/8 [==============================] - 0s 37ms/step - loss: 12951.3389 - accuracy: 0.1609 - val_loss: 17303.8828 - val_accuracy: 0.1379\n",
      "Epoch 34/250\n",
      "8/8 [==============================] - 0s 35ms/step - loss: 11914.8408 - accuracy: 0.1609 - val_loss: 16648.7207 - val_accuracy: 0.3793\n",
      "Epoch 35/250\n",
      "8/8 [==============================] - 0s 39ms/step - loss: 11148.0342 - accuracy: 0.3217 - val_loss: 16155.4463 - val_accuracy: 0.3793\n",
      "Epoch 36/250\n",
      "8/8 [==============================] - 0s 40ms/step - loss: 10544.0850 - accuracy: 0.3478 - val_loss: 15748.0195 - val_accuracy: 0.3793\n",
      "Epoch 37/250\n",
      "8/8 [==============================] - 0s 32ms/step - loss: 10047.4404 - accuracy: 0.3478 - val_loss: 15560.6074 - val_accuracy: 0.3793\n",
      "Epoch 38/250\n",
      "8/8 [==============================] - 0s 21ms/step - loss: 9747.8018 - accuracy: 0.3478 - val_loss: 15575.4902 - val_accuracy: 0.3793\n",
      "Epoch 39/250\n",
      "8/8 [==============================] - 0s 40ms/step - loss: 9646.3564 - accuracy: 0.3478 - val_loss: 15315.0664 - val_accuracy: 0.3793\n",
      "Epoch 40/250\n",
      "8/8 [==============================] - 0s 49ms/step - loss: 9406.0195 - accuracy: 0.3478 - val_loss: 15032.1816 - val_accuracy: 0.3793\n",
      "Epoch 41/250\n",
      "8/8 [==============================] - 0s 45ms/step - loss: 9279.4355 - accuracy: 0.3478 - val_loss: 14777.7627 - val_accuracy: 0.3793\n",
      "Epoch 42/250\n",
      "8/8 [==============================] - 0s 50ms/step - loss: 9118.7148 - accuracy: 0.3478 - val_loss: 14628.7520 - val_accuracy: 0.3793\n",
      "Epoch 43/250\n",
      "8/8 [==============================] - 0s 45ms/step - loss: 9067.5459 - accuracy: 0.3478 - val_loss: 14436.8047 - val_accuracy: 0.3793\n",
      "Epoch 44/250\n",
      "8/8 [==============================] - 0s 40ms/step - loss: 8939.1855 - accuracy: 0.3478 - val_loss: 13996.4297 - val_accuracy: 0.3793\n",
      "Epoch 45/250\n",
      "8/8 [==============================] - 0s 41ms/step - loss: 8795.4775 - accuracy: 0.3478 - val_loss: 13604.8867 - val_accuracy: 0.3793\n",
      "Epoch 46/250\n",
      "8/8 [==============================] - 0s 46ms/step - loss: 8690.5596 - accuracy: 0.3478 - val_loss: 13289.8662 - val_accuracy: 0.3793\n",
      "Epoch 47/250\n",
      "8/8 [==============================] - 0s 45ms/step - loss: 8582.9062 - accuracy: 0.3478 - val_loss: 13002.3066 - val_accuracy: 0.3793\n",
      "Epoch 48/250\n",
      "8/8 [==============================] - 0s 38ms/step - loss: 8474.8594 - accuracy: 0.3478 - val_loss: 12656.5371 - val_accuracy: 0.3793\n",
      "Epoch 49/250\n",
      "8/8 [==============================] - 0s 37ms/step - loss: 8370.4863 - accuracy: 0.3478 - val_loss: 12399.5996 - val_accuracy: 0.3793\n",
      "Epoch 50/250\n",
      "8/8 [==============================] - 0s 45ms/step - loss: 8230.0938 - accuracy: 0.3478 - val_loss: 12290.3340 - val_accuracy: 0.3793\n",
      "Epoch 51/250\n",
      "8/8 [==============================] - 0s 45ms/step - loss: 8064.3081 - accuracy: 0.3478 - val_loss: 12057.0322 - val_accuracy: 0.3793\n",
      "Epoch 52/250\n",
      "8/8 [==============================] - 0s 39ms/step - loss: 7930.0776 - accuracy: 0.3478 - val_loss: 11807.0117 - val_accuracy: 0.3793\n",
      "Epoch 53/250\n",
      "8/8 [==============================] - 0s 38ms/step - loss: 7799.4165 - accuracy: 0.3478 - val_loss: 11495.4619 - val_accuracy: 0.3793\n",
      "Epoch 54/250\n",
      "8/8 [==============================] - 0s 36ms/step - loss: 7668.2495 - accuracy: 0.3478 - val_loss: 11149.0723 - val_accuracy: 0.3793\n",
      "Epoch 55/250\n",
      "8/8 [==============================] - 0s 41ms/step - loss: 7511.9468 - accuracy: 0.3478 - val_loss: 10843.2881 - val_accuracy: 0.3793\n",
      "Epoch 56/250\n",
      "8/8 [==============================] - 0s 39ms/step - loss: 7390.3062 - accuracy: 0.3478 - val_loss: 10590.5283 - val_accuracy: 0.3793\n",
      "Epoch 57/250\n",
      "8/8 [==============================] - 0s 44ms/step - loss: 7228.4658 - accuracy: 0.3478 - val_loss: 10380.4805 - val_accuracy: 0.3793\n",
      "Epoch 58/250\n",
      "8/8 [==============================] - 0s 39ms/step - loss: 7105.1675 - accuracy: 0.3478 - val_loss: 10132.5713 - val_accuracy: 0.3793\n",
      "Epoch 59/250\n",
      "8/8 [==============================] - 0s 38ms/step - loss: 7023.7095 - accuracy: 0.3478 - val_loss: 9820.9102 - val_accuracy: 0.3793\n",
      "Epoch 60/250\n",
      "8/8 [==============================] - 0s 38ms/step - loss: 6848.1719 - accuracy: 0.3478 - val_loss: 9567.7109 - val_accuracy: 0.3793\n",
      "Epoch 61/250\n",
      "8/8 [==============================] - 0s 57ms/step - loss: 6731.4414 - accuracy: 0.3478 - val_loss: 9368.2568 - val_accuracy: 0.3793\n",
      "Epoch 62/250\n",
      "8/8 [==============================] - 0s 41ms/step - loss: 6607.6182 - accuracy: 0.3478 - val_loss: 9078.3789 - val_accuracy: 0.3793\n",
      "Epoch 63/250\n",
      "8/8 [==============================] - 0s 36ms/step - loss: 6444.6362 - accuracy: 0.3478 - val_loss: 8899.9600 - val_accuracy: 0.3793\n",
      "Epoch 64/250\n",
      "8/8 [==============================] - 0s 38ms/step - loss: 6423.4263 - accuracy: 0.3478 - val_loss: 8798.3809 - val_accuracy: 0.3793\n",
      "Epoch 65/250\n",
      "8/8 [==============================] - 0s 46ms/step - loss: 6227.3560 - accuracy: 0.3478 - val_loss: 8257.9678 - val_accuracy: 0.3793\n",
      "Epoch 66/250\n",
      "8/8 [==============================] - 0s 46ms/step - loss: 6017.7417 - accuracy: 0.3478 - val_loss: 7877.0723 - val_accuracy: 0.3793\n",
      "Epoch 67/250\n",
      "8/8 [==============================] - 0s 39ms/step - loss: 5907.7402 - accuracy: 0.3478 - val_loss: 7598.5498 - val_accuracy: 0.3793\n",
      "Epoch 68/250\n",
      "8/8 [==============================] - 0s 37ms/step - loss: 5735.3550 - accuracy: 0.3478 - val_loss: 7435.6396 - val_accuracy: 0.3793\n",
      "Epoch 69/250\n",
      "8/8 [==============================] - 0s 38ms/step - loss: 5608.4731 - accuracy: 0.3478 - val_loss: 7250.2402 - val_accuracy: 0.3793\n",
      "Epoch 70/250\n",
      "8/8 [==============================] - 0s 37ms/step - loss: 5460.7456 - accuracy: 0.3478 - val_loss: 6881.5000 - val_accuracy: 0.3793\n",
      "Epoch 71/250\n",
      "8/8 [==============================] - 0s 41ms/step - loss: 5335.4839 - accuracy: 0.3478 - val_loss: 6642.0571 - val_accuracy: 0.3793\n",
      "Epoch 72/250\n",
      "8/8 [==============================] - 0s 50ms/step - loss: 5202.8364 - accuracy: 0.3478 - val_loss: 6529.6357 - val_accuracy: 0.3793\n",
      "Epoch 73/250\n",
      "8/8 [==============================] - 0s 42ms/step - loss: 5040.2056 - accuracy: 0.3478 - val_loss: 6218.3032 - val_accuracy: 0.3793\n",
      "Epoch 74/250\n",
      "8/8 [==============================] - 0s 41ms/step - loss: 4888.1133 - accuracy: 0.3478 - val_loss: 5908.4170 - val_accuracy: 0.3793\n",
      "Epoch 75/250\n",
      "8/8 [==============================] - 0s 36ms/step - loss: 4753.4468 - accuracy: 0.3478 - val_loss: 5590.1279 - val_accuracy: 0.3793\n",
      "Epoch 76/250\n",
      "8/8 [==============================] - 0s 36ms/step - loss: 4662.5742 - accuracy: 0.3478 - val_loss: 5426.5103 - val_accuracy: 0.3793\n",
      "Epoch 77/250\n",
      "8/8 [==============================] - 0s 20ms/step - loss: 4563.9980 - accuracy: 0.3478 - val_loss: 5456.2715 - val_accuracy: 0.3793\n",
      "Epoch 78/250\n",
      "8/8 [==============================] - 0s 34ms/step - loss: 4544.8433 - accuracy: 0.3478 - val_loss: 5199.0967 - val_accuracy: 0.3793\n",
      "Epoch 79/250\n",
      "8/8 [==============================] - 0s 46ms/step - loss: 4278.3604 - accuracy: 0.3478 - val_loss: 4792.3027 - val_accuracy: 0.3793\n",
      "Epoch 80/250\n",
      "8/8 [==============================] - 0s 51ms/step - loss: 4180.1152 - accuracy: 0.3478 - val_loss: 4441.2358 - val_accuracy: 0.3793\n",
      "Epoch 81/250\n",
      "8/8 [==============================] - 0s 50ms/step - loss: 4137.5952 - accuracy: 0.3478 - val_loss: 4342.1597 - val_accuracy: 0.3793\n",
      "Epoch 82/250\n",
      "8/8 [==============================] - 0s 59ms/step - loss: 3961.4517 - accuracy: 0.3478 - val_loss: 4207.7002 - val_accuracy: 0.3793\n",
      "Epoch 83/250\n",
      "8/8 [==============================] - 0s 47ms/step - loss: 3855.8535 - accuracy: 0.3478 - val_loss: 4026.8589 - val_accuracy: 0.3793\n",
      "Epoch 84/250\n",
      "8/8 [==============================] - 0s 46ms/step - loss: 3792.1633 - accuracy: 0.3478 - val_loss: 3765.2100 - val_accuracy: 0.3793\n",
      "Epoch 85/250\n",
      "8/8 [==============================] - 0s 34ms/step - loss: 3775.8657 - accuracy: 0.3478 - val_loss: 3551.4785 - val_accuracy: 0.3793\n",
      "Epoch 86/250\n",
      "8/8 [==============================] - 0s 36ms/step - loss: 3620.4951 - accuracy: 0.3478 - val_loss: 3498.0657 - val_accuracy: 0.3793\n",
      "Epoch 87/250\n",
      "8/8 [==============================] - 0s 42ms/step - loss: 3490.8477 - accuracy: 0.3478 - val_loss: 3401.1479 - val_accuracy: 0.3793\n",
      "Epoch 88/250\n",
      "8/8 [==============================] - 0s 44ms/step - loss: 3457.4475 - accuracy: 0.3478 - val_loss: 3277.5459 - val_accuracy: 0.3793\n",
      "Epoch 89/250\n",
      "8/8 [==============================] - 0s 41ms/step - loss: 3377.6616 - accuracy: 0.3478 - val_loss: 3053.6682 - val_accuracy: 0.3793\n",
      "Epoch 90/250\n",
      "8/8 [==============================] - 1s 75ms/step - loss: 3337.8110 - accuracy: 0.3478 - val_loss: 2929.0146 - val_accuracy: 0.3793\n",
      "Epoch 91/250\n",
      "8/8 [==============================] - 0s 42ms/step - loss: 3255.9226 - accuracy: 0.3478 - val_loss: 2874.8184 - val_accuracy: 0.3793\n",
      "Epoch 92/250\n",
      "8/8 [==============================] - 0s 43ms/step - loss: 3182.8645 - accuracy: 0.3478 - val_loss: 2786.0830 - val_accuracy: 0.3793\n",
      "Epoch 93/250\n",
      "8/8 [==============================] - 0s 46ms/step - loss: 3123.4104 - accuracy: 0.3478 - val_loss: 2644.8601 - val_accuracy: 0.3793\n",
      "Epoch 94/250\n",
      "8/8 [==============================] - 0s 44ms/step - loss: 3066.8433 - accuracy: 0.3478 - val_loss: 2461.5063 - val_accuracy: 0.3793\n",
      "Epoch 95/250\n",
      "8/8 [==============================] - 0s 35ms/step - loss: 3011.2434 - accuracy: 0.3478 - val_loss: 2345.9766 - val_accuracy: 0.3793\n",
      "Epoch 96/250\n",
      "8/8 [==============================] - 0s 34ms/step - loss: 2970.8210 - accuracy: 0.3478 - val_loss: 2239.3984 - val_accuracy: 0.3793\n",
      "Epoch 97/250\n",
      "8/8 [==============================] - 0s 43ms/step - loss: 2932.0381 - accuracy: 0.3478 - val_loss: 2107.4397 - val_accuracy: 0.3793\n",
      "Epoch 98/250\n",
      "8/8 [==============================] - 0s 42ms/step - loss: 2863.0750 - accuracy: 0.3478 - val_loss: 2076.5730 - val_accuracy: 0.3793\n",
      "Epoch 99/250\n",
      "8/8 [==============================] - 0s 37ms/step - loss: 2810.8020 - accuracy: 0.3478 - val_loss: 2048.6812 - val_accuracy: 0.3793\n",
      "Epoch 100/250\n",
      "8/8 [==============================] - 0s 38ms/step - loss: 2785.8784 - accuracy: 0.3478 - val_loss: 1896.8180 - val_accuracy: 0.3793\n",
      "Epoch 101/250\n",
      "8/8 [==============================] - 0s 39ms/step - loss: 2731.9976 - accuracy: 0.3478 - val_loss: 1758.7080 - val_accuracy: 0.3793\n",
      "Epoch 102/250\n",
      "8/8 [==============================] - 0s 34ms/step - loss: 2725.2927 - accuracy: 0.3478 - val_loss: 1668.8442 - val_accuracy: 0.3793\n",
      "Epoch 103/250\n",
      "8/8 [==============================] - 0s 39ms/step - loss: 2729.6418 - accuracy: 0.3478 - val_loss: 1654.4052 - val_accuracy: 0.3793\n",
      "Epoch 104/250\n",
      "8/8 [==============================] - 0s 33ms/step - loss: 2646.9519 - accuracy: 0.3478 - val_loss: 1607.8784 - val_accuracy: 0.3793\n",
      "Epoch 105/250\n",
      "8/8 [==============================] - 0s 16ms/step - loss: 2632.3096 - accuracy: 0.3478 - val_loss: 1647.0771 - val_accuracy: 0.3793\n",
      "Epoch 106/250\n",
      "8/8 [==============================] - 0s 38ms/step - loss: 2748.7063 - accuracy: 0.3478 - val_loss: 1490.6060 - val_accuracy: 0.3793\n",
      "Epoch 107/250\n",
      "8/8 [==============================] - 0s 33ms/step - loss: 2598.7603 - accuracy: 0.3478 - val_loss: 1298.1169 - val_accuracy: 0.3793\n",
      "Epoch 108/250\n",
      "8/8 [==============================] - 0s 39ms/step - loss: 2566.3596 - accuracy: 0.3478 - val_loss: 1229.5090 - val_accuracy: 0.3793\n",
      "Epoch 109/250\n",
      "8/8 [==============================] - 0s 19ms/step - loss: 2526.1582 - accuracy: 0.3478 - val_loss: 1240.1473 - val_accuracy: 0.3793\n",
      "Epoch 110/250\n",
      "8/8 [==============================] - 0s 42ms/step - loss: 2522.5122 - accuracy: 0.3478 - val_loss: 1205.9463 - val_accuracy: 0.3793\n",
      "Epoch 111/250\n",
      "8/8 [==============================] - 0s 34ms/step - loss: 2471.3721 - accuracy: 0.3478 - val_loss: 1148.8043 - val_accuracy: 0.3793\n",
      "Epoch 112/250\n",
      "8/8 [==============================] - 0s 35ms/step - loss: 2462.4202 - accuracy: 0.3478 - val_loss: 1082.7554 - val_accuracy: 0.3793\n",
      "Epoch 113/250\n",
      "8/8 [==============================] - 0s 42ms/step - loss: 2423.5454 - accuracy: 0.3478 - val_loss: 1009.6743 - val_accuracy: 0.3793\n",
      "Epoch 114/250\n",
      "8/8 [==============================] - 0s 38ms/step - loss: 2406.6968 - accuracy: 0.3478 - val_loss: 954.7154 - val_accuracy: 0.3793\n",
      "Epoch 115/250\n",
      "8/8 [==============================] - 0s 41ms/step - loss: 2396.0393 - accuracy: 0.3478 - val_loss: 944.9195 - val_accuracy: 0.3793\n",
      "Epoch 116/250\n",
      "8/8 [==============================] - 0s 36ms/step - loss: 2403.2390 - accuracy: 0.3478 - val_loss: 933.3792 - val_accuracy: 0.3793\n",
      "Epoch 117/250\n",
      "8/8 [==============================] - 0s 46ms/step - loss: 2340.7693 - accuracy: 0.3478 - val_loss: 847.5976 - val_accuracy: 0.3793\n",
      "Epoch 118/250\n",
      "8/8 [==============================] - 0s 37ms/step - loss: 2348.5842 - accuracy: 0.3478 - val_loss: 807.4806 - val_accuracy: 0.3793\n",
      "Epoch 119/250\n",
      "8/8 [==============================] - 0s 43ms/step - loss: 2333.1428 - accuracy: 0.3478 - val_loss: 754.5966 - val_accuracy: 0.3793\n",
      "Epoch 120/250\n",
      "8/8 [==============================] - 0s 43ms/step - loss: 2373.9475 - accuracy: 0.3478 - val_loss: 724.4457 - val_accuracy: 0.3793\n",
      "Epoch 121/250\n",
      "8/8 [==============================] - 0s 19ms/step - loss: 2291.9595 - accuracy: 0.3478 - val_loss: 745.4576 - val_accuracy: 0.3793\n",
      "Epoch 122/250\n",
      "8/8 [==============================] - 0s 22ms/step - loss: 2303.8157 - accuracy: 0.3478 - val_loss: 733.4029 - val_accuracy: 0.3793\n",
      "Epoch 123/250\n",
      "8/8 [==============================] - 0s 37ms/step - loss: 2273.4868 - accuracy: 0.3478 - val_loss: 664.5839 - val_accuracy: 0.3793\n",
      "Epoch 124/250\n",
      "8/8 [==============================] - 0s 40ms/step - loss: 2278.0144 - accuracy: 0.3478 - val_loss: 636.9340 - val_accuracy: 0.3793\n",
      "Epoch 125/250\n",
      "8/8 [==============================] - 0s 18ms/step - loss: 2257.2920 - accuracy: 0.3478 - val_loss: 640.3320 - val_accuracy: 0.3793\n",
      "Epoch 126/250\n",
      "8/8 [==============================] - 0s 35ms/step - loss: 2253.6663 - accuracy: 0.3478 - val_loss: 621.1500 - val_accuracy: 0.3793\n",
      "Epoch 127/250\n",
      "8/8 [==============================] - 0s 38ms/step - loss: 2304.0640 - accuracy: 0.3478 - val_loss: 560.6841 - val_accuracy: 0.3793\n",
      "Epoch 128/250\n",
      "8/8 [==============================] - 0s 23ms/step - loss: 2263.7551 - accuracy: 0.3478 - val_loss: 578.1873 - val_accuracy: 0.3793\n",
      "Epoch 129/250\n",
      "8/8 [==============================] - 0s 19ms/step - loss: 2240.1775 - accuracy: 0.3478 - val_loss: 566.2194 - val_accuracy: 0.3793\n",
      "Epoch 130/250\n",
      "8/8 [==============================] - 0s 47ms/step - loss: 2230.3503 - accuracy: 0.3478 - val_loss: 544.6429 - val_accuracy: 0.3793\n",
      "Epoch 131/250\n",
      "8/8 [==============================] - 0s 45ms/step - loss: 2214.1072 - accuracy: 0.3478 - val_loss: 507.0510 - val_accuracy: 0.3793\n",
      "Epoch 132/250\n",
      "8/8 [==============================] - 0s 37ms/step - loss: 2230.5713 - accuracy: 0.3478 - val_loss: 475.8852 - val_accuracy: 0.3793\n",
      "Epoch 133/250\n",
      "8/8 [==============================] - 0s 17ms/step - loss: 2190.9238 - accuracy: 0.3478 - val_loss: 479.2557 - val_accuracy: 0.3793\n",
      "Epoch 134/250\n",
      "8/8 [==============================] - 0s 16ms/step - loss: 2277.2812 - accuracy: 0.3478 - val_loss: 494.5680 - val_accuracy: 0.3793\n",
      "Epoch 135/250\n",
      "8/8 [==============================] - 0s 33ms/step - loss: 2206.2410 - accuracy: 0.3478 - val_loss: 443.0342 - val_accuracy: 0.3793\n",
      "Epoch 136/250\n",
      "8/8 [==============================] - 0s 40ms/step - loss: 2179.7722 - accuracy: 0.3478 - val_loss: 420.1021 - val_accuracy: 0.3793\n",
      "Epoch 137/250\n",
      "8/8 [==============================] - 0s 40ms/step - loss: 2184.9180 - accuracy: 0.3478 - val_loss: 403.4274 - val_accuracy: 0.3793\n",
      "Epoch 138/250\n",
      "8/8 [==============================] - 0s 51ms/step - loss: 2189.1875 - accuracy: 0.3478 - val_loss: 387.6516 - val_accuracy: 0.3793\n",
      "Epoch 139/250\n",
      "8/8 [==============================] - 0s 20ms/step - loss: 2212.7974 - accuracy: 0.3478 - val_loss: 399.7894 - val_accuracy: 0.3793\n",
      "Epoch 140/250\n",
      "8/8 [==============================] - 0s 42ms/step - loss: 2169.2805 - accuracy: 0.3478 - val_loss: 367.2733 - val_accuracy: 0.3793\n",
      "Epoch 141/250\n",
      "8/8 [==============================] - 0s 21ms/step - loss: 2152.2822 - accuracy: 0.3478 - val_loss: 378.8548 - val_accuracy: 0.3793\n",
      "Epoch 142/250\n",
      "8/8 [==============================] - 0s 36ms/step - loss: 2142.6433 - accuracy: 0.3478 - val_loss: 349.6888 - val_accuracy: 0.3793\n",
      "Epoch 143/250\n",
      "8/8 [==============================] - 0s 34ms/step - loss: 2160.5203 - accuracy: 0.3478 - val_loss: 333.3887 - val_accuracy: 0.3793\n",
      "Epoch 144/250\n",
      "8/8 [==============================] - 0s 44ms/step - loss: 2209.0232 - accuracy: 0.3478 - val_loss: 306.7444 - val_accuracy: 0.3793\n",
      "Epoch 145/250\n",
      "8/8 [==============================] - 0s 35ms/step - loss: 2164.2036 - accuracy: 0.3478 - val_loss: 324.0561 - val_accuracy: 0.3793\n",
      "Epoch 146/250\n",
      "8/8 [==============================] - 0s 28ms/step - loss: 2184.3564 - accuracy: 0.3478 - val_loss: 341.0144 - val_accuracy: 0.3793\n",
      "Epoch 147/250\n",
      "8/8 [==============================] - 0s 42ms/step - loss: 2130.1992 - accuracy: 0.3478 - val_loss: 284.2270 - val_accuracy: 0.3793\n",
      "Epoch 148/250\n",
      "8/8 [==============================] - 0s 17ms/step - loss: 2229.2151 - accuracy: 0.3478 - val_loss: 290.4526 - val_accuracy: 0.3793\n",
      "Epoch 149/250\n",
      "8/8 [==============================] - 0s 18ms/step - loss: 2132.7197 - accuracy: 0.3478 - val_loss: 304.3224 - val_accuracy: 0.3793\n",
      "Epoch 150/250\n",
      "8/8 [==============================] - 0s 20ms/step - loss: 2158.9958 - accuracy: 0.3478 - val_loss: 320.1505 - val_accuracy: 0.3793\n",
      "Epoch 151/250\n",
      "8/8 [==============================] - 0s 40ms/step - loss: 2104.5967 - accuracy: 0.3478 - val_loss: 272.6943 - val_accuracy: 0.3793\n",
      "Epoch 152/250\n",
      "8/8 [==============================] - 0s 36ms/step - loss: 2234.7212 - accuracy: 0.3478 - val_loss: 255.8022 - val_accuracy: 0.3793\n",
      "Epoch 153/250\n",
      "8/8 [==============================] - 0s 20ms/step - loss: 2155.4133 - accuracy: 0.3478 - val_loss: 260.4788 - val_accuracy: 0.3793\n",
      "Epoch 154/250\n",
      "8/8 [==============================] - 0s 21ms/step - loss: 2094.8579 - accuracy: 0.3478 - val_loss: 267.4812 - val_accuracy: 0.3793\n",
      "Epoch 155/250\n",
      "8/8 [==============================] - 0s 22ms/step - loss: 2146.7288 - accuracy: 0.3478 - val_loss: 269.1516 - val_accuracy: 0.3793\n",
      "Epoch 156/250\n",
      "8/8 [==============================] - 0s 38ms/step - loss: 2075.0784 - accuracy: 0.3478 - val_loss: 245.1169 - val_accuracy: 0.3793\n",
      "Epoch 157/250\n",
      "8/8 [==============================] - 0s 38ms/step - loss: 2064.1006 - accuracy: 0.3478 - val_loss: 228.1336 - val_accuracy: 0.3793\n",
      "Epoch 158/250\n",
      "8/8 [==============================] - 0s 22ms/step - loss: 2137.3748 - accuracy: 0.3478 - val_loss: 234.5088 - val_accuracy: 0.3793\n",
      "Epoch 159/250\n",
      "8/8 [==============================] - 0s 27ms/step - loss: 2080.4321 - accuracy: 0.3478 - val_loss: 240.7443 - val_accuracy: 0.3793\n",
      "Epoch 160/250\n",
      "8/8 [==============================] - 0s 18ms/step - loss: 2082.9102 - accuracy: 0.3478 - val_loss: 240.1682 - val_accuracy: 0.3793\n",
      "Epoch 161/250\n",
      "8/8 [==============================] - 0s 45ms/step - loss: 2093.8018 - accuracy: 0.3478 - val_loss: 224.6230 - val_accuracy: 0.3793\n",
      "Epoch 162/250\n",
      "8/8 [==============================] - 0s 17ms/step - loss: 2074.3445 - accuracy: 0.3478 - val_loss: 225.6602 - val_accuracy: 0.3793\n",
      "Epoch 163/250\n",
      "8/8 [==============================] - 0s 19ms/step - loss: 2174.1545 - accuracy: 0.3478 - val_loss: 242.1079 - val_accuracy: 0.3793\n",
      "Epoch 164/250\n",
      "8/8 [==============================] - 0s 49ms/step - loss: 2146.4678 - accuracy: 0.3348 - val_loss: 215.0520 - val_accuracy: 0.3793\n",
      "Epoch 165/250\n",
      "8/8 [==============================] - 0s 40ms/step - loss: 2094.9746 - accuracy: 0.3391 - val_loss: 204.3235 - val_accuracy: 0.3793\n",
      "Epoch 166/250\n",
      "8/8 [==============================] - 0s 36ms/step - loss: 2101.5759 - accuracy: 0.3435 - val_loss: 202.0856 - val_accuracy: 0.3793\n",
      "Epoch 167/250\n",
      "8/8 [==============================] - 0s 24ms/step - loss: 2024.8459 - accuracy: 0.3391 - val_loss: 215.9879 - val_accuracy: 0.3793\n",
      "Epoch 168/250\n",
      "8/8 [==============================] - 0s 24ms/step - loss: 2106.8884 - accuracy: 0.3435 - val_loss: 212.6719 - val_accuracy: 0.3793\n",
      "Epoch 169/250\n",
      "8/8 [==============================] - 0s 40ms/step - loss: 2081.3818 - accuracy: 0.3478 - val_loss: 199.9010 - val_accuracy: 0.3793\n",
      "Epoch 170/250\n",
      "8/8 [==============================] - 0s 40ms/step - loss: 2043.1589 - accuracy: 0.3478 - val_loss: 196.0667 - val_accuracy: 0.3793\n",
      "Epoch 171/250\n",
      "8/8 [==============================] - 0s 24ms/step - loss: 2053.6907 - accuracy: 0.3478 - val_loss: 197.9314 - val_accuracy: 0.3793\n",
      "Epoch 172/250\n",
      "8/8 [==============================] - 0s 22ms/step - loss: 2053.4934 - accuracy: 0.3478 - val_loss: 201.1406 - val_accuracy: 0.3793\n",
      "Epoch 173/250\n",
      "8/8 [==============================] - 0s 43ms/step - loss: 2039.9341 - accuracy: 0.3478 - val_loss: 193.4340 - val_accuracy: 0.3793\n",
      "Epoch 174/250\n",
      "8/8 [==============================] - 0s 39ms/step - loss: 2044.0621 - accuracy: 0.3478 - val_loss: 187.5554 - val_accuracy: 0.3793\n",
      "Epoch 175/250\n",
      "8/8 [==============================] - 0s 19ms/step - loss: 2138.0234 - accuracy: 0.3478 - val_loss: 188.9698 - val_accuracy: 0.3793\n",
      "Epoch 176/250\n",
      "8/8 [==============================] - 0s 19ms/step - loss: 2092.5085 - accuracy: 0.3478 - val_loss: 188.8970 - val_accuracy: 0.3793\n",
      "Epoch 177/250\n",
      "8/8 [==============================] - 0s 20ms/step - loss: 2098.6816 - accuracy: 0.3478 - val_loss: 203.5647 - val_accuracy: 0.3793\n",
      "Epoch 178/250\n",
      "8/8 [==============================] - 0s 17ms/step - loss: 2249.2727 - accuracy: 0.3478 - val_loss: 194.2544 - val_accuracy: 0.3793\n",
      "Epoch 179/250\n",
      "8/8 [==============================] - 0s 53ms/step - loss: 2054.0840 - accuracy: 0.3478 - val_loss: 187.0177 - val_accuracy: 0.3793\n",
      "Epoch 180/250\n",
      "8/8 [==============================] - 0s 51ms/step - loss: 2031.1637 - accuracy: 0.3391 - val_loss: 185.5729 - val_accuracy: 0.3793\n",
      "Epoch 181/250\n",
      "8/8 [==============================] - 0s 20ms/step - loss: 2049.0710 - accuracy: 0.3435 - val_loss: 185.8920 - val_accuracy: 0.3793\n",
      "Epoch 182/250\n",
      "8/8 [==============================] - 0s 18ms/step - loss: 2057.3962 - accuracy: 0.3478 - val_loss: 185.7082 - val_accuracy: 0.3793\n",
      "Epoch 183/250\n",
      "8/8 [==============================] - 0s 49ms/step - loss: 2029.8811 - accuracy: 0.3478 - val_loss: 183.8368 - val_accuracy: 0.3793\n",
      "Epoch 184/250\n",
      "8/8 [==============================] - 0s 21ms/step - loss: 2053.8638 - accuracy: 0.3478 - val_loss: 183.8851 - val_accuracy: 0.3793\n",
      "Epoch 185/250\n",
      "8/8 [==============================] - 0s 46ms/step - loss: 2060.2373 - accuracy: 0.3478 - val_loss: 183.0297 - val_accuracy: 0.3793\n",
      "Epoch 186/250\n",
      "8/8 [==============================] - 0s 46ms/step - loss: 2009.9446 - accuracy: 0.3478 - val_loss: 182.3561 - val_accuracy: 0.3793\n",
      "Epoch 187/250\n",
      "8/8 [==============================] - 0s 48ms/step - loss: 2028.0413 - accuracy: 0.3478 - val_loss: 181.7186 - val_accuracy: 0.3793\n",
      "Epoch 188/250\n",
      "8/8 [==============================] - 0s 53ms/step - loss: 2016.6896 - accuracy: 0.3478 - val_loss: 181.2747 - val_accuracy: 0.3793\n",
      "Epoch 189/250\n",
      "8/8 [==============================] - 0s 35ms/step - loss: 2008.1674 - accuracy: 0.3478 - val_loss: 181.0091 - val_accuracy: 0.3793\n",
      "Epoch 190/250\n",
      "8/8 [==============================] - 0s 15ms/step - loss: 2010.3383 - accuracy: 0.3478 - val_loss: 181.2882 - val_accuracy: 0.3793\n",
      "Epoch 191/250\n",
      "8/8 [==============================] - 0s 43ms/step - loss: 2012.5737 - accuracy: 0.3478 - val_loss: 180.3311 - val_accuracy: 0.3793\n",
      "Epoch 192/250\n",
      "8/8 [==============================] - 0s 22ms/step - loss: 2010.6189 - accuracy: 0.3478 - val_loss: 180.7519 - val_accuracy: 0.3793\n",
      "Epoch 193/250\n",
      "8/8 [==============================] - 0s 15ms/step - loss: 2015.9640 - accuracy: 0.3478 - val_loss: 181.5222 - val_accuracy: 0.3793\n",
      "Epoch 194/250\n",
      "8/8 [==============================] - 0s 15ms/step - loss: 2032.6632 - accuracy: 0.3478 - val_loss: 181.0940 - val_accuracy: 0.3793\n",
      "Epoch 195/250\n",
      "8/8 [==============================] - 0s 37ms/step - loss: 1987.7893 - accuracy: 0.3478 - val_loss: 179.5984 - val_accuracy: 0.3793\n",
      "Epoch 196/250\n",
      "8/8 [==============================] - 0s 41ms/step - loss: 2019.0813 - accuracy: 0.3478 - val_loss: 179.5793 - val_accuracy: 0.3793\n",
      "Epoch 197/250\n",
      "8/8 [==============================] - 0s 19ms/step - loss: 2024.6478 - accuracy: 0.3478 - val_loss: 180.2891 - val_accuracy: 0.3793\n",
      "Epoch 198/250\n",
      "8/8 [==============================] - 0s 22ms/step - loss: 1999.1165 - accuracy: 0.3391 - val_loss: 181.8300 - val_accuracy: 0.3793\n",
      "Epoch 199/250\n",
      "8/8 [==============================] - 0s 21ms/step - loss: 2021.3406 - accuracy: 0.3391 - val_loss: 185.8741 - val_accuracy: 0.3793\n",
      "Epoch 200/250\n",
      "8/8 [==============================] - 0s 24ms/step - loss: 2001.6787 - accuracy: 0.3435 - val_loss: 180.7666 - val_accuracy: 0.3793\n",
      "Epoch 201/250\n",
      "8/8 [==============================] - 0s 21ms/step - loss: 2232.3606 - accuracy: 0.3391 - val_loss: 181.2225 - val_accuracy: 0.3793\n",
      "Epoch 202/250\n",
      "8/8 [==============================] - 0s 18ms/step - loss: 2050.4958 - accuracy: 0.3478 - val_loss: 194.3485 - val_accuracy: 0.3793\n",
      "Epoch 203/250\n",
      "8/8 [==============================] - 0s 21ms/step - loss: 2072.4902 - accuracy: 0.3478 - val_loss: 192.8022 - val_accuracy: 0.3793\n",
      "Epoch 204/250\n",
      "8/8 [==============================] - 0s 22ms/step - loss: 2041.1476 - accuracy: 0.3478 - val_loss: 194.8584 - val_accuracy: 0.3793\n",
      "Epoch 205/250\n",
      "8/8 [==============================] - 0s 26ms/step - loss: 2016.0759 - accuracy: 0.3478 - val_loss: 186.8472 - val_accuracy: 0.3793\n",
      "Epoch 206/250\n",
      "8/8 [==============================] - 0s 25ms/step - loss: 1997.9308 - accuracy: 0.3478 - val_loss: 185.4157 - val_accuracy: 0.3793\n",
      "Epoch 207/250\n",
      "8/8 [==============================] - 0s 18ms/step - loss: 1996.9072 - accuracy: 0.3478 - val_loss: 183.6884 - val_accuracy: 0.3793\n",
      "Epoch 208/250\n",
      "8/8 [==============================] - 0s 22ms/step - loss: 2029.5161 - accuracy: 0.3478 - val_loss: 192.0018 - val_accuracy: 0.3793\n",
      "Epoch 209/250\n",
      "8/8 [==============================] - 0s 19ms/step - loss: 2052.1846 - accuracy: 0.3478 - val_loss: 179.6911 - val_accuracy: 0.3793\n",
      "Epoch 210/250\n",
      "8/8 [==============================] - 0s 24ms/step - loss: 2111.5269 - accuracy: 0.3391 - val_loss: 189.9164 - val_accuracy: 0.3793\n",
      "Epoch 211/250\n",
      "8/8 [==============================] - 0s 24ms/step - loss: 1994.2979 - accuracy: 0.3391 - val_loss: 190.8456 - val_accuracy: 0.3793\n",
      "Epoch 212/250\n",
      "8/8 [==============================] - 0s 15ms/step - loss: 1990.1483 - accuracy: 0.3391 - val_loss: 195.3752 - val_accuracy: 0.3793\n",
      "Epoch 213/250\n",
      "8/8 [==============================] - 0s 21ms/step - loss: 1999.5885 - accuracy: 0.3391 - val_loss: 188.8842 - val_accuracy: 0.3793\n",
      "Epoch 214/250\n",
      "8/8 [==============================] - 0s 20ms/step - loss: 1984.5709 - accuracy: 0.3478 - val_loss: 197.3939 - val_accuracy: 0.3793\n",
      "Epoch 215/250\n",
      "8/8 [==============================] - 0s 21ms/step - loss: 1974.3671 - accuracy: 0.3478 - val_loss: 195.7768 - val_accuracy: 0.3793\n",
      "Epoch 216/250\n",
      "8/8 [==============================] - 0s 20ms/step - loss: 1981.7064 - accuracy: 0.3478 - val_loss: 195.1819 - val_accuracy: 0.3793\n",
      "Epoch 217/250\n",
      "8/8 [==============================] - 0s 19ms/step - loss: 1980.4791 - accuracy: 0.3478 - val_loss: 190.9583 - val_accuracy: 0.3793\n",
      "Epoch 218/250\n",
      "8/8 [==============================] - 0s 18ms/step - loss: 1981.8092 - accuracy: 0.3478 - val_loss: 198.0240 - val_accuracy: 0.3793\n",
      "Epoch 219/250\n",
      "8/8 [==============================] - 0s 20ms/step - loss: 1977.6655 - accuracy: 0.3478 - val_loss: 194.7891 - val_accuracy: 0.3793\n",
      "Epoch 220/250\n",
      "8/8 [==============================] - 0s 19ms/step - loss: 2018.4187 - accuracy: 0.3478 - val_loss: 187.3902 - val_accuracy: 0.3793\n",
      "Epoch 221/250\n",
      "8/8 [==============================] - 0s 19ms/step - loss: 2017.9785 - accuracy: 0.3478 - val_loss: 197.4299 - val_accuracy: 0.3793\n",
      "Epoch 222/250\n",
      "8/8 [==============================] - 0s 20ms/step - loss: 1981.6997 - accuracy: 0.3391 - val_loss: 198.0157 - val_accuracy: 0.3793\n",
      "Epoch 223/250\n",
      "8/8 [==============================] - 0s 25ms/step - loss: 1984.7983 - accuracy: 0.3391 - val_loss: 200.5201 - val_accuracy: 0.3793\n",
      "Epoch 224/250\n",
      "8/8 [==============================] - 0s 16ms/step - loss: 1989.4288 - accuracy: 0.3391 - val_loss: 197.4104 - val_accuracy: 0.3793\n",
      "Epoch 225/250\n",
      "8/8 [==============================] - 0s 16ms/step - loss: 2106.9631 - accuracy: 0.3391 - val_loss: 185.5994 - val_accuracy: 0.3793\n",
      "Epoch 226/250\n",
      "8/8 [==============================] - 0s 17ms/step - loss: 2016.4048 - accuracy: 0.3478 - val_loss: 200.5138 - val_accuracy: 0.3793\n",
      "Epoch 227/250\n",
      "8/8 [==============================] - 0s 19ms/step - loss: 1999.3759 - accuracy: 0.3478 - val_loss: 205.6346 - val_accuracy: 0.3793\n",
      "Epoch 228/250\n",
      "8/8 [==============================] - 0s 18ms/step - loss: 2010.1827 - accuracy: 0.3478 - val_loss: 190.7529 - val_accuracy: 0.3793\n",
      "Epoch 229/250\n",
      "8/8 [==============================] - 0s 18ms/step - loss: 2001.2311 - accuracy: 0.3478 - val_loss: 206.0946 - val_accuracy: 0.3793\n",
      "Epoch 230/250\n",
      "8/8 [==============================] - 0s 24ms/step - loss: 1973.6504 - accuracy: 0.3391 - val_loss: 193.7780 - val_accuracy: 0.3793\n",
      "Epoch 231/250\n",
      "8/8 [==============================] - 0s 18ms/step - loss: 1983.1337 - accuracy: 0.3391 - val_loss: 198.8638 - val_accuracy: 0.3793\n",
      "Epoch 232/250\n",
      "8/8 [==============================] - 0s 20ms/step - loss: 2001.2271 - accuracy: 0.3435 - val_loss: 206.8174 - val_accuracy: 0.3793\n",
      "Epoch 233/250\n",
      "8/8 [==============================] - 0s 18ms/step - loss: 1962.0508 - accuracy: 0.3478 - val_loss: 194.1387 - val_accuracy: 0.3793\n",
      "Epoch 234/250\n",
      "8/8 [==============================] - 0s 24ms/step - loss: 2163.7988 - accuracy: 0.3478 - val_loss: 187.4836 - val_accuracy: 0.3793\n",
      "Epoch 235/250\n",
      "8/8 [==============================] - 0s 17ms/step - loss: 1959.3297 - accuracy: 0.3478 - val_loss: 224.2689 - val_accuracy: 0.3793\n",
      "Epoch 236/250\n",
      "8/8 [==============================] - 0s 17ms/step - loss: 2140.8347 - accuracy: 0.3478 - val_loss: 230.3739 - val_accuracy: 0.3793\n",
      "Epoch 237/250\n",
      "8/8 [==============================] - 0s 20ms/step - loss: 2108.8186 - accuracy: 0.3478 - val_loss: 191.4714 - val_accuracy: 0.3793\n",
      "Epoch 238/250\n",
      "8/8 [==============================] - 0s 18ms/step - loss: 2055.5042 - accuracy: 0.3478 - val_loss: 206.9070 - val_accuracy: 0.3793\n",
      "Epoch 239/250\n",
      "8/8 [==============================] - 0s 18ms/step - loss: 2011.7510 - accuracy: 0.3478 - val_loss: 228.4641 - val_accuracy: 0.3793\n",
      "Epoch 240/250\n",
      "8/8 [==============================] - 0s 18ms/step - loss: 2022.8601 - accuracy: 0.3478 - val_loss: 206.9091 - val_accuracy: 0.3793\n",
      "Epoch 241/250\n",
      "8/8 [==============================] - 0s 17ms/step - loss: 1965.9203 - accuracy: 0.3478 - val_loss: 207.0210 - val_accuracy: 0.3793\n",
      "Epoch 242/250\n",
      "8/8 [==============================] - 0s 17ms/step - loss: 1964.1157 - accuracy: 0.3478 - val_loss: 205.6523 - val_accuracy: 0.3793\n",
      "Epoch 243/250\n",
      "8/8 [==============================] - 0s 17ms/step - loss: 1989.7744 - accuracy: 0.3478 - val_loss: 214.4249 - val_accuracy: 0.3793\n",
      "Epoch 244/250\n",
      "8/8 [==============================] - 0s 19ms/step - loss: 1966.2035 - accuracy: 0.3478 - val_loss: 210.8185 - val_accuracy: 0.3793\n",
      "Epoch 245/250\n",
      "8/8 [==============================] - 0s 22ms/step - loss: 1981.3738 - accuracy: 0.3478 - val_loss: 205.2341 - val_accuracy: 0.3793\n",
      "Epoch 246/250\n",
      "8/8 [==============================] - 0s 18ms/step - loss: 2005.2966 - accuracy: 0.3478 - val_loss: 183.7941 - val_accuracy: 0.3793\n",
      "Epoch 247/250\n",
      "8/8 [==============================] - 0s 18ms/step - loss: 2164.8396 - accuracy: 0.3478 - val_loss: 208.3579 - val_accuracy: 0.3793\n",
      "Epoch 248/250\n",
      "8/8 [==============================] - 0s 17ms/step - loss: 2153.2625 - accuracy: 0.3478 - val_loss: 248.5388 - val_accuracy: 0.3793\n",
      "Epoch 249/250\n",
      "8/8 [==============================] - 0s 17ms/step - loss: 2062.2561 - accuracy: 0.3478 - val_loss: 206.1243 - val_accuracy: 0.3793\n",
      "Epoch 250/250\n",
      "8/8 [==============================] - 0s 17ms/step - loss: 1989.2480 - accuracy: 0.3478 - val_loss: 212.4518 - val_accuracy: 0.3793\n",
      "Model: \"sequential\"\n",
      "_________________________________________________________________\n",
      "Layer (type)                 Output Shape              Param #   \n",
      "=================================================================\n",
      "time_distributed (TimeDistri (None, 1, 1, 7)           154       \n",
      "_________________________________________________________________\n",
      "time_distributed_1 (TimeDist (None, 1, 1, 7)           154       \n",
      "_________________________________________________________________\n",
      "time_distributed_2 (TimeDist (None, 1, 1, 14)          308       \n",
      "_________________________________________________________________\n",
      "time_distributed_3 (TimeDist (None, 1, 1, 36)          1548      \n",
      "_________________________________________________________________\n",
      "dense (Dense)                (None, 1, 1, 70)          2590      \n",
      "_________________________________________________________________\n",
      "flatten (Flatten)            (None, 70)                0         \n",
      "_________________________________________________________________\n",
      "dense_1 (Dense)              (None, 7)                 497       \n",
      "=================================================================\n",
      "Total params: 5,251\n",
      "Trainable params: 5,251\n",
      "Non-trainable params: 0\n",
      "_________________________________________________________________\n"
     ]
    }
   ],
   "source": [
    "graph = model.fit(train_x, train_y, validation_split=validation_split_factor, epochs=250, callbacks=[tensorboard_callback, checkpoint_callback, endCallback()])\n",
    "model.summary()"
   ]
  },
  {
   "cell_type": "code",
   "execution_count": 7,
   "metadata": {},
   "outputs": [
    {
     "name": "stdout",
     "output_type": "stream",
     "text": [
      "3/3 [==============================] - 0s 14ms/step - loss: 413.2155 - accuracy: 0.3889\n"
     ]
    },
    {
     "data": {
      "text/plain": [
       "[413.2155456542969, 0.3888888955116272]"
      ]
     },
     "execution_count": 7,
     "metadata": {},
     "output_type": "execute_result"
    }
   ],
   "source": [
    "model.load_weights(ckp_path)\n",
    "model.evaluate(test_x, test_y)"
   ]
  },
  {
   "cell_type": "code",
   "execution_count": 8,
   "metadata": {},
   "outputs": [],
   "source": [
    "model.save('./weights/tdnn.h5')"
   ]
  },
  {
   "cell_type": "code",
   "execution_count": 9,
   "metadata": {},
   "outputs": [
    {
     "data": {
      "text/plain": [
       "[<matplotlib.lines.Line2D at 0x1c316bd2e20>]"
      ]
     },
     "execution_count": 9,
     "metadata": {},
     "output_type": "execute_result"
    },
    {
     "data": {
      "image/png": "[encoded data removed]",
      "text/plain": [
       "<Figure size 432x288 with 1 Axes>"
      ]
     },
     "metadata": {
      "needs_background": "light"
     },
     "output_type": "display_data"
    }
   ],
   "source": [
    "import matplotlib.pyplot as plt\n",
    "loss = graph.history['loss']\n",
    "val_loss = graph.history['val_loss']\n",
    "val_acc = graph.history['val_accuracy']\n",
    "plt.plot(range(len(loss)), loss)"
   ]
  },
  {
   "cell_type": "code",
   "execution_count": 10,
   "metadata": {},
   "outputs": [
    {
     "data": {
      "text/plain": [
       "[<matplotlib.lines.Line2D at 0x1c2b861c2b0>]"
      ]
     },
     "execution_count": 10,
     "metadata": {},
     "output_type": "execute_result"
    },
    {
     "data": {
      "image/png": "[encoded data removed]",
      "text/plain": [
       "<Figure size 432x288 with 1 Axes>"
      ]
     },
     "metadata": {
      "needs_background": "light"
     },
     "output_type": "display_data"
    }
   ],
   "source": [
    "plt.plot(range(len(val_loss)), val_loss)"
   ]
  },
  {
   "cell_type": "code",
   "execution_count": 11,
   "metadata": {},
   "outputs": [
    {
     "data": {
      "text/plain": [
       "[<matplotlib.lines.Line2D at 0x1c2b85e29a0>]"
      ]
     },
     "execution_count": 11,
     "metadata": {},
     "output_type": "execute_result"
    },
    {
     "data": {
      "image/png": "[encoded data removed]",
      "text/plain": [
       "<Figure size 432x288 with 1 Axes>"
      ]
     },
     "metadata": {
      "needs_background": "light"
     },
     "output_type": "display_data"
    }
   ],
   "source": [
    "plt.plot(range(len(val_acc)), val_acc)"
   ]
  },
  {
   "cell_type": "code",
   "execution_count": 12,
   "metadata": {},
   "outputs": [],
   "source": [
    "pred = model.predict(test_x)"
   ]
  },
  {
   "cell_type": "code",
   "execution_count": 13,
   "metadata": {},
   "outputs": [
    {
     "data": {
      "image/png": "[encoded data removed]",
      "text/plain": [
       "<Figure size 432x288 with 1 Axes>"
      ]
     },
     "metadata": {
      "needs_background": "light"
     },
     "output_type": "display_data"
    }
   ],
   "source": [
    "close_pred = np.reshape(pred, (-1, 1))\n",
    "test_y_reshape = np.reshape(test_y, (-1, 1))\n",
    "days = np.arange(1, len(test_y_reshape)+1)\n",
    "plt.plot(days, test_y_reshape, 'b', label='Actual line')\n",
    "plt.plot(days, close_pred, 'r', label='Predicted line')\n",
    "plt.xlabel('Days')\n",
    "plt.ylabel('Close Prices')\n",
    "plt.legend()\n",
    "plt.show()"
   ]
  },
  {
   "cell_type": "code",
   "execution_count": 14,
   "metadata": {},
   "outputs": [
    {
     "data": {
      "image/png": "[encoded data removed]",
      "text/plain": [
       "<Figure size 432x288 with 1 Axes>"
      ]
     },
     "metadata": {
      "needs_background": "light"
     },
     "output_type": "display_data"
    }
   ],
   "source": [
    "pred = model.predict(train_x[:30, :, :, :])\n",
    "close_pred = np.reshape(pred, (-1, 1))\n",
    "test_y_reshape = np.reshape(train_y[:30, :], (-1, 1))\n",
    "days = np.arange(1, len(test_y_reshape)+1)\n",
    "plt.plot(days, test_y_reshape, 'b', label='Actual line')\n",
    "plt.plot(days, close_pred, 'r', label='Predicted line')\n",
    "plt.xlabel('Days')\n",
    "plt.ylabel('Close Prices')\n",
    "plt.legend()\n",
    "plt.show()"
   ]
  },
  {
   "cell_type": "code",
   "execution_count": 15,
   "metadata": {},
   "outputs": [
    {
     "data": {
      "image/png": "[encoded data removed]",
      "text/plain": [
       "<Figure size 432x288 with 1 Axes>"
      ]
     },
     "metadata": {
      "needs_background": "light"
     },
     "output_type": "display_data"
    }
   ],
   "source": [
    "import matplotlib.pyplot as plt\n",
    "test_dataset = np.load('dataset/GOOG-preprocessed.npz')\n",
    "test_stock_x, test_stock_y = test_dataset['features'], test_dataset['labels']\n",
    "test_stock_x = np.expand_dims(test_stock_x, axis=1)\n",
    "pred = model.predict(test_stock_x)\n",
    "close_pred = np.reshape(pred, (-1, 1))\n",
    "test_y_reshape = np.reshape(test_stock_y, (-1, 1))\n",
    "days = np.arange(1, len(test_y_reshape)+1)\n",
    "plt.plot(days, test_y_reshape, 'b', label='Actual line')\n",
    "plt.plot(days, close_pred, 'r', label='Predicted line')\n",
    "plt.xlabel('Days')\n",
    "plt.ylabel('Close Prices')\n",
    "plt.legend()\n",
    "plt.show()"
   ]
  },
  {
   "cell_type": "code",
   "execution_count": 16,
   "metadata": {},
   "outputs": [
    {
     "data": {
      "image/png": "[encoded data removed]",
      "text/plain": [
       "<Figure size 432x288 with 1 Axes>"
      ]
     },
     "metadata": {
      "needs_background": "light"
     },
     "output_type": "display_data"
    }
   ],
   "source": [
    "test_dataset = np.load('dataset/GOOG-preprocessed.npz')\n",
    "test_stock_x, test_stock_y = test_dataset['features'][1], test_dataset['labels'][1, :]\n",
    "test_stock_x = np.expand_dims(test_stock_x, axis=0)\n",
    "test_stock_x = np.expand_dims(test_stock_x, axis=0)\n",
    "test_stock_y = np.expand_dims(test_stock_y, axis=0)\n",
    "pred = model.predict(test_stock_x)\n",
    "close_pred = np.reshape(pred, (-1, 1))\n",
    "test_y_reshape = np.reshape(test_stock_y, (-1, 1))\n",
    "days = np.arange(1, len(test_y_reshape)+1)\n",
    "plt.plot(days, test_y_reshape, 'b', label='Actual line')\n",
    "plt.plot(days, close_pred, 'r', label='Predicted line')\n",
    "plt.xlabel('Days')\n",
    "plt.ylabel('Close Prices')\n",
    "plt.legend()\n",
    "plt.show()"
   ]
  },
  {
   "cell_type": "code",
   "execution_count": null,
   "metadata": {},
   "outputs": [],
   "source": []
  }
 ],
 "metadata": {
  "kernelspec": {
   "display_name": "Python 3",
   "language": "python",
   "name": "python3"
  },
  "language_info": {
   "codemirror_mode": {
    "name": "ipython",
    "version": 3
   },
   "file_extension": ".py",
   "mimetype": "text/x-python",
   "name": "python",
   "nbconvert_exporter": "python",
   "pygments_lexer": "ipython3",
   "version": "3.8.5"
  }
 },
 "nbformat": 4,
 "nbformat_minor": 4
}
