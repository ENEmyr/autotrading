{
 "cells": [
  {
   "cell_type": "code",
   "execution_count": 5,
   "metadata": {},
   "outputs": [],
   "source": [
    "import numpy as np\n",
    "import tensorflow as tf\n",
    "import math, os, sys"
   ]
  },
  {
   "cell_type": "code",
   "execution_count": 2,
   "metadata": {},
   "outputs": [],
   "source": [
    "gpus = tf.config.experimental.list_physical_devices('GPU')\n",
    "if gpus:\n",
    "    try:\n",
    "        for gpu in gpus:\n",
    "            tf.config.experimental.set_memory_growth(gpu, True)\n",
    "    except RuntimeError as e:\n",
    "        print(e)"
   ]
  },
  {
   "cell_type": "code",
   "execution_count": 235,
   "metadata": {},
   "outputs": [
    {
     "name": "stdout",
     "output_type": "stream",
     "text": [
      "(288, 1, 7, 4) (288, 7) (72, 1, 7, 4) (72, 7)\n"
     ]
    }
   ],
   "source": [
    "dataset = np.load('dataset/stock_dataset_preprocessed.npz')\n",
    "features, labels = dataset['features'][:, :, :4].astype('float32'), dataset['labels'].astype('float32')\n",
    "input_shape = features.shape\n",
    "train_test_split_factor = .8\n",
    "validation_split_factor = .2\n",
    "train_x, train_y, test_x, test_y = features[:math.floor(len(features)*train_test_split_factor)], labels[:math.floor(len(labels)*train_test_split_factor)], features[math.floor(len(features)*train_test_split_factor):], labels[math.floor(len(labels)*train_test_split_factor):]\n",
    "train_x, test_x = np.expand_dims(train_x, axis=1), np.expand_dims(test_x, axis=1) # for use with TimeDistributed\n",
    "#train_y, test_y = np.expand_dims(train_y, axis=1), np.expand_dims(test_y, axis=1) # for use with TimeDistributed\n",
    "print(train_x.shape, train_y.shape, test_x.shape, test_y.shape)"
   ]
  },
  {
   "cell_type": "code",
   "execution_count": 236,
   "metadata": {},
   "outputs": [],
   "source": [
    "#layers = [\n",
    "#    tf.keras.layers.TimeDistributed(tf.keras.layers.Dense(1, activation='linear', input_shape=input_shape[1:])),\n",
    "#    tf.keras.layers.Reshape((1, 7))\n",
    "#]\n",
    "layers = [\n",
    "    tf.keras.layers.TimeDistributed(tf.keras.layers.Conv1D(7, 3, padding='same', activation='relu', input_shape=input_shape[1:])),\n",
    "    tf.keras.layers.TimeDistributed(tf.keras.layers.Conv1D(7, 3, padding='same', activation='relu', dilation_rate=2)),\n",
    "    tf.keras.layers.TimeDistributed(tf.keras.layers.Conv1D(14, 3, padding='same', activation='relu', dilation_rate=1)),\n",
    "    tf.keras.layers.TimeDistributed(tf.keras.layers.Conv1D(36, 3, padding='same', activation='relu', dilation_rate=1)),\n",
    "    tf.keras.layers.Dense(70, activation='relu'),\n",
    "    tf.keras.layers.Flatten(),\n",
    "    tf.keras.layers.Dense(7, activation='linear')\n",
    "]\n",
    "model = tf.keras.models.Sequential(layers=layers)\n",
    "#model.compile(optimizer='adam', loss=tf.keras.losses.MeanSquaredError(), metrics=['accuracy', tf.keras.metrics.MeanSquaredError()])\n",
    "model.compile(optimizer='adam', loss=tf.keras.losses.MeanSquaredError(), metrics=['accuracy'])\n",
    "#model.summary()"
   ]
  },
  {
   "cell_type": "code",
   "execution_count": 237,
   "metadata": {},
   "outputs": [
    {
     "name": "stdout",
     "output_type": "stream",
     "text": [
      "Epoch 1/250\n",
      "8/8 [==============================] - 0s 28ms/step - loss: 1061866.3750 - accuracy: 0.1261 - val_loss: 68666.9766 - val_accuracy: 0.0345\n",
      "Epoch 2/250\n",
      "8/8 [==============================] - 0s 6ms/step - loss: 1055002.7500 - accuracy: 0.1261 - val_loss: 67860.5859 - val_accuracy: 0.0345\n",
      "Epoch 3/250\n",
      "8/8 [==============================] - 0s 6ms/step - loss: 1038893.6875 - accuracy: 0.1261 - val_loss: 65905.5469 - val_accuracy: 0.0345\n",
      "Epoch 4/250\n",
      "8/8 [==============================] - 0s 6ms/step - loss: 998782.3125 - accuracy: 0.1261 - val_loss: 60898.9531 - val_accuracy: 0.0345\n",
      "Epoch 5/250\n",
      "8/8 [==============================] - 0s 6ms/step - loss: 880656.5000 - accuracy: 0.1435 - val_loss: 49323.3164 - val_accuracy: 0.1552\n",
      "Epoch 6/250\n",
      "8/8 [==============================] - 0s 6ms/step - loss: 653866.6250 - accuracy: 0.0783 - val_loss: 25524.7227 - val_accuracy: 0.1552\n",
      "Epoch 7/250\n",
      "8/8 [==============================] - 0s 6ms/step - loss: 258183.7500 - accuracy: 0.0783 - val_loss: 801.7141 - val_accuracy: 0.1552\n",
      "Epoch 8/250\n",
      "8/8 [==============================] - 0s 6ms/step - loss: 31076.6016 - accuracy: 0.0783 - val_loss: 6609.4775 - val_accuracy: 0.1552\n",
      "Epoch 9/250\n",
      "8/8 [==============================] - 0s 5ms/step - loss: 30042.4727 - accuracy: 0.0783 - val_loss: 306.2473 - val_accuracy: 0.1379\n",
      "Epoch 10/250\n",
      "8/8 [==============================] - 0s 6ms/step - loss: 11949.7090 - accuracy: 0.3000 - val_loss: 411.4607 - val_accuracy: 0.3793\n",
      "Epoch 11/250\n",
      "8/8 [==============================] - 0s 6ms/step - loss: 6449.3657 - accuracy: 0.1826 - val_loss: 942.2767 - val_accuracy: 0.1379\n",
      "Epoch 12/250\n",
      "8/8 [==============================] - 0s 6ms/step - loss: 5217.9507 - accuracy: 0.2565 - val_loss: 563.9152 - val_accuracy: 0.3793\n",
      "Epoch 13/250\n",
      "8/8 [==============================] - 0s 6ms/step - loss: 3068.7378 - accuracy: 0.3478 - val_loss: 298.3900 - val_accuracy: 0.3793\n",
      "Epoch 14/250\n",
      "8/8 [==============================] - 0s 6ms/step - loss: 3179.7461 - accuracy: 0.3391 - val_loss: 402.3023 - val_accuracy: 0.1724\n",
      "Epoch 15/250\n",
      "8/8 [==============================] - 0s 6ms/step - loss: 2535.2231 - accuracy: 0.1478 - val_loss: 554.5230 - val_accuracy: 0.0345\n",
      "Epoch 16/250\n",
      "8/8 [==============================] - 0s 5ms/step - loss: 2749.9045 - accuracy: 0.1696 - val_loss: 395.2113 - val_accuracy: 0.3276\n",
      "Epoch 17/250\n",
      "8/8 [==============================] - 0s 5ms/step - loss: 2551.6155 - accuracy: 0.3000 - val_loss: 365.9323 - val_accuracy: 0.3448\n",
      "Epoch 18/250\n",
      "8/8 [==============================] - 0s 5ms/step - loss: 2456.3428 - accuracy: 0.3348 - val_loss: 451.1390 - val_accuracy: 0.3793\n",
      "Epoch 19/250\n",
      "8/8 [==============================] - 0s 5ms/step - loss: 2654.4661 - accuracy: 0.3478 - val_loss: 380.6451 - val_accuracy: 0.3793\n",
      "Epoch 20/250\n",
      "8/8 [==============================] - 0s 6ms/step - loss: 2520.7554 - accuracy: 0.3478 - val_loss: 359.4861 - val_accuracy: 0.3793\n",
      "Epoch 21/250\n",
      "8/8 [==============================] - 0s 7ms/step - loss: 2526.8723 - accuracy: 0.3478 - val_loss: 368.3660 - val_accuracy: 0.3793\n",
      "Epoch 22/250\n",
      "8/8 [==============================] - 0s 6ms/step - loss: 2493.5891 - accuracy: 0.3478 - val_loss: 336.4467 - val_accuracy: 0.3793\n",
      "Epoch 23/250\n",
      "8/8 [==============================] - 0s 6ms/step - loss: 2518.0515 - accuracy: 0.3478 - val_loss: 375.7252 - val_accuracy: 0.3793\n",
      "Epoch 24/250\n",
      "8/8 [==============================] - 0s 6ms/step - loss: 2602.8237 - accuracy: 0.3478 - val_loss: 402.2454 - val_accuracy: 0.3793\n",
      "Epoch 25/250\n",
      "8/8 [==============================] - 0s 6ms/step - loss: 2505.3621 - accuracy: 0.3391 - val_loss: 342.3532 - val_accuracy: 0.3793\n",
      "Epoch 26/250\n",
      "8/8 [==============================] - 0s 5ms/step - loss: 2648.8909 - accuracy: 0.3435 - val_loss: 330.4738 - val_accuracy: 0.3793\n",
      "Epoch 27/250\n",
      "8/8 [==============================] - 0s 5ms/step - loss: 2520.0820 - accuracy: 0.3478 - val_loss: 357.0984 - val_accuracy: 0.3793\n",
      "Epoch 28/250\n",
      "8/8 [==============================] - 0s 6ms/step - loss: 2539.8916 - accuracy: 0.3478 - val_loss: 358.7661 - val_accuracy: 0.3793\n",
      "Epoch 29/250\n",
      "8/8 [==============================] - 0s 6ms/step - loss: 2539.2004 - accuracy: 0.3478 - val_loss: 345.3878 - val_accuracy: 0.3793\n",
      "Epoch 30/250\n",
      "8/8 [==============================] - 0s 6ms/step - loss: 2536.2966 - accuracy: 0.3478 - val_loss: 387.9936 - val_accuracy: 0.3793\n",
      "Epoch 31/250\n",
      "8/8 [==============================] - 0s 6ms/step - loss: 2638.3992 - accuracy: 0.3478 - val_loss: 309.1504 - val_accuracy: 0.3793\n",
      "Epoch 32/250\n",
      "8/8 [==============================] - 0s 6ms/step - loss: 2673.7798 - accuracy: 0.3478 - val_loss: 315.9940 - val_accuracy: 0.3793\n",
      "Epoch 33/250\n",
      "8/8 [==============================] - 0s 6ms/step - loss: 2669.1746 - accuracy: 0.3478 - val_loss: 336.7340 - val_accuracy: 0.3793\n",
      "Epoch 34/250\n",
      "8/8 [==============================] - 0s 6ms/step - loss: 2495.2214 - accuracy: 0.3478 - val_loss: 270.0203 - val_accuracy: 0.3793\n",
      "Epoch 35/250\n",
      "8/8 [==============================] - 0s 6ms/step - loss: 2494.7454 - accuracy: 0.3478 - val_loss: 371.9352 - val_accuracy: 0.3793\n",
      "Epoch 36/250\n",
      "8/8 [==============================] - 0s 6ms/step - loss: 2615.6521 - accuracy: 0.3478 - val_loss: 316.0235 - val_accuracy: 0.3793\n",
      "Epoch 37/250\n",
      "8/8 [==============================] - 0s 5ms/step - loss: 2442.5293 - accuracy: 0.3478 - val_loss: 284.9572 - val_accuracy: 0.3793\n",
      "Epoch 38/250\n",
      "8/8 [==============================] - 0s 5ms/step - loss: 2710.4597 - accuracy: 0.3478 - val_loss: 289.2469 - val_accuracy: 0.3793\n",
      "Epoch 39/250\n",
      "8/8 [==============================] - 0s 6ms/step - loss: 2975.7112 - accuracy: 0.3478 - val_loss: 271.5015 - val_accuracy: 0.3793\n",
      "Epoch 40/250\n",
      "8/8 [==============================] - 0s 5ms/step - loss: 3416.7988 - accuracy: 0.3478 - val_loss: 440.5906 - val_accuracy: 0.3793\n",
      "Epoch 41/250\n",
      "8/8 [==============================] - 0s 5ms/step - loss: 3161.6372 - accuracy: 0.3478 - val_loss: 244.1854 - val_accuracy: 0.3793\n",
      "Epoch 42/250\n",
      "8/8 [==============================] - 0s 5ms/step - loss: 2806.0920 - accuracy: 0.3478 - val_loss: 367.1463 - val_accuracy: 0.3793\n",
      "Epoch 43/250\n",
      "8/8 [==============================] - 0s 5ms/step - loss: 2518.3076 - accuracy: 0.3478 - val_loss: 273.7071 - val_accuracy: 0.3793\n",
      "Epoch 44/250\n",
      "8/8 [==============================] - 0s 5ms/step - loss: 2456.8391 - accuracy: 0.3478 - val_loss: 268.9285 - val_accuracy: 0.3793\n",
      "Epoch 45/250\n",
      "8/8 [==============================] - 0s 5ms/step - loss: 2646.9106 - accuracy: 0.3478 - val_loss: 302.0117 - val_accuracy: 0.3793\n",
      "Epoch 46/250\n",
      "8/8 [==============================] - 0s 5ms/step - loss: 2508.5186 - accuracy: 0.3478 - val_loss: 258.6201 - val_accuracy: 0.3793\n",
      "Epoch 47/250\n",
      "8/8 [==============================] - 0s 5ms/step - loss: 2495.9753 - accuracy: 0.3478 - val_loss: 306.3041 - val_accuracy: 0.3793\n",
      "Epoch 48/250\n",
      "8/8 [==============================] - 0s 5ms/step - loss: 2440.6379 - accuracy: 0.3478 - val_loss: 262.5026 - val_accuracy: 0.3793\n",
      "Epoch 49/250\n",
      "8/8 [==============================] - 0s 5ms/step - loss: 2523.1704 - accuracy: 0.3478 - val_loss: 261.9536 - val_accuracy: 0.3793\n",
      "Epoch 50/250\n",
      "8/8 [==============================] - 0s 5ms/step - loss: 2567.9954 - accuracy: 0.3478 - val_loss: 249.1335 - val_accuracy: 0.3793\n",
      "Epoch 51/250\n",
      "8/8 [==============================] - 0s 5ms/step - loss: 2469.2539 - accuracy: 0.3478 - val_loss: 255.4948 - val_accuracy: 0.3793\n",
      "Epoch 52/250\n",
      "8/8 [==============================] - 0s 5ms/step - loss: 2515.0105 - accuracy: 0.3478 - val_loss: 256.3362 - val_accuracy: 0.3793\n",
      "Epoch 53/250\n",
      "8/8 [==============================] - 0s 5ms/step - loss: 2679.1782 - accuracy: 0.3478 - val_loss: 278.9425 - val_accuracy: 0.3793\n",
      "Epoch 54/250\n",
      "8/8 [==============================] - 0s 6ms/step - loss: 2519.8145 - accuracy: 0.3478 - val_loss: 256.6486 - val_accuracy: 0.3793\n",
      "Epoch 55/250\n",
      "8/8 [==============================] - 0s 5ms/step - loss: 3250.4421 - accuracy: 0.3478 - val_loss: 272.3756 - val_accuracy: 0.3793\n",
      "Epoch 56/250\n",
      "8/8 [==============================] - 0s 6ms/step - loss: 2964.2605 - accuracy: 0.3478 - val_loss: 238.3172 - val_accuracy: 0.3793\n",
      "Epoch 57/250\n",
      "8/8 [==============================] - 0s 6ms/step - loss: 2448.7366 - accuracy: 0.3478 - val_loss: 305.7104 - val_accuracy: 0.3793\n",
      "Epoch 58/250\n",
      "8/8 [==============================] - 0s 6ms/step - loss: 2852.3977 - accuracy: 0.3478 - val_loss: 236.7430 - val_accuracy: 0.3793\n",
      "Epoch 59/250\n",
      "8/8 [==============================] - 0s 5ms/step - loss: 2828.2974 - accuracy: 0.3478 - val_loss: 235.1409 - val_accuracy: 0.3793\n",
      "Epoch 60/250\n",
      "8/8 [==============================] - 0s 5ms/step - loss: 2478.3647 - accuracy: 0.3478 - val_loss: 252.5796 - val_accuracy: 0.3793\n",
      "Epoch 61/250\n",
      "8/8 [==============================] - 0s 5ms/step - loss: 2395.6975 - accuracy: 0.3478 - val_loss: 245.6310 - val_accuracy: 0.3793\n",
      "Epoch 62/250\n",
      "8/8 [==============================] - 0s 6ms/step - loss: 2673.0042 - accuracy: 0.3478 - val_loss: 269.6267 - val_accuracy: 0.3793\n",
      "Epoch 63/250\n",
      "8/8 [==============================] - 0s 5ms/step - loss: 2974.7449 - accuracy: 0.3478 - val_loss: 264.6708 - val_accuracy: 0.3793\n",
      "Epoch 64/250\n",
      "8/8 [==============================] - 0s 5ms/step - loss: 2317.0339 - accuracy: 0.3478 - val_loss: 226.1969 - val_accuracy: 0.3793\n",
      "Epoch 65/250\n",
      "8/8 [==============================] - 0s 6ms/step - loss: 2674.7351 - accuracy: 0.3478 - val_loss: 280.1300 - val_accuracy: 0.3793\n",
      "Epoch 66/250\n",
      "8/8 [==============================] - 0s 5ms/step - loss: 2842.2600 - accuracy: 0.3478 - val_loss: 227.5226 - val_accuracy: 0.3793\n",
      "Epoch 67/250\n",
      "8/8 [==============================] - 0s 6ms/step - loss: 3696.6926 - accuracy: 0.2522 - val_loss: 249.5019 - val_accuracy: 0.0345\n",
      "Epoch 68/250\n",
      "8/8 [==============================] - 0s 6ms/step - loss: 3393.0312 - accuracy: 0.2348 - val_loss: 257.9145 - val_accuracy: 0.3793\n",
      "Epoch 69/250\n",
      "8/8 [==============================] - 0s 5ms/step - loss: 2680.8691 - accuracy: 0.3435 - val_loss: 224.1386 - val_accuracy: 0.3793\n",
      "Epoch 70/250\n",
      "8/8 [==============================] - 0s 6ms/step - loss: 2383.7620 - accuracy: 0.3478 - val_loss: 272.7996 - val_accuracy: 0.3793\n",
      "Epoch 71/250\n",
      "8/8 [==============================] - 0s 6ms/step - loss: 2435.3357 - accuracy: 0.3478 - val_loss: 225.5919 - val_accuracy: 0.3793\n",
      "Epoch 72/250\n",
      "8/8 [==============================] - 0s 6ms/step - loss: 2433.9641 - accuracy: 0.3478 - val_loss: 243.3050 - val_accuracy: 0.3793\n",
      "Epoch 73/250\n",
      "8/8 [==============================] - 0s 6ms/step - loss: 2448.2688 - accuracy: 0.3478 - val_loss: 235.9279 - val_accuracy: 0.3793\n",
      "Epoch 74/250\n",
      "8/8 [==============================] - 0s 5ms/step - loss: 2625.6804 - accuracy: 0.3478 - val_loss: 236.2486 - val_accuracy: 0.3793\n",
      "Epoch 75/250\n",
      "8/8 [==============================] - 0s 5ms/step - loss: 2708.9058 - accuracy: 0.3478 - val_loss: 254.4786 - val_accuracy: 0.3793\n",
      "Epoch 76/250\n",
      "8/8 [==============================] - 0s 5ms/step - loss: 2539.4971 - accuracy: 0.3478 - val_loss: 222.5997 - val_accuracy: 0.3793\n",
      "Epoch 77/250\n",
      "8/8 [==============================] - 0s 6ms/step - loss: 2802.1885 - accuracy: 0.3478 - val_loss: 230.0413 - val_accuracy: 0.3793\n",
      "Epoch 78/250\n",
      "8/8 [==============================] - 0s 6ms/step - loss: 3117.3867 - accuracy: 0.1565 - val_loss: 224.2148 - val_accuracy: 0.0345\n",
      "Epoch 79/250\n",
      "8/8 [==============================] - 0s 5ms/step - loss: 2857.8315 - accuracy: 0.1391 - val_loss: 228.3810 - val_accuracy: 0.3793\n",
      "Epoch 80/250\n",
      "8/8 [==============================] - 0s 5ms/step - loss: 2556.0476 - accuracy: 0.3261 - val_loss: 229.3584 - val_accuracy: 0.3793\n",
      "Epoch 81/250\n",
      "8/8 [==============================] - 0s 5ms/step - loss: 3526.8035 - accuracy: 0.3478 - val_loss: 232.0393 - val_accuracy: 0.3793\n",
      "Epoch 82/250\n",
      "8/8 [==============================] - 0s 5ms/step - loss: 2830.3884 - accuracy: 0.3478 - val_loss: 227.7864 - val_accuracy: 0.3793\n",
      "Epoch 83/250\n",
      "8/8 [==============================] - 0s 6ms/step - loss: 2982.1587 - accuracy: 0.3478 - val_loss: 233.9364 - val_accuracy: 0.3793\n",
      "Epoch 84/250\n",
      "8/8 [==============================] - 0s 5ms/step - loss: 2665.5071 - accuracy: 0.3478 - val_loss: 224.8393 - val_accuracy: 0.3793\n",
      "Epoch 85/250\n",
      "8/8 [==============================] - 0s 9ms/step - loss: 2562.0466 - accuracy: 0.3478 - val_loss: 244.1485 - val_accuracy: 0.3621\n",
      "Epoch 86/250\n",
      "8/8 [==============================] - 0s 6ms/step - loss: 2497.0273 - accuracy: 0.3435 - val_loss: 220.1336 - val_accuracy: 0.3793\n",
      "Epoch 87/250\n",
      "8/8 [==============================] - 0s 5ms/step - loss: 2695.6211 - accuracy: 0.3478 - val_loss: 248.9515 - val_accuracy: 0.3793\n",
      "Epoch 88/250\n",
      "8/8 [==============================] - 0s 5ms/step - loss: 2412.9331 - accuracy: 0.3478 - val_loss: 222.2728 - val_accuracy: 0.3793\n",
      "Epoch 89/250\n",
      "8/8 [==============================] - 0s 5ms/step - loss: 2457.7263 - accuracy: 0.3478 - val_loss: 240.5026 - val_accuracy: 0.3793\n",
      "Epoch 90/250\n",
      "8/8 [==============================] - 0s 5ms/step - loss: 2418.8843 - accuracy: 0.3043 - val_loss: 220.0972 - val_accuracy: 0.3276\n",
      "Epoch 91/250\n",
      "8/8 [==============================] - 0s 5ms/step - loss: 3283.0771 - accuracy: 0.3348 - val_loss: 245.2468 - val_accuracy: 0.3793\n",
      "Epoch 92/250\n",
      "8/8 [==============================] - 0s 5ms/step - loss: 3213.3342 - accuracy: 0.3478 - val_loss: 220.4498 - val_accuracy: 0.3793\n",
      "Epoch 93/250\n",
      "8/8 [==============================] - 0s 5ms/step - loss: 2472.8740 - accuracy: 0.3478 - val_loss: 223.6143 - val_accuracy: 0.3793\n",
      "Epoch 94/250\n",
      "8/8 [==============================] - 0s 5ms/step - loss: 2422.9084 - accuracy: 0.3478 - val_loss: 233.2737 - val_accuracy: 0.3793\n",
      "Epoch 95/250\n",
      "8/8 [==============================] - 0s 5ms/step - loss: 2853.1760 - accuracy: 0.2391 - val_loss: 222.5463 - val_accuracy: 0.1379\n",
      "Epoch 96/250\n",
      "8/8 [==============================] - 0s 6ms/step - loss: 2482.2600 - accuracy: 0.2304 - val_loss: 220.2400 - val_accuracy: 0.3793\n",
      "Epoch 97/250\n",
      "8/8 [==============================] - 0s 6ms/step - loss: 2709.8079 - accuracy: 0.3478 - val_loss: 220.9048 - val_accuracy: 0.3793\n",
      "Epoch 98/250\n",
      "8/8 [==============================] - 0s 6ms/step - loss: 2444.5798 - accuracy: 0.3478 - val_loss: 226.4539 - val_accuracy: 0.3793\n",
      "Epoch 99/250\n",
      "8/8 [==============================] - 0s 5ms/step - loss: 2520.9238 - accuracy: 0.3478 - val_loss: 225.3935 - val_accuracy: 0.3793\n",
      "Epoch 100/250\n",
      "8/8 [==============================] - 0s 5ms/step - loss: 2681.0479 - accuracy: 0.3304 - val_loss: 229.2117 - val_accuracy: 0.3793\n",
      "Epoch 101/250\n",
      "8/8 [==============================] - 0s 6ms/step - loss: 3032.0044 - accuracy: 0.3478 - val_loss: 255.3010 - val_accuracy: 0.3793\n",
      "Epoch 102/250\n",
      "8/8 [==============================] - 0s 5ms/step - loss: 2921.1150 - accuracy: 0.3478 - val_loss: 223.6151 - val_accuracy: 0.3793\n",
      "Epoch 103/250\n",
      "8/8 [==============================] - 0s 5ms/step - loss: 2516.8228 - accuracy: 0.3478 - val_loss: 242.1463 - val_accuracy: 0.3793\n",
      "Epoch 104/250\n",
      "8/8 [==============================] - 0s 5ms/step - loss: 2741.0859 - accuracy: 0.3478 - val_loss: 221.3113 - val_accuracy: 0.3793\n",
      "Epoch 105/250\n",
      "8/8 [==============================] - 0s 5ms/step - loss: 2440.0117 - accuracy: 0.3478 - val_loss: 237.5668 - val_accuracy: 0.3793\n",
      "Epoch 106/250\n",
      "8/8 [==============================] - 0s 6ms/step - loss: 2443.3696 - accuracy: 0.3478 - val_loss: 218.5136 - val_accuracy: 0.3793\n",
      "Epoch 107/250\n",
      "8/8 [==============================] - 0s 6ms/step - loss: 2367.2747 - accuracy: 0.3478 - val_loss: 234.7932 - val_accuracy: 0.3793\n",
      "Epoch 108/250\n",
      "8/8 [==============================] - 0s 6ms/step - loss: 2440.0786 - accuracy: 0.3478 - val_loss: 222.1192 - val_accuracy: 0.3793\n",
      "Epoch 109/250\n",
      "8/8 [==============================] - 0s 6ms/step - loss: 2359.8225 - accuracy: 0.3478 - val_loss: 223.0389 - val_accuracy: 0.3793\n",
      "Epoch 110/250\n",
      "8/8 [==============================] - 0s 6ms/step - loss: 2362.1704 - accuracy: 0.3478 - val_loss: 235.6245 - val_accuracy: 0.3793\n",
      "Epoch 111/250\n",
      "8/8 [==============================] - 0s 6ms/step - loss: 2447.7002 - accuracy: 0.3478 - val_loss: 221.4545 - val_accuracy: 0.3793\n",
      "Epoch 112/250\n",
      "8/8 [==============================] - 0s 6ms/step - loss: 2621.3271 - accuracy: 0.3478 - val_loss: 222.3744 - val_accuracy: 0.3793\n",
      "Epoch 113/250\n",
      "8/8 [==============================] - 0s 5ms/step - loss: 2891.2554 - accuracy: 0.3478 - val_loss: 247.4546 - val_accuracy: 0.3793\n",
      "Epoch 114/250\n",
      "8/8 [==============================] - 0s 5ms/step - loss: 2533.6367 - accuracy: 0.3478 - val_loss: 228.2029 - val_accuracy: 0.3793\n",
      "Epoch 115/250\n",
      "8/8 [==============================] - 0s 5ms/step - loss: 2388.2700 - accuracy: 0.3478 - val_loss: 220.7253 - val_accuracy: 0.3793\n",
      "Epoch 116/250\n",
      "8/8 [==============================] - 0s 5ms/step - loss: 2588.2036 - accuracy: 0.3478 - val_loss: 231.8208 - val_accuracy: 0.3793\n",
      "Epoch 117/250\n",
      "8/8 [==============================] - 0s 5ms/step - loss: 2299.4375 - accuracy: 0.3478 - val_loss: 220.7691 - val_accuracy: 0.3793\n",
      "Epoch 118/250\n",
      "8/8 [==============================] - 0s 5ms/step - loss: 2603.6553 - accuracy: 0.3478 - val_loss: 246.8268 - val_accuracy: 0.3793\n",
      "Epoch 119/250\n",
      "8/8 [==============================] - 0s 6ms/step - loss: 2850.6943 - accuracy: 0.3478 - val_loss: 258.4905 - val_accuracy: 0.3793\n",
      "Epoch 120/250\n",
      "8/8 [==============================] - 0s 6ms/step - loss: 4167.2915 - accuracy: 0.3478 - val_loss: 224.6720 - val_accuracy: 0.3793\n",
      "Epoch 121/250\n",
      "8/8 [==============================] - 0s 5ms/step - loss: 2619.3469 - accuracy: 0.3478 - val_loss: 254.5069 - val_accuracy: 0.3793\n",
      "Epoch 122/250\n",
      "8/8 [==============================] - 0s 5ms/step - loss: 2471.3274 - accuracy: 0.3478 - val_loss: 222.9071 - val_accuracy: 0.3793\n",
      "Epoch 123/250\n",
      "8/8 [==============================] - 0s 6ms/step - loss: 2649.4424 - accuracy: 0.3478 - val_loss: 217.4431 - val_accuracy: 0.3793\n",
      "Epoch 124/250\n",
      "8/8 [==============================] - 0s 6ms/step - loss: 2362.0554 - accuracy: 0.3478 - val_loss: 218.4715 - val_accuracy: 0.3793\n",
      "Epoch 125/250\n",
      "8/8 [==============================] - 0s 6ms/step - loss: 2349.3342 - accuracy: 0.3478 - val_loss: 218.8100 - val_accuracy: 0.3793\n",
      "Epoch 126/250\n",
      "8/8 [==============================] - 0s 6ms/step - loss: 2695.3406 - accuracy: 0.3478 - val_loss: 222.4138 - val_accuracy: 0.3793\n",
      "Epoch 127/250\n",
      "8/8 [==============================] - 0s 6ms/step - loss: 2892.7363 - accuracy: 0.3478 - val_loss: 259.4084 - val_accuracy: 0.3793\n",
      "Epoch 128/250\n",
      "8/8 [==============================] - 0s 6ms/step - loss: 2858.4414 - accuracy: 0.3478 - val_loss: 216.8171 - val_accuracy: 0.3793\n",
      "Epoch 129/250\n",
      "8/8 [==============================] - 0s 5ms/step - loss: 2454.4607 - accuracy: 0.3478 - val_loss: 219.2510 - val_accuracy: 0.3793\n",
      "Epoch 130/250\n",
      "8/8 [==============================] - 0s 5ms/step - loss: 2334.7861 - accuracy: 0.3478 - val_loss: 218.0730 - val_accuracy: 0.3793\n",
      "Epoch 131/250\n",
      "8/8 [==============================] - 0s 6ms/step - loss: 2409.5520 - accuracy: 0.3478 - val_loss: 216.4137 - val_accuracy: 0.3793\n",
      "Epoch 132/250\n",
      "8/8 [==============================] - 0s 5ms/step - loss: 2379.7351 - accuracy: 0.3478 - val_loss: 216.6898 - val_accuracy: 0.3793\n",
      "Epoch 133/250\n",
      "8/8 [==============================] - 0s 6ms/step - loss: 2573.1350 - accuracy: 0.2000 - val_loss: 229.0156 - val_accuracy: 0.0345\n",
      "Epoch 134/250\n",
      "8/8 [==============================] - 0s 6ms/step - loss: 2455.1907 - accuracy: 0.1696 - val_loss: 217.0567 - val_accuracy: 0.3793\n",
      "Epoch 135/250\n",
      "8/8 [==============================] - 0s 5ms/step - loss: 2462.6494 - accuracy: 0.3478 - val_loss: 216.4445 - val_accuracy: 0.3793\n",
      "Epoch 136/250\n",
      "8/8 [==============================] - 0s 6ms/step - loss: 2484.7297 - accuracy: 0.3478 - val_loss: 220.2035 - val_accuracy: 0.3793\n",
      "Epoch 137/250\n",
      "8/8 [==============================] - 0s 5ms/step - loss: 2606.3730 - accuracy: 0.3478 - val_loss: 240.0636 - val_accuracy: 0.3793\n",
      "Epoch 138/250\n",
      "8/8 [==============================] - 0s 5ms/step - loss: 2390.7285 - accuracy: 0.3435 - val_loss: 227.2286 - val_accuracy: 0.3793\n",
      "Epoch 139/250\n",
      "8/8 [==============================] - 0s 5ms/step - loss: 3217.8840 - accuracy: 0.1739 - val_loss: 274.3819 - val_accuracy: 0.0345\n",
      "Epoch 140/250\n",
      "8/8 [==============================] - 0s 6ms/step - loss: 3100.5728 - accuracy: 0.1435 - val_loss: 271.8128 - val_accuracy: 0.3793\n",
      "Epoch 141/250\n",
      "8/8 [==============================] - 0s 6ms/step - loss: 2836.4250 - accuracy: 0.3478 - val_loss: 284.2080 - val_accuracy: 0.3793\n",
      "Epoch 142/250\n",
      "8/8 [==============================] - 0s 6ms/step - loss: 2749.5574 - accuracy: 0.3391 - val_loss: 218.1064 - val_accuracy: 0.3793\n",
      "Epoch 143/250\n",
      "8/8 [==============================] - 0s 6ms/step - loss: 2453.3359 - accuracy: 0.3478 - val_loss: 242.6636 - val_accuracy: 0.3793\n",
      "Epoch 144/250\n",
      "8/8 [==============================] - 0s 6ms/step - loss: 2434.9648 - accuracy: 0.3478 - val_loss: 216.7704 - val_accuracy: 0.3793\n",
      "Epoch 145/250\n",
      "8/8 [==============================] - 0s 5ms/step - loss: 2757.0957 - accuracy: 0.3478 - val_loss: 258.6701 - val_accuracy: 0.3793\n",
      "Epoch 146/250\n",
      "8/8 [==============================] - 0s 6ms/step - loss: 3170.9592 - accuracy: 0.3478 - val_loss: 249.1585 - val_accuracy: 0.3793\n",
      "Epoch 147/250\n",
      "8/8 [==============================] - 0s 5ms/step - loss: 3189.6885 - accuracy: 0.3478 - val_loss: 215.0540 - val_accuracy: 0.3793\n",
      "Epoch 148/250\n",
      "8/8 [==============================] - 0s 6ms/step - loss: 4878.9731 - accuracy: 0.3478 - val_loss: 235.7638 - val_accuracy: 0.3793\n",
      "Epoch 149/250\n",
      "8/8 [==============================] - 0s 6ms/step - loss: 3707.7334 - accuracy: 0.3565 - val_loss: 216.2648 - val_accuracy: 0.3793\n",
      "Epoch 150/250\n",
      "8/8 [==============================] - 0s 6ms/step - loss: 2516.4421 - accuracy: 0.3478 - val_loss: 230.2829 - val_accuracy: 0.3793\n",
      "Epoch 151/250\n",
      "8/8 [==============================] - 0s 6ms/step - loss: 2431.3721 - accuracy: 0.3304 - val_loss: 216.5952 - val_accuracy: 0.3793\n",
      "Epoch 152/250\n",
      "8/8 [==============================] - 0s 6ms/step - loss: 2726.0706 - accuracy: 0.3217 - val_loss: 263.0715 - val_accuracy: 0.3793\n",
      "Epoch 153/250\n",
      "8/8 [==============================] - 0s 5ms/step - loss: 2512.4070 - accuracy: 0.3478 - val_loss: 215.0871 - val_accuracy: 0.3793\n",
      "Epoch 154/250\n",
      "8/8 [==============================] - 0s 5ms/step - loss: 2598.7786 - accuracy: 0.3478 - val_loss: 218.4965 - val_accuracy: 0.3793\n",
      "Epoch 155/250\n",
      "8/8 [==============================] - 0s 5ms/step - loss: 2391.9595 - accuracy: 0.3478 - val_loss: 236.1321 - val_accuracy: 0.3793\n",
      "Epoch 156/250\n",
      "8/8 [==============================] - 0s 5ms/step - loss: 2885.3086 - accuracy: 0.2174 - val_loss: 222.2231 - val_accuracy: 0.3448\n",
      "Epoch 157/250\n",
      "8/8 [==============================] - 0s 6ms/step - loss: 2874.8052 - accuracy: 0.3304 - val_loss: 276.7717 - val_accuracy: 0.3793\n",
      "Epoch 158/250\n",
      "8/8 [==============================] - 0s 5ms/step - loss: 2815.3052 - accuracy: 0.3478 - val_loss: 226.5214 - val_accuracy: 0.3793\n",
      "Epoch 159/250\n",
      "8/8 [==============================] - 0s 5ms/step - loss: 2430.1868 - accuracy: 0.3478 - val_loss: 328.6256 - val_accuracy: 0.3793\n",
      "Epoch 160/250\n",
      "8/8 [==============================] - 0s 5ms/step - loss: 3057.5327 - accuracy: 0.3478 - val_loss: 260.7108 - val_accuracy: 0.3793\n",
      "Epoch 161/250\n",
      "8/8 [==============================] - 0s 6ms/step - loss: 3148.1487 - accuracy: 0.3478 - val_loss: 285.2086 - val_accuracy: 0.3793\n",
      "Epoch 162/250\n",
      "8/8 [==============================] - 0s 6ms/step - loss: 2659.9470 - accuracy: 0.3478 - val_loss: 217.5666 - val_accuracy: 0.3793\n",
      "Epoch 163/250\n",
      "8/8 [==============================] - 0s 5ms/step - loss: 2641.1807 - accuracy: 0.3478 - val_loss: 216.2407 - val_accuracy: 0.3793\n",
      "Epoch 164/250\n",
      "8/8 [==============================] - 0s 5ms/step - loss: 3483.7937 - accuracy: 0.3478 - val_loss: 250.5611 - val_accuracy: 0.3793\n",
      "Epoch 165/250\n",
      "8/8 [==============================] - 0s 5ms/step - loss: 3282.0576 - accuracy: 0.3478 - val_loss: 219.9040 - val_accuracy: 0.3793\n",
      "Epoch 166/250\n",
      "8/8 [==============================] - 0s 5ms/step - loss: 2537.6675 - accuracy: 0.3478 - val_loss: 282.7018 - val_accuracy: 0.3793\n",
      "Epoch 167/250\n",
      "8/8 [==============================] - 0s 5ms/step - loss: 2573.5476 - accuracy: 0.3478 - val_loss: 215.2180 - val_accuracy: 0.3793\n",
      "Epoch 168/250\n",
      "8/8 [==============================] - 0s 5ms/step - loss: 2375.8066 - accuracy: 0.3478 - val_loss: 228.9615 - val_accuracy: 0.3793\n",
      "Epoch 169/250\n",
      "8/8 [==============================] - 0s 5ms/step - loss: 2341.2673 - accuracy: 0.3478 - val_loss: 214.9342 - val_accuracy: 0.3793\n",
      "Epoch 170/250\n",
      "8/8 [==============================] - 0s 5ms/step - loss: 2288.1929 - accuracy: 0.3478 - val_loss: 247.8647 - val_accuracy: 0.3793\n",
      "Epoch 171/250\n",
      "8/8 [==============================] - 0s 5ms/step - loss: 2482.5076 - accuracy: 0.3478 - val_loss: 220.4198 - val_accuracy: 0.3793\n",
      "Epoch 172/250\n",
      "8/8 [==============================] - 0s 5ms/step - loss: 2574.7168 - accuracy: 0.3478 - val_loss: 215.2330 - val_accuracy: 0.3793\n",
      "Epoch 173/250\n",
      "8/8 [==============================] - 0s 6ms/step - loss: 2605.1052 - accuracy: 0.1696 - val_loss: 225.0670 - val_accuracy: 0.1379\n",
      "Epoch 174/250\n",
      "8/8 [==============================] - 0s 5ms/step - loss: 2352.5896 - accuracy: 0.2130 - val_loss: 214.3564 - val_accuracy: 0.3793\n",
      "Epoch 175/250\n",
      "8/8 [==============================] - 0s 6ms/step - loss: 2640.1440 - accuracy: 0.3478 - val_loss: 214.1876 - val_accuracy: 0.3793\n",
      "Epoch 176/250\n",
      "8/8 [==============================] - 0s 6ms/step - loss: 3187.2168 - accuracy: 0.3478 - val_loss: 243.9501 - val_accuracy: 0.3793\n",
      "Epoch 177/250\n",
      "8/8 [==============================] - 0s 6ms/step - loss: 2450.5415 - accuracy: 0.1565 - val_loss: 225.3627 - val_accuracy: 0.0345\n",
      "Epoch 178/250\n",
      "8/8 [==============================] - 0s 6ms/step - loss: 2763.7485 - accuracy: 0.2478 - val_loss: 276.0808 - val_accuracy: 0.3793\n",
      "Epoch 179/250\n",
      "8/8 [==============================] - 0s 5ms/step - loss: 2714.0576 - accuracy: 0.3478 - val_loss: 238.7358 - val_accuracy: 0.3793\n",
      "Epoch 180/250\n",
      "8/8 [==============================] - 0s 6ms/step - loss: 2772.6777 - accuracy: 0.2826 - val_loss: 220.3316 - val_accuracy: 0.0345\n",
      "Epoch 181/250\n",
      "8/8 [==============================] - 0s 6ms/step - loss: 2344.5430 - accuracy: 0.1348 - val_loss: 230.9161 - val_accuracy: 0.3793\n",
      "Epoch 182/250\n",
      "8/8 [==============================] - 0s 6ms/step - loss: 2452.2578 - accuracy: 0.3478 - val_loss: 213.0945 - val_accuracy: 0.3793\n",
      "Epoch 183/250\n",
      "8/8 [==============================] - 0s 6ms/step - loss: 2317.7732 - accuracy: 0.3478 - val_loss: 214.0607 - val_accuracy: 0.3793\n",
      "Epoch 184/250\n",
      "8/8 [==============================] - 0s 5ms/step - loss: 2335.8926 - accuracy: 0.3304 - val_loss: 239.3971 - val_accuracy: 0.3448\n",
      "Epoch 185/250\n",
      "8/8 [==============================] - 0s 6ms/step - loss: 2961.7815 - accuracy: 0.3043 - val_loss: 240.8939 - val_accuracy: 0.3793\n",
      "Epoch 186/250\n",
      "8/8 [==============================] - 0s 5ms/step - loss: 2904.6943 - accuracy: 0.3478 - val_loss: 361.2613 - val_accuracy: 0.3793\n",
      "Epoch 187/250\n",
      "8/8 [==============================] - 0s 6ms/step - loss: 2918.5867 - accuracy: 0.3478 - val_loss: 281.6834 - val_accuracy: 0.3793\n",
      "Epoch 188/250\n",
      "8/8 [==============================] - 0s 5ms/step - loss: 3730.0032 - accuracy: 0.3087 - val_loss: 249.7052 - val_accuracy: 0.3793\n",
      "Epoch 189/250\n",
      "8/8 [==============================] - 0s 6ms/step - loss: 3824.4143 - accuracy: 0.1826 - val_loss: 232.4714 - val_accuracy: 0.0345\n",
      "Epoch 190/250\n",
      "8/8 [==============================] - 0s 6ms/step - loss: 3558.3220 - accuracy: 0.2043 - val_loss: 211.8528 - val_accuracy: 0.3793\n",
      "Epoch 191/250\n",
      "8/8 [==============================] - 0s 5ms/step - loss: 2497.9690 - accuracy: 0.3478 - val_loss: 223.4683 - val_accuracy: 0.3793\n",
      "Epoch 192/250\n",
      "8/8 [==============================] - 0s 5ms/step - loss: 2399.6606 - accuracy: 0.3478 - val_loss: 242.7509 - val_accuracy: 0.3793\n",
      "Epoch 193/250\n",
      "8/8 [==============================] - 0s 5ms/step - loss: 3224.4021 - accuracy: 0.3435 - val_loss: 240.2751 - val_accuracy: 0.3793\n",
      "Epoch 194/250\n",
      "8/8 [==============================] - 0s 6ms/step - loss: 3229.8748 - accuracy: 0.3478 - val_loss: 235.3459 - val_accuracy: 0.3793\n",
      "Epoch 195/250\n",
      "8/8 [==============================] - 0s 6ms/step - loss: 2318.7412 - accuracy: 0.3478 - val_loss: 220.8552 - val_accuracy: 0.3793\n",
      "Epoch 196/250\n",
      "8/8 [==============================] - 0s 5ms/step - loss: 2426.1169 - accuracy: 0.3478 - val_loss: 240.2548 - val_accuracy: 0.3793\n",
      "Epoch 197/250\n",
      "8/8 [==============================] - 0s 6ms/step - loss: 2360.8264 - accuracy: 0.2348 - val_loss: 212.7425 - val_accuracy: 0.3793\n",
      "Epoch 198/250\n",
      "8/8 [==============================] - 0s 5ms/step - loss: 2566.2798 - accuracy: 0.3478 - val_loss: 211.1009 - val_accuracy: 0.3793\n",
      "Epoch 199/250\n",
      "8/8 [==============================] - 0s 5ms/step - loss: 2689.8916 - accuracy: 0.3478 - val_loss: 250.8900 - val_accuracy: 0.3793\n",
      "Epoch 200/250\n",
      "8/8 [==============================] - 0s 6ms/step - loss: 3026.3711 - accuracy: 0.3435 - val_loss: 218.9812 - val_accuracy: 0.3793\n",
      "Epoch 201/250\n",
      "8/8 [==============================] - 0s 5ms/step - loss: 2971.1968 - accuracy: 0.3478 - val_loss: 217.9840 - val_accuracy: 0.3793\n",
      "Epoch 202/250\n",
      "8/8 [==============================] - 0s 5ms/step - loss: 2510.1985 - accuracy: 0.3478 - val_loss: 240.4475 - val_accuracy: 0.3793\n",
      "Epoch 203/250\n",
      "8/8 [==============================] - 0s 5ms/step - loss: 2507.2075 - accuracy: 0.3478 - val_loss: 254.5815 - val_accuracy: 0.3793\n",
      "Epoch 204/250\n",
      "8/8 [==============================] - 0s 6ms/step - loss: 4370.6338 - accuracy: 0.1739 - val_loss: 381.5695 - val_accuracy: 0.0345\n",
      "Epoch 205/250\n",
      "8/8 [==============================] - 0s 5ms/step - loss: 3717.5864 - accuracy: 0.1435 - val_loss: 218.0868 - val_accuracy: 0.3793\n",
      "Epoch 206/250\n",
      "8/8 [==============================] - 0s 5ms/step - loss: 2850.7048 - accuracy: 0.3478 - val_loss: 211.0247 - val_accuracy: 0.3793\n",
      "Epoch 207/250\n",
      "8/8 [==============================] - 0s 6ms/step - loss: 2314.2061 - accuracy: 0.3478 - val_loss: 212.8313 - val_accuracy: 0.3793\n",
      "Epoch 208/250\n",
      "8/8 [==============================] - 0s 5ms/step - loss: 2335.2117 - accuracy: 0.3478 - val_loss: 218.9819 - val_accuracy: 0.3793\n",
      "Epoch 209/250\n",
      "8/8 [==============================] - 0s 5ms/step - loss: 2354.4622 - accuracy: 0.2435 - val_loss: 211.5293 - val_accuracy: 0.1379\n",
      "Epoch 210/250\n",
      "8/8 [==============================] - 0s 5ms/step - loss: 2399.0515 - accuracy: 0.2609 - val_loss: 217.9108 - val_accuracy: 0.3793\n",
      "Epoch 211/250\n",
      "8/8 [==============================] - 0s 5ms/step - loss: 2367.1807 - accuracy: 0.3478 - val_loss: 233.1171 - val_accuracy: 0.3793\n",
      "Epoch 212/250\n",
      "8/8 [==============================] - 0s 5ms/step - loss: 3545.9019 - accuracy: 0.3478 - val_loss: 305.9699 - val_accuracy: 0.3793\n",
      "Epoch 213/250\n",
      "8/8 [==============================] - 0s 5ms/step - loss: 3556.2815 - accuracy: 0.3478 - val_loss: 424.0108 - val_accuracy: 0.3793\n",
      "Epoch 214/250\n",
      "8/8 [==============================] - 0s 5ms/step - loss: 4135.8853 - accuracy: 0.3217 - val_loss: 256.7179 - val_accuracy: 0.3793\n",
      "Epoch 215/250\n",
      "8/8 [==============================] - 0s 6ms/step - loss: 2586.2576 - accuracy: 0.3478 - val_loss: 234.9327 - val_accuracy: 0.3793\n",
      "Epoch 216/250\n",
      "8/8 [==============================] - 0s 5ms/step - loss: 2243.3984 - accuracy: 0.3478 - val_loss: 211.8336 - val_accuracy: 0.3793\n",
      "Epoch 217/250\n",
      "8/8 [==============================] - 0s 5ms/step - loss: 2441.0027 - accuracy: 0.3478 - val_loss: 210.5528 - val_accuracy: 0.3793\n",
      "Epoch 218/250\n",
      "8/8 [==============================] - 0s 5ms/step - loss: 2672.5215 - accuracy: 0.3478 - val_loss: 265.2329 - val_accuracy: 0.3793\n",
      "Epoch 219/250\n",
      "8/8 [==============================] - 0s 5ms/step - loss: 2704.9126 - accuracy: 0.3478 - val_loss: 241.1988 - val_accuracy: 0.3793\n",
      "Epoch 220/250\n",
      "8/8 [==============================] - 0s 6ms/step - loss: 2607.5498 - accuracy: 0.3478 - val_loss: 238.4121 - val_accuracy: 0.3793\n",
      "Epoch 221/250\n",
      "8/8 [==============================] - 0s 5ms/step - loss: 2223.1072 - accuracy: 0.3478 - val_loss: 212.4902 - val_accuracy: 0.3793\n",
      "Epoch 222/250\n",
      "8/8 [==============================] - 0s 5ms/step - loss: 2894.0190 - accuracy: 0.3478 - val_loss: 225.1062 - val_accuracy: 0.3793\n",
      "Epoch 223/250\n",
      "8/8 [==============================] - 0s 5ms/step - loss: 2883.1660 - accuracy: 0.3478 - val_loss: 260.8295 - val_accuracy: 0.3793\n",
      "Epoch 224/250\n",
      "8/8 [==============================] - 0s 6ms/step - loss: 3945.9568 - accuracy: 0.3478 - val_loss: 313.8537 - val_accuracy: 0.3793\n",
      "Epoch 225/250\n",
      "8/8 [==============================] - 0s 6ms/step - loss: 3949.4021 - accuracy: 0.3478 - val_loss: 386.9695 - val_accuracy: 0.3793\n",
      "Epoch 226/250\n",
      "8/8 [==============================] - 0s 5ms/step - loss: 3811.8091 - accuracy: 0.3000 - val_loss: 230.8963 - val_accuracy: 0.3793\n",
      "Epoch 227/250\n",
      "8/8 [==============================] - 0s 5ms/step - loss: 2241.5684 - accuracy: 0.3478 - val_loss: 291.7005 - val_accuracy: 0.3793\n",
      "Epoch 228/250\n",
      "8/8 [==============================] - 0s 5ms/step - loss: 2684.9717 - accuracy: 0.3478 - val_loss: 266.6264 - val_accuracy: 0.3793\n",
      "Epoch 229/250\n",
      "8/8 [==============================] - 0s 6ms/step - loss: 2814.2471 - accuracy: 0.3478 - val_loss: 281.4259 - val_accuracy: 0.3793\n",
      "Epoch 230/250\n",
      "8/8 [==============================] - 0s 6ms/step - loss: 2874.4495 - accuracy: 0.3478 - val_loss: 211.5695 - val_accuracy: 0.3793\n",
      "Epoch 231/250\n",
      "8/8 [==============================] - 0s 6ms/step - loss: 2246.8203 - accuracy: 0.3478 - val_loss: 259.6781 - val_accuracy: 0.3793\n",
      "Epoch 232/250\n",
      "8/8 [==============================] - 0s 5ms/step - loss: 2551.2097 - accuracy: 0.3478 - val_loss: 210.3876 - val_accuracy: 0.3793\n",
      "Epoch 233/250\n",
      "8/8 [==============================] - 0s 5ms/step - loss: 2384.9277 - accuracy: 0.3478 - val_loss: 248.9369 - val_accuracy: 0.3793\n",
      "Epoch 234/250\n",
      "8/8 [==============================] - 0s 5ms/step - loss: 2968.7722 - accuracy: 0.3478 - val_loss: 208.8856 - val_accuracy: 0.3793\n",
      "Epoch 235/250\n",
      "8/8 [==============================] - 0s 5ms/step - loss: 2308.5242 - accuracy: 0.3435 - val_loss: 214.6138 - val_accuracy: 0.3793\n",
      "Epoch 236/250\n",
      "8/8 [==============================] - 0s 5ms/step - loss: 2292.7996 - accuracy: 0.3478 - val_loss: 209.4076 - val_accuracy: 0.3793\n",
      "Epoch 237/250\n",
      "8/8 [==============================] - 0s 5ms/step - loss: 2310.8081 - accuracy: 0.3478 - val_loss: 211.6913 - val_accuracy: 0.3793\n",
      "Epoch 238/250\n",
      "8/8 [==============================] - 0s 5ms/step - loss: 2313.3940 - accuracy: 0.3478 - val_loss: 215.7728 - val_accuracy: 0.3793\n",
      "Epoch 239/250\n",
      "8/8 [==============================] - 0s 5ms/step - loss: 2282.0105 - accuracy: 0.3478 - val_loss: 211.6276 - val_accuracy: 0.3793\n",
      "Epoch 240/250\n",
      "8/8 [==============================] - 0s 6ms/step - loss: 2498.7732 - accuracy: 0.3478 - val_loss: 219.2082 - val_accuracy: 0.3793\n",
      "Epoch 241/250\n",
      "8/8 [==============================] - 0s 5ms/step - loss: 2494.3850 - accuracy: 0.3478 - val_loss: 209.1498 - val_accuracy: 0.3793\n",
      "Epoch 242/250\n",
      "8/8 [==============================] - 0s 6ms/step - loss: 2274.6558 - accuracy: 0.3478 - val_loss: 208.5404 - val_accuracy: 0.3793\n",
      "Epoch 243/250\n",
      "8/8 [==============================] - 0s 5ms/step - loss: 2473.5203 - accuracy: 0.3435 - val_loss: 230.3552 - val_accuracy: 0.3793\n",
      "Epoch 244/250\n",
      "8/8 [==============================] - 0s 7ms/step - loss: 2533.7942 - accuracy: 0.3478 - val_loss: 275.5893 - val_accuracy: 0.3793\n",
      "Epoch 245/250\n",
      "8/8 [==============================] - 0s 6ms/step - loss: 2590.3027 - accuracy: 0.3478 - val_loss: 211.3641 - val_accuracy: 0.3793\n",
      "Epoch 246/250\n",
      "8/8 [==============================] - 0s 6ms/step - loss: 3055.9519 - accuracy: 0.3478 - val_loss: 224.4544 - val_accuracy: 0.3793\n",
      "Epoch 247/250\n",
      "8/8 [==============================] - 0s 6ms/step - loss: 2632.6858 - accuracy: 0.2957 - val_loss: 321.4782 - val_accuracy: 0.3621\n",
      "Epoch 248/250\n",
      "8/8 [==============================] - 0s 5ms/step - loss: 3087.2771 - accuracy: 0.3435 - val_loss: 234.8779 - val_accuracy: 0.3793\n",
      "Epoch 249/250\n",
      "8/8 [==============================] - 0s 5ms/step - loss: 3066.7065 - accuracy: 0.3478 - val_loss: 209.7688 - val_accuracy: 0.3793\n",
      "Epoch 250/250\n",
      "8/8 [==============================] - 0s 6ms/step - loss: 2307.0034 - accuracy: 0.3478 - val_loss: 208.2634 - val_accuracy: 0.3793\n",
      "Model: \"sequential_45\"\n",
      "_________________________________________________________________\n",
      "Layer (type)                 Output Shape              Param #   \n",
      "=================================================================\n",
      "time_distributed_114 (TimeDi (None, 1, 7, 7)           91        \n",
      "_________________________________________________________________\n",
      "time_distributed_115 (TimeDi (None, 1, 7, 7)           154       \n",
      "_________________________________________________________________\n",
      "time_distributed_116 (TimeDi (None, 1, 7, 14)          308       \n",
      "_________________________________________________________________\n",
      "time_distributed_117 (TimeDi (None, 1, 7, 36)          1548      \n",
      "_________________________________________________________________\n",
      "dense_85 (Dense)             (None, 1, 7, 70)          2590      \n",
      "_________________________________________________________________\n",
      "flatten_23 (Flatten)         (None, 490)               0         \n",
      "_________________________________________________________________\n",
      "dense_86 (Dense)             (None, 7)                 3437      \n",
      "=================================================================\n",
      "Total params: 8,128\n",
      "Trainable params: 8,128\n",
      "Non-trainable params: 0\n",
      "_________________________________________________________________\n"
     ]
    }
   ],
   "source": [
    "graph = model.fit(train_x, train_y, validation_split=validation_split_factor, epochs=250)\n",
    "model.summary()"
   ]
  },
  {
   "cell_type": "code",
   "execution_count": 238,
   "metadata": {},
   "outputs": [
    {
     "data": {
      "text/plain": [
       "[<matplotlib.lines.Line2D at 0x1e5b520ba00>]"
      ]
     },
     "execution_count": 238,
     "metadata": {},
     "output_type": "execute_result"
    },
    {
     "data": {
      "image/png": "[encoded data removed]",
      "text/plain": [
       "<Figure size 432x288 with 1 Axes>"
      ]
     },
     "metadata": {
      "needs_background": "light"
     },
     "output_type": "display_data"
    }
   ],
   "source": [
    "import matplotlib.pyplot as plt\n",
    "loss = graph.history['loss']\n",
    "val_loss = graph.history['val_loss']\n",
    "val_acc = graph.history['val_accuracy']\n",
    "plt.plot(range(len(loss)), loss)"
   ]
  },
  {
   "cell_type": "code",
   "execution_count": 239,
   "metadata": {},
   "outputs": [
    {
     "data": {
      "text/plain": [
       "[<matplotlib.lines.Line2D at 0x1e5b525b310>]"
      ]
     },
     "execution_count": 239,
     "metadata": {},
     "output_type": "execute_result"
    },
    {
     "data": {
      "image/png": "[encoded data removed]",
      "text/plain": [
       "<Figure size 432x288 with 1 Axes>"
      ]
     },
     "metadata": {
      "needs_background": "light"
     },
     "output_type": "display_data"
    }
   ],
   "source": [
    "plt.plot(range(len(val_loss)), val_loss)"
   ]
  },
  {
   "cell_type": "code",
   "execution_count": 240,
   "metadata": {},
   "outputs": [
    {
     "data": {
      "text/plain": [
       "[<matplotlib.lines.Line2D at 0x1e5b52a4970>]"
      ]
     },
     "execution_count": 240,
     "metadata": {},
     "output_type": "execute_result"
    },
    {
     "data": {
      "image/png": "[encoded data removed]",
      "text/plain": [
       "<Figure size 432x288 with 1 Axes>"
      ]
     },
     "metadata": {
      "needs_background": "light"
     },
     "output_type": "display_data"
    }
   ],
   "source": [
    "plt.plot(range(len(val_acc)), val_acc)"
   ]
  },
  {
   "cell_type": "code",
   "execution_count": 241,
   "metadata": {},
   "outputs": [
    {
     "name": "stdout",
     "output_type": "stream",
     "text": [
      "3/3 [==============================] - 0s 3ms/step - loss: 411.1826 - accuracy: 0.3889\n"
     ]
    },
    {
     "data": {
      "text/plain": [
       "[411.1826171875, 0.3888888955116272]"
      ]
     },
     "execution_count": 241,
     "metadata": {},
     "output_type": "execute_result"
    }
   ],
   "source": [
    "model.evaluate(test_x, test_y)"
   ]
  },
  {
   "cell_type": "code",
   "execution_count": 242,
   "metadata": {},
   "outputs": [],
   "source": [
    "pred = model.predict(test_x)"
   ]
  },
  {
   "cell_type": "code",
   "execution_count": 243,
   "metadata": {},
   "outputs": [
    {
     "data": {
      "text/plain": [
       "[<matplotlib.lines.Line2D at 0x1e5b5414a30>,\n",
       " <matplotlib.lines.Line2D at 0x1e5b5414b20>]"
      ]
     },
     "execution_count": 243,
     "metadata": {},
     "output_type": "execute_result"
    },
    {
     "data": {
      "image/png": "[encoded data removed]",
      "text/plain": [
       "<Figure size 432x288 with 1 Axes>"
      ]
     },
     "metadata": {
      "needs_background": "light"
     },
     "output_type": "display_data"
    }
   ],
   "source": [
    "close_pred = np.reshape(pred, (-1, 1))\n",
    "test_y_reshape = np.reshape(test_y, (-1, 1))\n",
    "days = np.arange(1, len(test_y_reshape)+1)\n",
    "plt.plot(days, test_y_reshape, 'b', days, close_pred, 'r')"
   ]
  },
  {
   "cell_type": "code",
   "execution_count": 245,
   "metadata": {},
   "outputs": [
    {
     "data": {
      "text/plain": [
       "[<matplotlib.lines.Line2D at 0x1e5b64cf400>,\n",
       " <matplotlib.lines.Line2D at 0x1e5b64cf4f0>]"
      ]
     },
     "execution_count": 245,
     "metadata": {},
     "output_type": "execute_result"
    },
    {
     "data": {
      "image/png": "[encoded data removed]",
      "text/plain": [
       "<Figure size 432x288 with 1 Axes>"
      ]
     },
     "metadata": {
      "needs_background": "light"
     },
     "output_type": "display_data"
    }
   ],
   "source": [
    "pred = model.predict(train_x[:30, :, :, :])\n",
    "close_pred = np.reshape(pred, (-1, 1))\n",
    "test_y_reshape = np.reshape(train_y[:30, :], (-1, 1))\n",
    "days = np.arange(1, len(test_y_reshape)+1)\n",
    "plt.plot(days, test_y_reshape, 'b', days, close_pred, 'r')"
   ]
  },
  {
   "cell_type": "code",
   "execution_count": 246,
   "metadata": {},
   "outputs": [
    {
     "data": {
      "text/plain": [
       "[<matplotlib.lines.Line2D at 0x1e5b651caf0>,\n",
       " <matplotlib.lines.Line2D at 0x1e5b651cbe0>]"
      ]
     },
     "execution_count": 246,
     "metadata": {},
     "output_type": "execute_result"
    },
    {
     "data": {
      "image/png": "[encoded data removed]",
      "text/plain": [
       "<Figure size 432x288 with 1 Axes>"
      ]
     },
     "metadata": {
      "needs_background": "light"
     },
     "output_type": "display_data"
    }
   ],
   "source": [
    "test_dataset = np.load('dataset/test_stock_preprocessed.npz')\n",
    "test_stock_x, test_stock_y = test_dataset['features'][:, :, :4], test_dataset['labels']\n",
    "test_stock_x = np.expand_dims(test_stock_x, axis=1)\n",
    "pred = model.predict(test_stock_x)\n",
    "close_pred = np.reshape(pred, (-1, 1))\n",
    "test_y_reshape = np.reshape(test_stock_y, (-1, 1))\n",
    "days = np.arange(1, len(test_y_reshape)+1)\n",
    "plt.plot(days, test_y_reshape, 'b', days, close_pred, 'r')"
   ]
  },
  {
   "cell_type": "code",
   "execution_count": null,
   "metadata": {},
   "outputs": [],
   "source": []
  }
 ],
 "metadata": {
  "kernelspec": {
   "display_name": "Python 3",
   "language": "python",
   "name": "python3"
  },
  "language_info": {
   "codemirror_mode": {
    "name": "ipython",
    "version": 3
   },
   "file_extension": ".py",
   "mimetype": "text/x-python",
   "name": "python",
   "nbconvert_exporter": "python",
   "pygments_lexer": "ipython3",
   "version": "3.8.5"
  }
 },
 "nbformat": 4,
 "nbformat_minor": 4
}
