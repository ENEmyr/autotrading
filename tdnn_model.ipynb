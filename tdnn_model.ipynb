{
 "cells": [
  {
   "cell_type": "code",
   "execution_count": 1,
   "metadata": {},
   "outputs": [
    {
     "name": "stderr",
     "output_type": "stream",
     "text": [
      "C:\\Users\\keypg\\Anaconda3\\envs\\ml\\lib\\site-packages\\numpy\\_distributor_init.py:30: UserWarning: loaded more than 1 DLL from .libs:\n",
      "C:\\Users\\keypg\\Anaconda3\\envs\\ml\\lib\\site-packages\\numpy\\.libs\\libopenblas.NOIJJG62EMASZI6NYURL6JBKM4EVBGM7.gfortran-win_amd64.dll\n",
      "C:\\Users\\keypg\\Anaconda3\\envs\\ml\\lib\\site-packages\\numpy\\.libs\\libopenblas.PYQHXLVVQ7VESDPUVUADXEVJOBGHJPAY.gfortran-win_amd64.dll\n",
      "  warnings.warn(\"loaded more than 1 DLL from .libs:\\n%s\" %\n"
     ]
    }
   ],
   "source": [
    "import numpy as np\n",
    "import tensorflow as tf\n",
    "import math, os, sys, datetime"
   ]
  },
  {
   "cell_type": "code",
   "execution_count": 2,
   "metadata": {},
   "outputs": [],
   "source": [
    "gpus = tf.config.experimental.list_physical_devices('GPU')\n",
    "if gpus:\n",
    "    try:\n",
    "        for gpu in gpus:\n",
    "            tf.config.experimental.set_memory_growth(gpu, True)\n",
    "    except RuntimeError as e:\n",
    "        print(e)"
   ]
  },
  {
   "cell_type": "code",
   "execution_count": 3,
   "metadata": {},
   "outputs": [
    {
     "name": "stdout",
     "output_type": "stream",
     "text": [
      "(288, 1, 1, 7) (288, 7) (72, 1, 1, 7) (72, 7)\n"
     ]
    }
   ],
   "source": [
    "dataset = np.load('dataset/all_data-preprocessed.npz')\n",
    "features, labels = dataset['features'].astype('float32'), dataset['labels'].astype('float32')\n",
    "train_test_split_factor = .8\n",
    "validation_split_factor = .2\n",
    "train_x, train_y, test_x, test_y = features[:math.floor(len(features)*train_test_split_factor)], labels[:math.floor(len(labels)*train_test_split_factor)], features[math.floor(len(features)*train_test_split_factor):], labels[math.floor(len(labels)*train_test_split_factor):]\n",
    "train_x, test_x = np.expand_dims(train_x, axis=1), np.expand_dims(test_x, axis=1) # for use with TimeDistributed\n",
    "input_shape = train_x.shape\n",
    "#train_x, test_x = train_x.reshape((1, -1)), test_x.reshape((1, -1))\n",
    "#train_y, test_y = np.expand_dims(train_y, axis=1), np.expand_dims(test_y, axis=1) # for use with TimeDistributed\n",
    "print(train_x.shape, train_y.shape, test_x.shape, test_y.shape)"
   ]
  },
  {
   "cell_type": "code",
   "execution_count": 4,
   "metadata": {},
   "outputs": [],
   "source": [
    "class endCallback(tf.keras.callbacks.Callback):\n",
    "    def on_epoch_end(self, epoch, logs = {}):\n",
    "        if logs.get(\"accuracy\") >= .99 or logs.get(\"val_accuracy\") > .95:\n",
    "            print('\\nAccuracy reach the satification point, Stop Training.')\n",
    "            self.model.stop_training = True\n",
    "            try:\n",
    "                print('\\nSaving the model')\n",
    "                if os.path.isdir('./model_out') == False:\n",
    "                    os.path.mkdir('./model_out')\n",
    "                self.model.save(f'./model_out/model-{datetime.datetime.now().strftime(\"%Y%m%d-%H%M%S\")}.h5')\n",
    "            except Exception as e:\n",
    "                print(f'Error : {e}')"
   ]
  },
  {
   "cell_type": "code",
   "execution_count": 5,
   "metadata": {},
   "outputs": [],
   "source": [
    "log_dir = \"logs/fit/\" + datetime.datetime.now().strftime(\"%Y%m%d-%H%M%S\")\n",
    "ckp_path = './save_ckp/checkpoints'\n",
    "tensorboard_callback = tf.keras.callbacks.TensorBoard(log_dir, histogram_freq=1)\n",
    "checkpoint_callback = tf.keras.callbacks.ModelCheckpoint(\n",
    "    filepath=ckp_path,\n",
    "    monitor='val_loss',\n",
    "    save_best_only=True,\n",
    "    save_freq='epoch',\n",
    "    save_weights_only=True\n",
    ")\n",
    "layers = [\n",
    "    tf.keras.layers.TimeDistributed(tf.keras.layers.Conv1D(7, 3, padding='same', activation='relu', input_shape=input_shape[1:])),\n",
    "    tf.keras.layers.TimeDistributed(tf.keras.layers.Conv1D(7, 3, padding='same', activation='relu', dilation_rate=2)),\n",
    "    tf.keras.layers.TimeDistributed(tf.keras.layers.Conv1D(14, 3, padding='same', activation='relu', dilation_rate=1)),\n",
    "    tf.keras.layers.TimeDistributed(tf.keras.layers.Conv1D(36, 3, padding='same', activation='relu', dilation_rate=1)),\n",
    "    tf.keras.layers.Dense(70, activation='relu'),\n",
    "    tf.keras.layers.Flatten(),\n",
    "    tf.keras.layers.Dense(7, activation='linear')\n",
    "]\n",
    "model = tf.keras.models.Sequential(layers=layers)\n",
    "#model.compile(optimizer='adam', loss=tf.keras.losses.MeanSquaredError(), metrics=['accuracy', tf.keras.metrics.MeanSquaredError()])\n",
    "model.compile(optimizer='adam', loss=tf.keras.losses.MeanSquaredError(), metrics=['accuracy'])\n",
    "#model.summary()"
   ]
  },
  {
   "cell_type": "code",
   "execution_count": 6,
   "metadata": {},
   "outputs": [
    {
     "name": "stdout",
     "output_type": "stream",
     "text": [
      "Epoch 1/250\n",
      "1/8 [==>...........................] - ETA: 0s - loss: 885525.7500 - accuracy: 0.0625WARNING:tensorflow:From C:\\Users\\keypg\\Anaconda3\\envs\\ml\\lib\\site-packages\\tensorflow\\python\\ops\\summary_ops_v2.py:1277: stop (from tensorflow.python.eager.profiler) is deprecated and will be removed after 2020-07-01.\n",
      "Instructions for updating:\n",
      "use `tf.profiler.experimental.stop` instead.\n",
      "2/8 [======>.......................] - ETA: 0s - loss: 815939.1875 - accuracy: 0.1250WARNING:tensorflow:Callbacks method `on_train_batch_end` is slow compared to the batch time (batch time: 0.0040s vs `on_train_batch_end` time: 0.2572s). Check your callbacks.\n",
      "8/8 [==============================] - 1s 124ms/step - loss: 1063900.1250 - accuracy: 0.1696 - val_loss: 69014.7812 - val_accuracy: 0.1379\n",
      "Epoch 2/250\n",
      "8/8 [==============================] - 0s 42ms/step - loss: 1063837.3750 - accuracy: 0.1826 - val_loss: 68995.0000 - val_accuracy: 0.1379\n",
      "Epoch 3/250\n",
      "8/8 [==============================] - 0s 44ms/step - loss: 1063743.8750 - accuracy: 0.1739 - val_loss: 68964.5703 - val_accuracy: 0.1379\n",
      "Epoch 4/250\n",
      "8/8 [==============================] - 0s 49ms/step - loss: 1063589.8750 - accuracy: 0.1478 - val_loss: 68915.6953 - val_accuracy: 0.1034\n",
      "Epoch 5/250\n",
      "8/8 [==============================] - 0s 40ms/step - loss: 1063322.0000 - accuracy: 0.2174 - val_loss: 68835.6328 - val_accuracy: 0.1379\n",
      "Epoch 6/250\n",
      "8/8 [==============================] - 0s 37ms/step - loss: 1062806.0000 - accuracy: 0.2261 - val_loss: 68702.9141 - val_accuracy: 0.1379\n",
      "Epoch 7/250\n",
      "8/8 [==============================] - 0s 43ms/step - loss: 1061917.7500 - accuracy: 0.1826 - val_loss: 68482.1953 - val_accuracy: 0.1379\n",
      "Epoch 8/250\n",
      "8/8 [==============================] - 0s 50ms/step - loss: 1060244.5000 - accuracy: 0.1696 - val_loss: 68122.7969 - val_accuracy: 0.1379\n",
      "Epoch 9/250\n",
      "8/8 [==============================] - 0s 42ms/step - loss: 1057455.1250 - accuracy: 0.1609 - val_loss: 67561.8828 - val_accuracy: 0.1379\n",
      "Epoch 10/250\n",
      "8/8 [==============================] - 0s 35ms/step - loss: 1052810.0000 - accuracy: 0.1609 - val_loss: 66678.5078 - val_accuracy: 0.1379\n",
      "Epoch 11/250\n",
      "8/8 [==============================] - 0s 40ms/step - loss: 1044946.0000 - accuracy: 0.1609 - val_loss: 65289.9922 - val_accuracy: 0.1379\n",
      "Epoch 12/250\n",
      "8/8 [==============================] - 0s 39ms/step - loss: 1031716.3750 - accuracy: 0.1609 - val_loss: 63294.5547 - val_accuracy: 0.1379\n",
      "Epoch 13/250\n",
      "8/8 [==============================] - 0s 36ms/step - loss: 1011696.6250 - accuracy: 0.1609 - val_loss: 60400.6602 - val_accuracy: 0.1379\n",
      "Epoch 14/250\n",
      "8/8 [==============================] - 0s 37ms/step - loss: 979934.1250 - accuracy: 0.1609 - val_loss: 56406.7148 - val_accuracy: 0.1379\n",
      "Epoch 15/250\n",
      "8/8 [==============================] - 0s 38ms/step - loss: 928250.2500 - accuracy: 0.1609 - val_loss: 51220.7461 - val_accuracy: 0.1379\n",
      "Epoch 16/250\n",
      "8/8 [==============================] - 0s 43ms/step - loss: 855966.5625 - accuracy: 0.1609 - val_loss: 45537.6562 - val_accuracy: 0.1379\n",
      "Epoch 17/250\n",
      "8/8 [==============================] - 0s 48ms/step - loss: 753382.2500 - accuracy: 0.1609 - val_loss: 40760.3750 - val_accuracy: 0.1379\n",
      "Epoch 18/250\n",
      "8/8 [==============================] - 0s 34ms/step - loss: 622127.8750 - accuracy: 0.1609 - val_loss: 37365.5391 - val_accuracy: 0.1379\n",
      "Epoch 19/250\n",
      "8/8 [==============================] - 0s 37ms/step - loss: 448862.4375 - accuracy: 0.1609 - val_loss: 34775.8477 - val_accuracy: 0.1379\n",
      "Epoch 20/250\n",
      "8/8 [==============================] - 0s 37ms/step - loss: 286189.7812 - accuracy: 0.1609 - val_loss: 32944.0000 - val_accuracy: 0.1379\n",
      "Epoch 21/250\n",
      "8/8 [==============================] - 0s 38ms/step - loss: 129424.3984 - accuracy: 0.1609 - val_loss: 31391.2051 - val_accuracy: 0.1379\n",
      "Epoch 22/250\n",
      "8/8 [==============================] - 0s 37ms/step - loss: 48418.0547 - accuracy: 0.1609 - val_loss: 28960.8691 - val_accuracy: 0.1379\n",
      "Epoch 23/250\n",
      "8/8 [==============================] - 0s 34ms/step - loss: 30819.7188 - accuracy: 0.1609 - val_loss: 24829.7109 - val_accuracy: 0.1379\n",
      "Epoch 24/250\n",
      "8/8 [==============================] - 0s 39ms/step - loss: 27812.3516 - accuracy: 0.1609 - val_loss: 21171.5391 - val_accuracy: 0.1379\n",
      "Epoch 25/250\n",
      "8/8 [==============================] - 0s 32ms/step - loss: 19093.6328 - accuracy: 0.1609 - val_loss: 19322.9766 - val_accuracy: 0.1379\n",
      "Epoch 26/250\n",
      "8/8 [==============================] - 0s 33ms/step - loss: 15502.6514 - accuracy: 0.1609 - val_loss: 18503.6230 - val_accuracy: 0.3793\n",
      "Epoch 27/250\n",
      "8/8 [==============================] - 0s 40ms/step - loss: 14437.9971 - accuracy: 0.3478 - val_loss: 18013.1035 - val_accuracy: 0.3793\n",
      "Epoch 28/250\n",
      "8/8 [==============================] - 0s 37ms/step - loss: 12895.4189 - accuracy: 0.3478 - val_loss: 17528.1641 - val_accuracy: 0.3793\n",
      "Epoch 29/250\n",
      "8/8 [==============================] - 0s 35ms/step - loss: 12002.2598 - accuracy: 0.3478 - val_loss: 17050.4707 - val_accuracy: 0.3793\n",
      "Epoch 30/250\n",
      "8/8 [==============================] - 0s 37ms/step - loss: 11618.2207 - accuracy: 0.3478 - val_loss: 16767.1562 - val_accuracy: 0.3793\n",
      "Epoch 31/250\n",
      "8/8 [==============================] - 0s 42ms/step - loss: 11276.3438 - accuracy: 0.3478 - val_loss: 16611.4570 - val_accuracy: 0.3793\n",
      "Epoch 32/250\n",
      "8/8 [==============================] - 0s 36ms/step - loss: 11075.7637 - accuracy: 0.3478 - val_loss: 16553.4277 - val_accuracy: 0.3793\n",
      "Epoch 33/250\n",
      "8/8 [==============================] - 0s 37ms/step - loss: 10759.3730 - accuracy: 0.3478 - val_loss: 16443.0996 - val_accuracy: 0.3793\n",
      "Epoch 34/250\n",
      "8/8 [==============================] - 0s 38ms/step - loss: 10598.5215 - accuracy: 0.3478 - val_loss: 16323.8545 - val_accuracy: 0.3793\n",
      "Epoch 35/250\n",
      "8/8 [==============================] - 0s 39ms/step - loss: 10443.1436 - accuracy: 0.3478 - val_loss: 16089.1387 - val_accuracy: 0.3793\n",
      "Epoch 36/250\n",
      "8/8 [==============================] - 0s 17ms/step - loss: 10352.5205 - accuracy: 0.3478 - val_loss: 16089.7197 - val_accuracy: 0.3793\n",
      "Epoch 37/250\n",
      "8/8 [==============================] - 0s 36ms/step - loss: 10179.2100 - accuracy: 0.3478 - val_loss: 15954.8672 - val_accuracy: 0.3793\n",
      "Epoch 38/250\n",
      "8/8 [==============================] - 1s 77ms/step - loss: 10125.4336 - accuracy: 0.3478 - val_loss: 15688.1475 - val_accuracy: 0.3793\n",
      "Epoch 39/250\n",
      "8/8 [==============================] - 0s 45ms/step - loss: 10137.8018 - accuracy: 0.3478 - val_loss: 15540.0811 - val_accuracy: 0.3793\n",
      "Epoch 40/250\n",
      "8/8 [==============================] - 0s 18ms/step - loss: 9910.5830 - accuracy: 0.3478 - val_loss: 15565.9053 - val_accuracy: 0.3793\n",
      "Epoch 41/250\n",
      "8/8 [==============================] - 0s 18ms/step - loss: 9872.9600 - accuracy: 0.3478 - val_loss: 15580.8555 - val_accuracy: 0.3793\n",
      "Epoch 42/250\n",
      "8/8 [==============================] - 0s 40ms/step - loss: 9809.1670 - accuracy: 0.3478 - val_loss: 15451.2441 - val_accuracy: 0.3793\n",
      "Epoch 43/250\n",
      "8/8 [==============================] - 0s 42ms/step - loss: 9720.0811 - accuracy: 0.3478 - val_loss: 15228.9834 - val_accuracy: 0.3793\n",
      "Epoch 44/250\n",
      "8/8 [==============================] - 0s 39ms/step - loss: 9671.3613 - accuracy: 0.3478 - val_loss: 15003.1436 - val_accuracy: 0.3793\n",
      "Epoch 45/250\n",
      "8/8 [==============================] - 0s 37ms/step - loss: 9650.4248 - accuracy: 0.3478 - val_loss: 14883.4932 - val_accuracy: 0.3793\n",
      "Epoch 46/250\n",
      "8/8 [==============================] - 0s 19ms/step - loss: 9491.1611 - accuracy: 0.3478 - val_loss: 14982.3945 - val_accuracy: 0.3793\n",
      "Epoch 47/250\n",
      "8/8 [==============================] - 0s 17ms/step - loss: 9809.5273 - accuracy: 0.3478 - val_loss: 15138.9609 - val_accuracy: 0.3793\n",
      "Epoch 48/250\n",
      "8/8 [==============================] - 0s 41ms/step - loss: 9761.4453 - accuracy: 0.3478 - val_loss: 14794.4150 - val_accuracy: 0.3793\n",
      "Epoch 49/250\n",
      "8/8 [==============================] - 0s 39ms/step - loss: 9268.5986 - accuracy: 0.3478 - val_loss: 14326.5176 - val_accuracy: 0.3793\n",
      "Epoch 50/250\n",
      "8/8 [==============================] - 0s 38ms/step - loss: 9273.0107 - accuracy: 0.3478 - val_loss: 14102.2373 - val_accuracy: 0.3793\n",
      "Epoch 51/250\n",
      "8/8 [==============================] - 0s 41ms/step - loss: 9247.0557 - accuracy: 0.3478 - val_loss: 14048.8516 - val_accuracy: 0.3793\n",
      "Epoch 52/250\n",
      "8/8 [==============================] - 0s 22ms/step - loss: 9125.9424 - accuracy: 0.3478 - val_loss: 14050.1914 - val_accuracy: 0.3793\n",
      "Epoch 53/250\n",
      "8/8 [==============================] - 0s 37ms/step - loss: 9047.0127 - accuracy: 0.3478 - val_loss: 13922.4365 - val_accuracy: 0.3793\n",
      "Epoch 54/250\n",
      "8/8 [==============================] - 0s 35ms/step - loss: 8976.5029 - accuracy: 0.3478 - val_loss: 13723.3496 - val_accuracy: 0.3793\n",
      "Epoch 55/250\n",
      "8/8 [==============================] - 0s 20ms/step - loss: 8896.6768 - accuracy: 0.3478 - val_loss: 13771.0850 - val_accuracy: 0.3793\n",
      "Epoch 56/250\n",
      "8/8 [==============================] - 0s 46ms/step - loss: 8915.9766 - accuracy: 0.3478 - val_loss: 13476.2119 - val_accuracy: 0.3793\n",
      "Epoch 57/250\n",
      "8/8 [==============================] - 0s 36ms/step - loss: 8769.7598 - accuracy: 0.3478 - val_loss: 13294.4395 - val_accuracy: 0.3793\n",
      "Epoch 58/250\n",
      "8/8 [==============================] - 0s 39ms/step - loss: 8665.7324 - accuracy: 0.3478 - val_loss: 12970.4443 - val_accuracy: 0.3793\n",
      "Epoch 59/250\n",
      "8/8 [==============================] - 0s 39ms/step - loss: 8576.8594 - accuracy: 0.3478 - val_loss: 12800.1426 - val_accuracy: 0.3793\n",
      "Epoch 60/250\n",
      "8/8 [==============================] - 0s 35ms/step - loss: 8505.5693 - accuracy: 0.3478 - val_loss: 12757.5537 - val_accuracy: 0.3793\n",
      "Epoch 61/250\n",
      "8/8 [==============================] - 0s 38ms/step - loss: 8395.4688 - accuracy: 0.3478 - val_loss: 12611.1680 - val_accuracy: 0.3793\n",
      "Epoch 62/250\n",
      "8/8 [==============================] - 0s 38ms/step - loss: 8353.6729 - accuracy: 0.3478 - val_loss: 12481.5371 - val_accuracy: 0.3793\n",
      "Epoch 63/250\n",
      "8/8 [==============================] - 0s 44ms/step - loss: 8240.7969 - accuracy: 0.3478 - val_loss: 12223.9766 - val_accuracy: 0.3793\n",
      "Epoch 64/250\n",
      "8/8 [==============================] - 0s 42ms/step - loss: 8170.2241 - accuracy: 0.3478 - val_loss: 11989.7227 - val_accuracy: 0.3793\n",
      "Epoch 65/250\n",
      "8/8 [==============================] - 0s 33ms/step - loss: 8130.0376 - accuracy: 0.3478 - val_loss: 11841.0166 - val_accuracy: 0.3793\n",
      "Epoch 66/250\n",
      "8/8 [==============================] - 0s 35ms/step - loss: 8054.9546 - accuracy: 0.3478 - val_loss: 11693.6904 - val_accuracy: 0.3793\n",
      "Epoch 67/250\n",
      "8/8 [==============================] - 0s 38ms/step - loss: 7999.6089 - accuracy: 0.3478 - val_loss: 11395.9707 - val_accuracy: 0.3793\n",
      "Epoch 68/250\n",
      "8/8 [==============================] - 0s 36ms/step - loss: 7947.1265 - accuracy: 0.3478 - val_loss: 11354.4902 - val_accuracy: 0.3793\n",
      "Epoch 69/250\n",
      "8/8 [==============================] - 0s 42ms/step - loss: 7806.5898 - accuracy: 0.3478 - val_loss: 11241.3926 - val_accuracy: 0.3793\n",
      "Epoch 70/250\n",
      "8/8 [==============================] - 0s 33ms/step - loss: 7749.2100 - accuracy: 0.3478 - val_loss: 11072.8867 - val_accuracy: 0.3793\n",
      "Epoch 71/250\n",
      "8/8 [==============================] - 0s 36ms/step - loss: 7641.5991 - accuracy: 0.3478 - val_loss: 10887.3828 - val_accuracy: 0.3793\n",
      "Epoch 72/250\n",
      "8/8 [==============================] - 0s 43ms/step - loss: 7569.9268 - accuracy: 0.3478 - val_loss: 10690.0967 - val_accuracy: 0.3793\n",
      "Epoch 73/250\n",
      "8/8 [==============================] - 0s 51ms/step - loss: 7510.8955 - accuracy: 0.3478 - val_loss: 10400.9600 - val_accuracy: 0.3793\n",
      "Epoch 74/250\n",
      "8/8 [==============================] - 0s 49ms/step - loss: 7383.0835 - accuracy: 0.3478 - val_loss: 10197.5293 - val_accuracy: 0.3793\n",
      "Epoch 75/250\n",
      "8/8 [==============================] - 0s 53ms/step - loss: 7397.8643 - accuracy: 0.3478 - val_loss: 9984.0205 - val_accuracy: 0.3793\n",
      "Epoch 76/250\n",
      "8/8 [==============================] - 0s 41ms/step - loss: 7277.0835 - accuracy: 0.3478 - val_loss: 9976.0537 - val_accuracy: 0.3793\n",
      "Epoch 77/250\n",
      "8/8 [==============================] - 0s 45ms/step - loss: 7144.3237 - accuracy: 0.3478 - val_loss: 9677.9561 - val_accuracy: 0.3793\n",
      "Epoch 78/250\n",
      "8/8 [==============================] - 0s 39ms/step - loss: 7036.4365 - accuracy: 0.3478 - val_loss: 9372.0186 - val_accuracy: 0.3793\n",
      "Epoch 79/250\n",
      "8/8 [==============================] - 0s 38ms/step - loss: 6972.6147 - accuracy: 0.3478 - val_loss: 9151.2402 - val_accuracy: 0.3793\n",
      "Epoch 80/250\n",
      "8/8 [==============================] - 0s 38ms/step - loss: 6840.3232 - accuracy: 0.3478 - val_loss: 9112.1133 - val_accuracy: 0.3793\n",
      "Epoch 81/250\n",
      "8/8 [==============================] - 0s 39ms/step - loss: 6767.1187 - accuracy: 0.3478 - val_loss: 8927.8779 - val_accuracy: 0.3793\n",
      "Epoch 82/250\n",
      "8/8 [==============================] - 0s 40ms/step - loss: 6612.0571 - accuracy: 0.3478 - val_loss: 8601.4189 - val_accuracy: 0.3793\n",
      "Epoch 83/250\n",
      "8/8 [==============================] - 0s 48ms/step - loss: 6558.9956 - accuracy: 0.3478 - val_loss: 8434.3818 - val_accuracy: 0.3793\n",
      "Epoch 84/250\n",
      "8/8 [==============================] - 0s 38ms/step - loss: 6519.7109 - accuracy: 0.3478 - val_loss: 8409.0244 - val_accuracy: 0.3793\n",
      "Epoch 85/250\n",
      "8/8 [==============================] - 0s 56ms/step - loss: 6327.8784 - accuracy: 0.3478 - val_loss: 8118.5728 - val_accuracy: 0.3793\n",
      "Epoch 86/250\n",
      "8/8 [==============================] - 0s 41ms/step - loss: 6283.2695 - accuracy: 0.3478 - val_loss: 7826.5107 - val_accuracy: 0.3793\n",
      "Epoch 87/250\n",
      "8/8 [==============================] - 0s 19ms/step - loss: 6236.8384 - accuracy: 0.3478 - val_loss: 7855.6074 - val_accuracy: 0.3793\n",
      "Epoch 88/250\n",
      "8/8 [==============================] - 0s 40ms/step - loss: 6080.0034 - accuracy: 0.3478 - val_loss: 7554.6348 - val_accuracy: 0.3793\n",
      "Epoch 89/250\n",
      "8/8 [==============================] - 0s 62ms/step - loss: 5962.0737 - accuracy: 0.3478 - val_loss: 7281.6304 - val_accuracy: 0.3793\n",
      "Epoch 90/250\n",
      "8/8 [==============================] - 0s 36ms/step - loss: 5825.5005 - accuracy: 0.3478 - val_loss: 7073.3730 - val_accuracy: 0.3793\n",
      "Epoch 91/250\n",
      "8/8 [==============================] - 0s 42ms/step - loss: 5735.6665 - accuracy: 0.3478 - val_loss: 6982.2485 - val_accuracy: 0.3793\n",
      "Epoch 92/250\n",
      "8/8 [==============================] - 0s 39ms/step - loss: 5608.4409 - accuracy: 0.3478 - val_loss: 6667.4390 - val_accuracy: 0.3793\n",
      "Epoch 93/250\n",
      "8/8 [==============================] - 0s 39ms/step - loss: 5523.8442 - accuracy: 0.3478 - val_loss: 6550.7197 - val_accuracy: 0.3793\n",
      "Epoch 94/250\n",
      "8/8 [==============================] - 0s 37ms/step - loss: 5386.7100 - accuracy: 0.3478 - val_loss: 6331.4214 - val_accuracy: 0.3793\n",
      "Epoch 95/250\n",
      "8/8 [==============================] - 0s 39ms/step - loss: 5363.6040 - accuracy: 0.3478 - val_loss: 6328.5942 - val_accuracy: 0.3793\n",
      "Epoch 96/250\n",
      "8/8 [==============================] - 0s 36ms/step - loss: 5336.1460 - accuracy: 0.3478 - val_loss: 5937.4009 - val_accuracy: 0.3793\n",
      "Epoch 97/250\n",
      "8/8 [==============================] - 0s 50ms/step - loss: 5278.0776 - accuracy: 0.3478 - val_loss: 5566.8989 - val_accuracy: 0.3793\n",
      "Epoch 98/250\n",
      "8/8 [==============================] - 0s 34ms/step - loss: 5045.5615 - accuracy: 0.3478 - val_loss: 5542.7139 - val_accuracy: 0.3793\n",
      "Epoch 99/250\n",
      "8/8 [==============================] - 0s 46ms/step - loss: 4875.2881 - accuracy: 0.3478 - val_loss: 5362.6855 - val_accuracy: 0.3793\n",
      "Epoch 100/250\n",
      "8/8 [==============================] - 0s 40ms/step - loss: 4784.0469 - accuracy: 0.3478 - val_loss: 5194.6260 - val_accuracy: 0.3793\n",
      "Epoch 101/250\n",
      "8/8 [==============================] - 0s 45ms/step - loss: 4677.1011 - accuracy: 0.3478 - val_loss: 4912.7446 - val_accuracy: 0.3793\n",
      "Epoch 102/250\n",
      "8/8 [==============================] - 0s 40ms/step - loss: 4693.2520 - accuracy: 0.3478 - val_loss: 4831.8071 - val_accuracy: 0.3793\n",
      "Epoch 103/250\n",
      "8/8 [==============================] - 0s 38ms/step - loss: 4497.6846 - accuracy: 0.3478 - val_loss: 4594.7300 - val_accuracy: 0.3793\n",
      "Epoch 104/250\n",
      "8/8 [==============================] - 0s 40ms/step - loss: 4421.8438 - accuracy: 0.3478 - val_loss: 4389.7002 - val_accuracy: 0.3793\n",
      "Epoch 105/250\n",
      "8/8 [==============================] - 0s 49ms/step - loss: 4345.7817 - accuracy: 0.3478 - val_loss: 4266.2769 - val_accuracy: 0.3793\n",
      "Epoch 106/250\n",
      "8/8 [==============================] - 0s 39ms/step - loss: 4251.6470 - accuracy: 0.3478 - val_loss: 4162.8369 - val_accuracy: 0.3793\n",
      "Epoch 107/250\n",
      "8/8 [==============================] - 0s 42ms/step - loss: 4152.2871 - accuracy: 0.3478 - val_loss: 3983.0889 - val_accuracy: 0.3793\n",
      "Epoch 108/250\n",
      "8/8 [==============================] - 0s 20ms/step - loss: 4250.1685 - accuracy: 0.3478 - val_loss: 4043.8042 - val_accuracy: 0.3793\n",
      "Epoch 109/250\n",
      "8/8 [==============================] - 0s 37ms/step - loss: 4129.5654 - accuracy: 0.3478 - val_loss: 3645.6147 - val_accuracy: 0.3793\n",
      "Epoch 110/250\n",
      "8/8 [==============================] - 0s 40ms/step - loss: 4054.9602 - accuracy: 0.3478 - val_loss: 3338.8948 - val_accuracy: 0.3793\n",
      "Epoch 111/250\n",
      "8/8 [==============================] - 0s 44ms/step - loss: 3927.8220 - accuracy: 0.3478 - val_loss: 3336.8228 - val_accuracy: 0.3793\n",
      "Epoch 112/250\n",
      "8/8 [==============================] - 0s 20ms/step - loss: 3706.6709 - accuracy: 0.3478 - val_loss: 3342.2188 - val_accuracy: 0.3793\n",
      "Epoch 113/250\n",
      "8/8 [==============================] - 0s 36ms/step - loss: 3737.4272 - accuracy: 0.3478 - val_loss: 3169.1270 - val_accuracy: 0.3793\n",
      "Epoch 114/250\n",
      "8/8 [==============================] - 0s 39ms/step - loss: 3680.5667 - accuracy: 0.3478 - val_loss: 2900.1335 - val_accuracy: 0.3793\n",
      "Epoch 115/250\n",
      "8/8 [==============================] - 0s 20ms/step - loss: 3567.4575 - accuracy: 0.3478 - val_loss: 3053.1338 - val_accuracy: 0.3793\n",
      "Epoch 116/250\n",
      "8/8 [==============================] - 0s 42ms/step - loss: 3617.5398 - accuracy: 0.3478 - val_loss: 2825.5447 - val_accuracy: 0.3793\n",
      "Epoch 117/250\n",
      "8/8 [==============================] - 0s 43ms/step - loss: 3362.8098 - accuracy: 0.3478 - val_loss: 2528.8271 - val_accuracy: 0.3793\n",
      "Epoch 118/250\n",
      "8/8 [==============================] - 0s 45ms/step - loss: 3416.0562 - accuracy: 0.3478 - val_loss: 2433.8892 - val_accuracy: 0.3793\n",
      "Epoch 119/250\n",
      "8/8 [==============================] - 0s 21ms/step - loss: 3308.2759 - accuracy: 0.3478 - val_loss: 2441.2095 - val_accuracy: 0.3793\n",
      "Epoch 120/250\n",
      "8/8 [==============================] - 0s 41ms/step - loss: 3225.6965 - accuracy: 0.3478 - val_loss: 2332.7778 - val_accuracy: 0.3793\n",
      "Epoch 121/250\n",
      "8/8 [==============================] - 0s 38ms/step - loss: 3176.8098 - accuracy: 0.3478 - val_loss: 2188.6169 - val_accuracy: 0.3793\n",
      "Epoch 122/250\n",
      "8/8 [==============================] - 0s 46ms/step - loss: 3131.4329 - accuracy: 0.3478 - val_loss: 2128.8198 - val_accuracy: 0.3793\n",
      "Epoch 123/250\n",
      "8/8 [==============================] - 0s 21ms/step - loss: 3206.4431 - accuracy: 0.3478 - val_loss: 2177.6975 - val_accuracy: 0.3793\n",
      "Epoch 124/250\n",
      "8/8 [==============================] - 0s 51ms/step - loss: 3079.0439 - accuracy: 0.3478 - val_loss: 1964.4602 - val_accuracy: 0.3793\n",
      "Epoch 125/250\n",
      "8/8 [==============================] - 0s 41ms/step - loss: 2944.2612 - accuracy: 0.3478 - val_loss: 1833.0571 - val_accuracy: 0.3793\n",
      "Epoch 126/250\n",
      "8/8 [==============================] - 0s 38ms/step - loss: 2860.5359 - accuracy: 0.3478 - val_loss: 1692.0823 - val_accuracy: 0.3793\n",
      "Epoch 127/250\n",
      "8/8 [==============================] - 0s 37ms/step - loss: 2862.7771 - accuracy: 0.3478 - val_loss: 1603.7534 - val_accuracy: 0.3793\n",
      "Epoch 128/250\n",
      "8/8 [==============================] - 0s 44ms/step - loss: 2757.1899 - accuracy: 0.3478 - val_loss: 1586.0125 - val_accuracy: 0.3793\n",
      "Epoch 129/250\n",
      "8/8 [==============================] - 0s 41ms/step - loss: 2705.9448 - accuracy: 0.3478 - val_loss: 1470.5403 - val_accuracy: 0.3793\n",
      "Epoch 130/250\n",
      "8/8 [==============================] - 0s 39ms/step - loss: 2623.9207 - accuracy: 0.3478 - val_loss: 1382.4452 - val_accuracy: 0.3793\n",
      "Epoch 131/250\n",
      "8/8 [==============================] - 0s 52ms/step - loss: 2557.8430 - accuracy: 0.3478 - val_loss: 1316.6340 - val_accuracy: 0.3793\n",
      "Epoch 132/250\n",
      "8/8 [==============================] - 0s 40ms/step - loss: 2536.7314 - accuracy: 0.3478 - val_loss: 1202.2224 - val_accuracy: 0.3793\n",
      "Epoch 133/250\n",
      "8/8 [==============================] - 0s 42ms/step - loss: 2467.9617 - accuracy: 0.3478 - val_loss: 1172.8896 - val_accuracy: 0.3793\n",
      "Epoch 134/250\n",
      "8/8 [==============================] - 0s 36ms/step - loss: 2384.8071 - accuracy: 0.3478 - val_loss: 1059.3849 - val_accuracy: 0.3793\n",
      "Epoch 135/250\n",
      "8/8 [==============================] - 0s 49ms/step - loss: 2368.6885 - accuracy: 0.3478 - val_loss: 955.9851 - val_accuracy: 0.3793\n",
      "Epoch 136/250\n",
      "8/8 [==============================] - 0s 37ms/step - loss: 2310.2720 - accuracy: 0.3478 - val_loss: 942.4236 - val_accuracy: 0.3793\n",
      "Epoch 137/250\n",
      "8/8 [==============================] - 0s 25ms/step - loss: 2293.6628 - accuracy: 0.3478 - val_loss: 947.1335 - val_accuracy: 0.3793\n",
      "Epoch 138/250\n",
      "8/8 [==============================] - 0s 42ms/step - loss: 2261.5623 - accuracy: 0.3478 - val_loss: 796.6874 - val_accuracy: 0.3793\n",
      "Epoch 139/250\n",
      "8/8 [==============================] - 0s 39ms/step - loss: 2182.4058 - accuracy: 0.3478 - val_loss: 714.9103 - val_accuracy: 0.3793\n",
      "Epoch 140/250\n",
      "8/8 [==============================] - 0s 36ms/step - loss: 2135.7317 - accuracy: 0.3478 - val_loss: 713.7418 - val_accuracy: 0.3793\n",
      "Epoch 141/250\n",
      "8/8 [==============================] - 0s 39ms/step - loss: 2070.2878 - accuracy: 0.3478 - val_loss: 660.3472 - val_accuracy: 0.3793\n",
      "Epoch 142/250\n",
      "8/8 [==============================] - 0s 45ms/step - loss: 2035.0358 - accuracy: 0.3478 - val_loss: 606.7156 - val_accuracy: 0.3793\n",
      "Epoch 143/250\n",
      "8/8 [==============================] - 0s 41ms/step - loss: 2003.9928 - accuracy: 0.3478 - val_loss: 562.9064 - val_accuracy: 0.3793\n",
      "Epoch 144/250\n",
      "8/8 [==============================] - 0s 41ms/step - loss: 1970.5153 - accuracy: 0.3478 - val_loss: 522.4707 - val_accuracy: 0.3793\n",
      "Epoch 145/250\n",
      "8/8 [==============================] - 0s 40ms/step - loss: 1933.0975 - accuracy: 0.3478 - val_loss: 511.9594 - val_accuracy: 0.3793\n",
      "Epoch 146/250\n",
      "8/8 [==============================] - 0s 45ms/step - loss: 1918.4789 - accuracy: 0.3478 - val_loss: 472.9674 - val_accuracy: 0.3793\n",
      "Epoch 147/250\n",
      "8/8 [==============================] - 0s 42ms/step - loss: 1889.3264 - accuracy: 0.3478 - val_loss: 434.0258 - val_accuracy: 0.3793\n",
      "Epoch 148/250\n",
      "8/8 [==============================] - 0s 35ms/step - loss: 1894.0627 - accuracy: 0.3478 - val_loss: 401.0449 - val_accuracy: 0.3793\n",
      "Epoch 149/250\n",
      "8/8 [==============================] - 0s 38ms/step - loss: 1839.3345 - accuracy: 0.3478 - val_loss: 399.6751 - val_accuracy: 0.3793\n",
      "Epoch 150/250\n",
      "8/8 [==============================] - 0s 40ms/step - loss: 1851.2185 - accuracy: 0.3478 - val_loss: 367.9510 - val_accuracy: 0.3793\n",
      "Epoch 151/250\n",
      "8/8 [==============================] - 0s 43ms/step - loss: 1963.4695 - accuracy: 0.3478 - val_loss: 315.8835 - val_accuracy: 0.3793\n",
      "Epoch 152/250\n",
      "8/8 [==============================] - 0s 21ms/step - loss: 1865.6960 - accuracy: 0.3478 - val_loss: 337.7926 - val_accuracy: 0.3793\n",
      "Epoch 153/250\n",
      "8/8 [==============================] - 0s 25ms/step - loss: 1843.0688 - accuracy: 0.3478 - val_loss: 331.8786 - val_accuracy: 0.3793\n",
      "Epoch 154/250\n",
      "8/8 [==============================] - 0s 51ms/step - loss: 1821.9065 - accuracy: 0.3478 - val_loss: 287.8354 - val_accuracy: 0.3793\n",
      "Epoch 155/250\n",
      "8/8 [==============================] - 0s 52ms/step - loss: 1821.4407 - accuracy: 0.3478 - val_loss: 270.0403 - val_accuracy: 0.3793\n",
      "Epoch 156/250\n",
      "8/8 [==============================] - 0s 20ms/step - loss: 1803.8174 - accuracy: 0.3478 - val_loss: 275.4138 - val_accuracy: 0.3793\n",
      "Epoch 157/250\n",
      "8/8 [==============================] - 0s 45ms/step - loss: 1770.1516 - accuracy: 0.3478 - val_loss: 255.3070 - val_accuracy: 0.3793\n",
      "Epoch 158/250\n",
      "8/8 [==============================] - 0s 39ms/step - loss: 1763.0836 - accuracy: 0.3478 - val_loss: 242.2913 - val_accuracy: 0.3793\n",
      "Epoch 159/250\n",
      "8/8 [==============================] - 0s 29ms/step - loss: 1770.3854 - accuracy: 0.3478 - val_loss: 248.2139 - val_accuracy: 0.3793\n",
      "Epoch 160/250\n",
      "8/8 [==============================] - 0s 41ms/step - loss: 1772.8195 - accuracy: 0.3478 - val_loss: 241.4880 - val_accuracy: 0.3793\n",
      "Epoch 161/250\n",
      "8/8 [==============================] - 0s 20ms/step - loss: 1963.3204 - accuracy: 0.3478 - val_loss: 260.6224 - val_accuracy: 0.3793\n",
      "Epoch 162/250\n",
      "8/8 [==============================] - 0s 32ms/step - loss: 1791.2438 - accuracy: 0.3478 - val_loss: 208.7751 - val_accuracy: 0.3793\n",
      "Epoch 163/250\n",
      "8/8 [==============================] - 0s 19ms/step - loss: 1812.7947 - accuracy: 0.3478 - val_loss: 210.6493 - val_accuracy: 0.3793\n",
      "Epoch 164/250\n",
      "8/8 [==============================] - 0s 17ms/step - loss: 1730.2451 - accuracy: 0.3478 - val_loss: 212.8551 - val_accuracy: 0.3793\n",
      "Epoch 165/250\n",
      "8/8 [==============================] - 0s 42ms/step - loss: 1731.0836 - accuracy: 0.3478 - val_loss: 206.5475 - val_accuracy: 0.3793\n",
      "Epoch 166/250\n",
      "8/8 [==============================] - 0s 38ms/step - loss: 1726.7046 - accuracy: 0.3478 - val_loss: 202.6617 - val_accuracy: 0.3793\n",
      "Epoch 167/250\n",
      "8/8 [==============================] - 0s 44ms/step - loss: 1759.6431 - accuracy: 0.3478 - val_loss: 191.4409 - val_accuracy: 0.3793\n",
      "Epoch 168/250\n",
      "8/8 [==============================] - 0s 49ms/step - loss: 1753.6368 - accuracy: 0.3478 - val_loss: 188.5434 - val_accuracy: 0.3793\n",
      "Epoch 169/250\n",
      "8/8 [==============================] - 0s 14ms/step - loss: 1707.2145 - accuracy: 0.3478 - val_loss: 196.5398 - val_accuracy: 0.3793\n",
      "Epoch 170/250\n",
      "8/8 [==============================] - 0s 20ms/step - loss: 1724.7443 - accuracy: 0.3478 - val_loss: 189.0342 - val_accuracy: 0.3793\n",
      "Epoch 171/250\n",
      "8/8 [==============================] - 0s 39ms/step - loss: 1700.1831 - accuracy: 0.3478 - val_loss: 181.4536 - val_accuracy: 0.3793\n",
      "Epoch 172/250\n",
      "8/8 [==============================] - 0s 42ms/step - loss: 1799.3101 - accuracy: 0.3478 - val_loss: 178.0905 - val_accuracy: 0.3793\n",
      "Epoch 173/250\n",
      "8/8 [==============================] - 0s 15ms/step - loss: 1803.0447 - accuracy: 0.3478 - val_loss: 186.2809 - val_accuracy: 0.3793\n",
      "Epoch 174/250\n",
      "8/8 [==============================] - 0s 17ms/step - loss: 1738.6074 - accuracy: 0.3478 - val_loss: 189.1486 - val_accuracy: 0.3793\n",
      "Epoch 175/250\n",
      "8/8 [==============================] - 0s 46ms/step - loss: 1725.1245 - accuracy: 0.3478 - val_loss: 177.8874 - val_accuracy: 0.3793\n",
      "Epoch 176/250\n",
      "8/8 [==============================] - 0s 61ms/step - loss: 1745.5564 - accuracy: 0.3478 - val_loss: 174.2572 - val_accuracy: 0.3793\n",
      "Epoch 177/250\n",
      "8/8 [==============================] - 0s 22ms/step - loss: 1722.5564 - accuracy: 0.3478 - val_loss: 186.2208 - val_accuracy: 0.3793\n",
      "Epoch 178/250\n",
      "8/8 [==============================] - 0s 35ms/step - loss: 1735.9150 - accuracy: 0.3478 - val_loss: 172.9872 - val_accuracy: 0.3793\n",
      "Epoch 179/250\n",
      "8/8 [==============================] - 0s 35ms/step - loss: 1874.4413 - accuracy: 0.3478 - val_loss: 170.6770 - val_accuracy: 0.3793\n",
      "Epoch 180/250\n",
      "8/8 [==============================] - 0s 17ms/step - loss: 1843.9216 - accuracy: 0.3478 - val_loss: 173.8205 - val_accuracy: 0.3793\n",
      "Epoch 181/250\n",
      "8/8 [==============================] - 0s 18ms/step - loss: 1753.3495 - accuracy: 0.3478 - val_loss: 173.8547 - val_accuracy: 0.3793\n",
      "Epoch 182/250\n",
      "8/8 [==============================] - 0s 33ms/step - loss: 1728.3627 - accuracy: 0.3478 - val_loss: 166.7816 - val_accuracy: 0.3793\n",
      "Epoch 183/250\n",
      "8/8 [==============================] - 0s 21ms/step - loss: 1737.5742 - accuracy: 0.3478 - val_loss: 169.1092 - val_accuracy: 0.3793\n",
      "Epoch 184/250\n",
      "8/8 [==============================] - 0s 44ms/step - loss: 1731.7184 - accuracy: 0.3478 - val_loss: 164.7898 - val_accuracy: 0.3793\n",
      "Epoch 185/250\n",
      "8/8 [==============================] - 0s 17ms/step - loss: 1744.9973 - accuracy: 0.3478 - val_loss: 165.1136 - val_accuracy: 0.3793\n",
      "Epoch 186/250\n",
      "8/8 [==============================] - 0s 17ms/step - loss: 1740.2070 - accuracy: 0.3478 - val_loss: 166.3540 - val_accuracy: 0.3793\n",
      "Epoch 187/250\n",
      "8/8 [==============================] - 0s 38ms/step - loss: 1763.2153 - accuracy: 0.3478 - val_loss: 162.8156 - val_accuracy: 0.3793\n",
      "Epoch 188/250\n",
      "8/8 [==============================] - 0s 32ms/step - loss: 1689.6056 - accuracy: 0.3478 - val_loss: 162.5656 - val_accuracy: 0.3793\n",
      "Epoch 189/250\n",
      "8/8 [==============================] - 0s 45ms/step - loss: 1693.3861 - accuracy: 0.3478 - val_loss: 161.6973 - val_accuracy: 0.3793\n",
      "Epoch 190/250\n",
      "8/8 [==============================] - 0s 43ms/step - loss: 1684.9296 - accuracy: 0.3478 - val_loss: 161.2349 - val_accuracy: 0.3793\n",
      "Epoch 191/250\n",
      "8/8 [==============================] - 0s 17ms/step - loss: 1809.5255 - accuracy: 0.3478 - val_loss: 163.4704 - val_accuracy: 0.3793\n",
      "Epoch 192/250\n",
      "8/8 [==============================] - 0s 33ms/step - loss: 1731.9578 - accuracy: 0.3478 - val_loss: 159.5381 - val_accuracy: 0.3793\n",
      "Epoch 193/250\n",
      "8/8 [==============================] - 0s 21ms/step - loss: 1944.5192 - accuracy: 0.3478 - val_loss: 171.1556 - val_accuracy: 0.3793\n",
      "Epoch 194/250\n",
      "8/8 [==============================] - 0s 38ms/step - loss: 1827.6504 - accuracy: 0.3478 - val_loss: 159.4525 - val_accuracy: 0.3793\n",
      "Epoch 195/250\n",
      "8/8 [==============================] - 0s 19ms/step - loss: 1824.5925 - accuracy: 0.3478 - val_loss: 159.9257 - val_accuracy: 0.3793\n",
      "Epoch 196/250\n",
      "8/8 [==============================] - 0s 18ms/step - loss: 1715.2726 - accuracy: 0.3478 - val_loss: 162.5844 - val_accuracy: 0.3793\n",
      "Epoch 197/250\n",
      "8/8 [==============================] - 0s 18ms/step - loss: 1726.6234 - accuracy: 0.3478 - val_loss: 161.5794 - val_accuracy: 0.3793\n",
      "Epoch 198/250\n",
      "8/8 [==============================] - 0s 18ms/step - loss: 2107.2349 - accuracy: 0.3478 - val_loss: 163.3848 - val_accuracy: 0.3793\n",
      "Epoch 199/250\n",
      "8/8 [==============================] - 0s 19ms/step - loss: 1843.0569 - accuracy: 0.3478 - val_loss: 162.4333 - val_accuracy: 0.3793\n",
      "Epoch 200/250\n",
      "8/8 [==============================] - 0s 20ms/step - loss: 1753.2098 - accuracy: 0.3478 - val_loss: 168.4152 - val_accuracy: 0.3793\n",
      "Epoch 201/250\n",
      "8/8 [==============================] - 0s 49ms/step - loss: 1697.2635 - accuracy: 0.3478 - val_loss: 154.0624 - val_accuracy: 0.3793\n",
      "Epoch 202/250\n",
      "8/8 [==============================] - ETA: 0s - loss: 4136.2666 - accuracy: 0.437 - 0s 22ms/step - loss: 1811.1259 - accuracy: 0.3522 - val_loss: 161.4092 - val_accuracy: 0.0345\n",
      "Epoch 203/250\n",
      "8/8 [==============================] - 0s 19ms/step - loss: 1668.0521 - accuracy: 0.1261 - val_loss: 162.9570 - val_accuracy: 0.0345\n",
      "Epoch 204/250\n",
      "8/8 [==============================] - 0s 19ms/step - loss: 1677.7756 - accuracy: 0.2261 - val_loss: 160.3941 - val_accuracy: 0.3793\n",
      "Epoch 205/250\n",
      "8/8 [==============================] - 0s 23ms/step - loss: 1683.3577 - accuracy: 0.3478 - val_loss: 159.1974 - val_accuracy: 0.3793\n",
      "Epoch 206/250\n",
      "8/8 [==============================] - 0s 16ms/step - loss: 1765.8009 - accuracy: 0.3478 - val_loss: 160.9865 - val_accuracy: 0.3793\n",
      "Epoch 207/250\n",
      "8/8 [==============================] - 0s 37ms/step - loss: 1769.5481 - accuracy: 0.3478 - val_loss: 151.4868 - val_accuracy: 0.3793\n",
      "Epoch 208/250\n",
      "8/8 [==============================] - 0s 17ms/step - loss: 1746.6995 - accuracy: 0.3478 - val_loss: 170.5457 - val_accuracy: 0.3793\n",
      "Epoch 209/250\n",
      "8/8 [==============================] - 0s 21ms/step - loss: 1710.3694 - accuracy: 0.3478 - val_loss: 159.0537 - val_accuracy: 0.3793\n",
      "Epoch 210/250\n",
      "8/8 [==============================] - 0s 18ms/step - loss: 1661.6261 - accuracy: 0.3478 - val_loss: 155.1225 - val_accuracy: 0.3793\n",
      "Epoch 211/250\n",
      "8/8 [==============================] - 0s 24ms/step - loss: 1637.6710 - accuracy: 0.3478 - val_loss: 158.9918 - val_accuracy: 0.3793\n",
      "Epoch 212/250\n",
      "8/8 [==============================] - 0s 16ms/step - loss: 1711.7030 - accuracy: 0.3478 - val_loss: 157.6879 - val_accuracy: 0.3793\n",
      "Epoch 213/250\n",
      "8/8 [==============================] - 0s 22ms/step - loss: 1684.0604 - accuracy: 0.3478 - val_loss: 152.0716 - val_accuracy: 0.3793\n",
      "Epoch 214/250\n",
      "8/8 [==============================] - 0s 18ms/step - loss: 1677.9945 - accuracy: 0.3478 - val_loss: 157.2465 - val_accuracy: 0.3793\n",
      "Epoch 215/250\n",
      "8/8 [==============================] - 0s 16ms/step - loss: 1689.2316 - accuracy: 0.3478 - val_loss: 154.2677 - val_accuracy: 0.3793\n",
      "Epoch 216/250\n",
      "8/8 [==============================] - 0s 35ms/step - loss: 1664.0911 - accuracy: 0.3478 - val_loss: 151.3726 - val_accuracy: 0.3793\n",
      "Epoch 217/250\n",
      "8/8 [==============================] - 0s 19ms/step - loss: 1651.6808 - accuracy: 0.3478 - val_loss: 152.7977 - val_accuracy: 0.3793\n",
      "Epoch 218/250\n",
      "8/8 [==============================] - 0s 17ms/step - loss: 1651.2316 - accuracy: 0.3478 - val_loss: 154.7991 - val_accuracy: 0.3793\n",
      "Epoch 219/250\n",
      "8/8 [==============================] - 0s 16ms/step - loss: 1644.5721 - accuracy: 0.3478 - val_loss: 151.4902 - val_accuracy: 0.3793\n",
      "Epoch 220/250\n",
      "8/8 [==============================] - 0s 19ms/step - loss: 1656.7045 - accuracy: 0.3478 - val_loss: 152.2163 - val_accuracy: 0.3793\n",
      "Epoch 221/250\n",
      "8/8 [==============================] - 0s 23ms/step - loss: 1652.0189 - accuracy: 0.3478 - val_loss: 153.9651 - val_accuracy: 0.3793\n",
      "Epoch 222/250\n",
      "8/8 [==============================] - 0s 18ms/step - loss: 1688.8357 - accuracy: 0.3478 - val_loss: 153.2891 - val_accuracy: 0.3793\n",
      "Epoch 223/250\n",
      "8/8 [==============================] - 0s 36ms/step - loss: 1666.4110 - accuracy: 0.3478 - val_loss: 150.8044 - val_accuracy: 0.3793\n",
      "Epoch 224/250\n",
      "8/8 [==============================] - 0s 22ms/step - loss: 1659.2496 - accuracy: 0.3478 - val_loss: 151.0036 - val_accuracy: 0.3793\n",
      "Epoch 225/250\n",
      "8/8 [==============================] - 0s 19ms/step - loss: 1645.8829 - accuracy: 0.3478 - val_loss: 151.4255 - val_accuracy: 0.3793\n",
      "Epoch 226/250\n",
      "8/8 [==============================] - 0s 18ms/step - loss: 1705.3699 - accuracy: 0.3478 - val_loss: 153.5751 - val_accuracy: 0.3793\n",
      "Epoch 227/250\n",
      "8/8 [==============================] - 0s 55ms/step - loss: 1632.4099 - accuracy: 0.3478 - val_loss: 150.1790 - val_accuracy: 0.3793\n",
      "Epoch 228/250\n",
      "8/8 [==============================] - 0s 18ms/step - loss: 1646.3020 - accuracy: 0.3478 - val_loss: 152.2506 - val_accuracy: 0.3793\n",
      "Epoch 229/250\n",
      "8/8 [==============================] - 0s 39ms/step - loss: 1632.5303 - accuracy: 0.3478 - val_loss: 150.0469 - val_accuracy: 0.3793\n",
      "Epoch 230/250\n",
      "8/8 [==============================] - 0s 45ms/step - loss: 1704.5951 - accuracy: 0.3478 - val_loss: 149.0225 - val_accuracy: 0.3793\n",
      "Epoch 231/250\n",
      "8/8 [==============================] - 0s 24ms/step - loss: 1618.1979 - accuracy: 0.3478 - val_loss: 152.7188 - val_accuracy: 0.3793\n",
      "Epoch 232/250\n",
      "8/8 [==============================] - 0s 24ms/step - loss: 1662.4152 - accuracy: 0.3478 - val_loss: 151.0834 - val_accuracy: 0.3793\n",
      "Epoch 233/250\n",
      "8/8 [==============================] - 0s 19ms/step - loss: 1637.8845 - accuracy: 0.3478 - val_loss: 149.8689 - val_accuracy: 0.3793\n",
      "Epoch 234/250\n",
      "8/8 [==============================] - 0s 19ms/step - loss: 1654.7396 - accuracy: 0.3478 - val_loss: 149.3554 - val_accuracy: 0.3793\n",
      "Epoch 235/250\n",
      "8/8 [==============================] - 0s 30ms/step - loss: 1630.9967 - accuracy: 0.3478 - val_loss: 149.9347 - val_accuracy: 0.3793\n",
      "Epoch 236/250\n",
      "8/8 [==============================] - 0s 37ms/step - loss: 1630.0813 - accuracy: 0.3478 - val_loss: 148.1629 - val_accuracy: 0.3793\n",
      "Epoch 237/250\n",
      "8/8 [==============================] - 0s 22ms/step - loss: 1660.5629 - accuracy: 0.3391 - val_loss: 149.5464 - val_accuracy: 0.3793\n",
      "Epoch 238/250\n",
      "8/8 [==============================] - 0s 18ms/step - loss: 1621.3262 - accuracy: 0.3478 - val_loss: 152.6037 - val_accuracy: 0.3793\n",
      "Epoch 239/250\n",
      "8/8 [==============================] - 0s 37ms/step - loss: 1660.4912 - accuracy: 0.3478 - val_loss: 148.0624 - val_accuracy: 0.3793\n",
      "Epoch 240/250\n",
      "8/8 [==============================] - 0s 35ms/step - loss: 1651.8760 - accuracy: 0.3478 - val_loss: 147.2112 - val_accuracy: 0.3793\n",
      "Epoch 241/250\n",
      "8/8 [==============================] - 0s 23ms/step - loss: 1618.4698 - accuracy: 0.3478 - val_loss: 147.9036 - val_accuracy: 0.3793\n",
      "Epoch 242/250\n",
      "8/8 [==============================] - 0s 19ms/step - loss: 1630.5350 - accuracy: 0.3478 - val_loss: 147.3620 - val_accuracy: 0.3793\n",
      "Epoch 243/250\n",
      "8/8 [==============================] - 0s 19ms/step - loss: 1638.9774 - accuracy: 0.3478 - val_loss: 149.4113 - val_accuracy: 0.3793\n",
      "Epoch 244/250\n",
      "8/8 [==============================] - 0s 18ms/step - loss: 1626.9858 - accuracy: 0.3478 - val_loss: 149.0465 - val_accuracy: 0.3793\n",
      "Epoch 245/250\n",
      "8/8 [==============================] - 0s 34ms/step - loss: 1624.3466 - accuracy: 0.3478 - val_loss: 146.1514 - val_accuracy: 0.3793\n",
      "Epoch 246/250\n",
      "8/8 [==============================] - 0s 18ms/step - loss: 1630.7438 - accuracy: 0.3478 - val_loss: 148.7852 - val_accuracy: 0.3793\n",
      "Epoch 247/250\n",
      "8/8 [==============================] - 0s 20ms/step - loss: 1634.9625 - accuracy: 0.3478 - val_loss: 148.2838 - val_accuracy: 0.3793\n",
      "Epoch 248/250\n",
      "8/8 [==============================] - 0s 38ms/step - loss: 1650.6539 - accuracy: 0.3478 - val_loss: 145.0376 - val_accuracy: 0.3793\n",
      "Epoch 249/250\n",
      "8/8 [==============================] - 0s 19ms/step - loss: 1722.9176 - accuracy: 0.3478 - val_loss: 152.4925 - val_accuracy: 0.3793\n",
      "Epoch 250/250\n",
      "8/8 [==============================] - 0s 38ms/step - loss: 1738.1647 - accuracy: 0.3478 - val_loss: 145.0309 - val_accuracy: 0.3793\n",
      "Model: \"sequential\"\n",
      "_________________________________________________________________\n",
      "Layer (type)                 Output Shape              Param #   \n",
      "=================================================================\n",
      "time_distributed (TimeDistri (None, 1, 1, 7)           154       \n",
      "_________________________________________________________________\n",
      "time_distributed_1 (TimeDist (None, 1, 1, 7)           154       \n",
      "_________________________________________________________________\n",
      "time_distributed_2 (TimeDist (None, 1, 1, 14)          308       \n",
      "_________________________________________________________________\n",
      "time_distributed_3 (TimeDist (None, 1, 1, 36)          1548      \n",
      "_________________________________________________________________\n",
      "dense (Dense)                (None, 1, 1, 70)          2590      \n",
      "_________________________________________________________________\n",
      "flatten (Flatten)            (None, 70)                0         \n",
      "_________________________________________________________________\n",
      "dense_1 (Dense)              (None, 7)                 497       \n",
      "=================================================================\n",
      "Total params: 5,251\n",
      "Trainable params: 5,251\n",
      "Non-trainable params: 0\n",
      "_________________________________________________________________\n"
     ]
    }
   ],
   "source": [
    "graph = model.fit(train_x, train_y, validation_split=validation_split_factor, epochs=250, callbacks=[tensorboard_callback, checkpoint_callback, endCallback()])\n",
    "model.summary()"
   ]
  },
  {
   "cell_type": "code",
   "execution_count": 8,
   "metadata": {},
   "outputs": [
    {
     "name": "stdout",
     "output_type": "stream",
     "text": [
      "3/3 [==============================] - 0s 2ms/step - loss: 352.0961 - accuracy: 0.3889\n"
     ]
    },
    {
     "data": {
      "text/plain": [
       "[352.09613037109375, 0.3888888955116272]"
      ]
     },
     "execution_count": 8,
     "metadata": {},
     "output_type": "execute_result"
    }
   ],
   "source": [
    "model.load_weights(ckp_path)\n",
    "model.evaluate(test_x, test_y)"
   ]
  },
  {
   "cell_type": "code",
   "execution_count": 9,
   "metadata": {},
   "outputs": [],
   "source": [
    "model.save('./weights/tdnn.h5')"
   ]
  },
  {
   "cell_type": "code",
   "execution_count": 10,
   "metadata": {},
   "outputs": [
    {
     "data": {
      "text/plain": [
       "[<matplotlib.lines.Line2D at 0x166d4cd95e0>]"
      ]
     },
     "execution_count": 10,
     "metadata": {},
     "output_type": "execute_result"
    },
    {
     "data": {
      "image/png": "[encoded data removed]",
      "text/plain": [
       "<Figure size 432x288 with 1 Axes>"
      ]
     },
     "metadata": {
      "needs_background": "light"
     },
     "output_type": "display_data"
    }
   ],
   "source": [
    "import matplotlib.pyplot as plt\n",
    "loss = graph.history['loss']\n",
    "val_loss = graph.history['val_loss']\n",
    "val_acc = graph.history['val_accuracy']\n",
    "plt.plot(range(len(loss)), loss)"
   ]
  },
  {
   "cell_type": "code",
   "execution_count": 11,
   "metadata": {},
   "outputs": [
    {
     "data": {
      "text/plain": [
       "[<matplotlib.lines.Line2D at 0x166d4d5a160>]"
      ]
     },
     "execution_count": 11,
     "metadata": {},
     "output_type": "execute_result"
    },
    {
     "data": {
      "image/png": "[encoded data removed]",
      "text/plain": [
       "<Figure size 432x288 with 1 Axes>"
      ]
     },
     "metadata": {
      "needs_background": "light"
     },
     "output_type": "display_data"
    }
   ],
   "source": [
    "plt.plot(range(len(val_loss)), val_loss)"
   ]
  },
  {
   "cell_type": "code",
   "execution_count": 12,
   "metadata": {},
   "outputs": [
    {
     "data": {
      "text/plain": [
       "[<matplotlib.lines.Line2D at 0x166d4db3b20>]"
      ]
     },
     "execution_count": 12,
     "metadata": {},
     "output_type": "execute_result"
    },
    {
     "data": {
      "image/png": "[encoded data removed]",
      "text/plain": [
       "<Figure size 432x288 with 1 Axes>"
      ]
     },
     "metadata": {
      "needs_background": "light"
     },
     "output_type": "display_data"
    }
   ],
   "source": [
    "plt.plot(range(len(val_acc)), val_acc)"
   ]
  },
  {
   "cell_type": "code",
   "execution_count": 13,
   "metadata": {},
   "outputs": [],
   "source": [
    "pred = model.predict(test_x)"
   ]
  },
  {
   "cell_type": "code",
   "execution_count": 14,
   "metadata": {},
   "outputs": [
    {
     "data": {
      "image/png": "[encoded data removed]",
      "text/plain": [
       "<Figure size 432x288 with 1 Axes>"
      ]
     },
     "metadata": {
      "needs_background": "light"
     },
     "output_type": "display_data"
    }
   ],
   "source": [
    "close_pred = np.reshape(pred, (-1, 1))\n",
    "test_y_reshape = np.reshape(test_y, (-1, 1))\n",
    "days = np.arange(1, len(test_y_reshape)+1)\n",
    "plt.plot(days, test_y_reshape, 'b', label='Actual line')\n",
    "plt.plot(days, close_pred, 'r', label='Predicted line')\n",
    "plt.xlabel('Days')\n",
    "plt.ylabel('Close Prices')\n",
    "plt.legend()\n",
    "plt.show()"
   ]
  },
  {
   "cell_type": "code",
   "execution_count": 15,
   "metadata": {},
   "outputs": [
    {
     "data": {
      "image/png": "[encoded data removed]",
      "text/plain": [
       "<Figure size 432x288 with 1 Axes>"
      ]
     },
     "metadata": {
      "needs_background": "light"
     },
     "output_type": "display_data"
    }
   ],
   "source": [
    "pred = model.predict(train_x[:30, :, :, :])\n",
    "close_pred = np.reshape(pred, (-1, 1))\n",
    "test_y_reshape = np.reshape(train_y[:30, :], (-1, 1))\n",
    "days = np.arange(1, len(test_y_reshape)+1)\n",
    "plt.plot(days, test_y_reshape, 'b', label='Actual line')\n",
    "plt.plot(days, close_pred, 'r', label='Predicted line')\n",
    "plt.xlabel('Days')\n",
    "plt.ylabel('Close Prices')\n",
    "plt.legend()\n",
    "plt.show()"
   ]
  },
  {
   "cell_type": "code",
   "execution_count": 16,
   "metadata": {},
   "outputs": [
    {
     "data": {
      "image/png": "[encoded data removed]",
      "text/plain": [
       "<Figure size 432x288 with 1 Axes>"
      ]
     },
     "metadata": {
      "needs_background": "light"
     },
     "output_type": "display_data"
    }
   ],
   "source": [
    "import matplotlib.pyplot as plt\n",
    "test_dataset = np.load('dataset/GOOG-preprocessed.npz')\n",
    "test_stock_x, test_stock_y = test_dataset['features'], test_dataset['labels']\n",
    "test_stock_x = np.expand_dims(test_stock_x, axis=1)\n",
    "pred = model.predict(test_stock_x)\n",
    "close_pred = np.reshape(pred, (-1, 1))\n",
    "test_y_reshape = np.reshape(test_stock_y, (-1, 1))\n",
    "days = np.arange(1, len(test_y_reshape)+1)\n",
    "plt.plot(days, test_y_reshape, 'b', label='Actual line')\n",
    "plt.plot(days, close_pred, 'r', label='Predicted line')\n",
    "plt.xlabel('Days')\n",
    "plt.ylabel('Close Prices')\n",
    "plt.legend()\n",
    "plt.show()"
   ]
  },
  {
   "cell_type": "code",
   "execution_count": 17,
   "metadata": {},
   "outputs": [
    {
     "data": {
      "image/png": "[encoded data removed]",
      "text/plain": [
       "<Figure size 432x288 with 1 Axes>"
      ]
     },
     "metadata": {
      "needs_background": "light"
     },
     "output_type": "display_data"
    }
   ],
   "source": [
    "test_dataset = np.load('dataset/GOOG-preprocessed.npz')\n",
    "test_stock_x, test_stock_y = test_dataset['features'][1], test_dataset['labels'][1, :]\n",
    "test_stock_x = np.expand_dims(test_stock_x, axis=0)\n",
    "test_stock_x = np.expand_dims(test_stock_x, axis=0)\n",
    "test_stock_y = np.expand_dims(test_stock_y, axis=0)\n",
    "pred = model.predict(test_stock_x)\n",
    "close_pred = np.reshape(pred, (-1, 1))\n",
    "test_y_reshape = np.reshape(test_stock_y, (-1, 1))\n",
    "days = np.arange(1, len(test_y_reshape)+1)\n",
    "plt.plot(days, test_y_reshape, 'b', label='Actual line')\n",
    "plt.plot(days, close_pred, 'r', label='Predicted line')\n",
    "plt.xlabel('Days')\n",
    "plt.ylabel('Close Prices')\n",
    "plt.legend()\n",
    "plt.show()"
   ]
  },
  {
   "cell_type": "code",
   "execution_count": null,
   "metadata": {},
   "outputs": [],
   "source": []
  }
 ],
 "metadata": {
  "kernelspec": {
   "display_name": "Python 3",
   "language": "python",
   "name": "python3"
  },
  "language_info": {
   "codemirror_mode": {
    "name": "ipython",
    "version": 3
   },
   "file_extension": ".py",
   "mimetype": "text/x-python",
   "name": "python",
   "nbconvert_exporter": "python",
   "pygments_lexer": "ipython3",
   "version": "3.8.5"
  }
 },
 "nbformat": 4,
 "nbformat_minor": 4
}
