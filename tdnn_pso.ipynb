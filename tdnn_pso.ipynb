{
 "cells": [
  {
   "cell_type": "code",
   "execution_count": 1,
   "metadata": {},
   "outputs": [
    {
     "name": "stderr",
     "output_type": "stream",
     "text": [
      "C:\\Users\\keypg\\Anaconda3\\envs\\ml\\lib\\site-packages\\numpy\\_distributor_init.py:30: UserWarning: loaded more than 1 DLL from .libs:\n",
      "C:\\Users\\keypg\\Anaconda3\\envs\\ml\\lib\\site-packages\\numpy\\.libs\\libopenblas.NOIJJG62EMASZI6NYURL6JBKM4EVBGM7.gfortran-win_amd64.dll\n",
      "C:\\Users\\keypg\\Anaconda3\\envs\\ml\\lib\\site-packages\\numpy\\.libs\\libopenblas.PYQHXLVVQ7VESDPUVUADXEVJOBGHJPAY.gfortran-win_amd64.dll\n",
      "  warnings.warn(\"loaded more than 1 DLL from .libs:\\n%s\" %\n"
     ]
    }
   ],
   "source": [
    "import numpy as np\n",
    "import tensorflow as tf\n",
    "import math, os, sys\n",
    "import matplotlib.pyplot as plt\n",
    "from models.optimizer import Optimizer as PSOOptimizer"
   ]
  },
  {
   "cell_type": "code",
   "execution_count": 2,
   "metadata": {},
   "outputs": [],
   "source": [
    "gpus = tf.config.experimental.list_physical_devices('GPU')\n",
    "if gpus:\n",
    "    try:\n",
    "        for gpu in gpus:\n",
    "            tf.config.experimental.set_memory_growth(gpu, True)\n",
    "    except RuntimeError as e:\n",
    "        print(e)"
   ]
  },
  {
   "cell_type": "code",
   "execution_count": 3,
   "metadata": {},
   "outputs": [
    {
     "name": "stdout",
     "output_type": "stream",
     "text": [
      "(288, 1, 1, 7) (288, 7) (72, 1, 1, 7) (72, 7)\n"
     ]
    }
   ],
   "source": [
    "N = 100\n",
    "STEPS = 250\n",
    "LOSS = 'mse'\n",
    "BATCH_SIZE = 32\n",
    "\n",
    "dataset = np.load('dataset/all_data-preprocessed.npz')\n",
    "features, labels = dataset['features'].astype('float32'), dataset['labels'].astype('float32')\n",
    "input_shape = features.shape\n",
    "train_test_split_factor = .8\n",
    "validation_split_factor = .2\n",
    "train_x, train_y, test_x, test_y = features[:math.floor(len(features)*train_test_split_factor)], labels[:math.floor(len(labels)*train_test_split_factor)], features[math.floor(len(features)*train_test_split_factor):], labels[math.floor(len(labels)*train_test_split_factor):]\n",
    "train_x, test_x = np.expand_dims(train_x, axis=1), np.expand_dims(test_x, axis=1) # for use with TimeDistributed\n",
    "#train_y, test_y = np.expand_dims(train_y, axis=1), np.expand_dims(test_y, axis=1) # for use with TimeDistributed\n",
    "print(train_x.shape, train_y.shape, test_x.shape, test_y.shape)"
   ]
  },
  {
   "cell_type": "code",
   "execution_count": 4,
   "metadata": {},
   "outputs": [],
   "source": [
    "def build_model(loss):\n",
    "    layers = [\n",
    "        tf.keras.layers.TimeDistributed(tf.keras.layers.Conv1D(7, 3, padding='same', activation='relu', input_shape=input_shape[1:])),\n",
    "        tf.keras.layers.TimeDistributed(tf.keras.layers.Conv1D(7, 3, padding='same', activation='relu', dilation_rate=2)),\n",
    "        tf.keras.layers.TimeDistributed(tf.keras.layers.Conv1D(14, 3, padding='same', activation='relu', dilation_rate=1)),\n",
    "        tf.keras.layers.TimeDistributed(tf.keras.layers.Conv1D(36, 3, padding='same', activation='relu', dilation_rate=1)),\n",
    "        tf.keras.layers.Dense(70, activation='relu'),\n",
    "        tf.keras.layers.Flatten(),\n",
    "        tf.keras.layers.Dense(7, activation='linear')\n",
    "    ]\n",
    "    model = tf.keras.models.Sequential(layers=layers)\n",
    "    model.compile(optimizer='adam', loss=loss)\n",
    "    return model"
   ]
  },
  {
   "cell_type": "code",
   "execution_count": 5,
   "metadata": {},
   "outputs": [],
   "source": [
    "def run_backpropagation(x_train, y_train, epochs=0):\n",
    "    best_model = None\n",
    "    best_score = float('inf')\n",
    "    if epochs == 0:\n",
    "        epochs = STEPS\n",
    "    for i in range(N):\n",
    "        model_s = build_model(LOSS)\n",
    "        model_s.fit(\n",
    "            x_train, y_train,\n",
    "            epochs=epochs,\n",
    "            batch_size=BATCH_SIZE,\n",
    "            verbose=0\n",
    "        )\n",
    "        train_score = model_s.evaluate(x_train, y_train, batch_size=BATCH_SIZE, verbose=0)\n",
    "        if train_score < best_score:\n",
    "            best_model = model_s\n",
    "            best_score = train_score\n",
    "        return best_model"
   ]
  },
  {
   "cell_type": "code",
   "execution_count": null,
   "metadata": {},
   "outputs": [
    {
     "name": "stdout",
     "output_type": "stream",
     "text": [
      "Backprop -- train: 1500.9268  test: 211.4156\n",
      "PSO -- Initial best score 863525.0625\n",
      " [                    ] "
     ]
    }
   ],
   "source": [
    "model_s = run_backpropagation(train_x, train_y)\n",
    "b_train_score = model_s.evaluate(train_x, train_y, batch_size=BATCH_SIZE, verbose=0)\n",
    "b_test_score = model_s.evaluate(test_x[:64], test_y[:64], batch_size=BATCH_SIZE, verbose=0)\n",
    "print(\"Backprop -- train: {:.4f}  test: {:.4f}\".format(b_train_score, b_test_score))\n",
    "\n",
    "model_p = run_backpropagation(train_x, train_y, 1) # initilize weights\n",
    "pso = PSOOptimizer(model=model_p,\n",
    "                  loss=LOSS,\n",
    "                  n=N,\n",
    "                  acceleration=1.0,\n",
    "                  local_rate=.6,\n",
    "                  global_rate=.4)\n",
    "pso.fit(train_x, train_y, steps=STEPS, batch_size=BATCH_SIZE)\n",
    "model_p = pso.get_best_model()\n",
    "p_train_score = model_p.evaluate(train_x, train_y, batch_size=BATCH_SIZE, verbose=0)\n",
    "p_test_score = model_p.evaluate(test_x[:64], test_y[:64], batch_size=BATCH_SIZE, verbose=0)\n",
    "print(\"PSO -- train: {:.4f}  test: {:.4f}\".format(p_train_score, p_test_score))"
   ]
  },
  {
   "cell_type": "code",
   "execution_count": null,
   "metadata": {},
   "outputs": [],
   "source": [
    "# fit test sample into batch\n",
    "max_samples_test_x = test_x.shape[0]\n",
    "padd_time = 32 - (max_samples_test_x - max_samples_test_x//32*32)\n",
    "test_x_fit_bs32 = test_x[64:]\n",
    "for i in range(padd_time):\n",
    "    test_x_fit_bs32 = np.concatenate((test_x_fit_bs32, np.expand_dims(test_x_fit_bs32[-1], axis=0)))\n",
    "test_x_fit_bs32.shape\n",
    "model_p.predict(test_x_fit_bs32)"
   ]
  },
  {
   "cell_type": "code",
   "execution_count": null,
   "metadata": {},
   "outputs": [],
   "source": [
    "pred = model_s.predict(test_x[:64])\n",
    "close_pred = np.reshape(pred, (-1, 1))\n",
    "test_y_reshape = np.reshape(test_y[:64], (-1, 1))\n",
    "days = np.arange(1, len(test_y_reshape)+1)\n",
    "plt.plot(days, test_y_reshape, 'b', label='Actual line')\n",
    "plt.plot(days, close_pred, 'r', label='Predicted line')\n",
    "plt.title('TDNN')\n",
    "plt.xlabel('Days')\n",
    "plt.ylabel('Close Prices')\n",
    "plt.legend()\n",
    "plt.show()"
   ]
  },
  {
   "cell_type": "code",
   "execution_count": null,
   "metadata": {},
   "outputs": [],
   "source": [
    "pred = model_p.predict(test_x[:64])\n",
    "close_pred = np.reshape(pred, (-1, 1))\n",
    "test_y_reshape = np.reshape(test_y[:64], (-1, 1))\n",
    "days = np.arange(1, len(test_y_reshape)+1)\n",
    "plt.plot(days, test_y_reshape, 'b', label='Actual line')\n",
    "plt.plot(days, close_pred, 'r', label='Predicted line')\n",
    "plt.title('TDNN+PSO')\n",
    "plt.xlabel('Days')\n",
    "plt.ylabel('Close Prices')\n",
    "plt.legend()\n",
    "plt.show()"
   ]
  },
  {
   "cell_type": "code",
   "execution_count": null,
   "metadata": {},
   "outputs": [],
   "source": [
    "model_s.save('weights/tdnn.h5')\n",
    "model_s.save_weights('weights/tdnn_weight_only.h5')\n",
    "model_p.save('weights/tdnnpso.h5')\n",
    "model_p.save_weights('weights/tdnnpso_weight_only.h5')"
   ]
  },
  {
   "cell_type": "code",
   "execution_count": null,
   "metadata": {},
   "outputs": [],
   "source": []
  }
 ],
 "metadata": {
  "kernelspec": {
   "display_name": "Python 3",
   "language": "python",
   "name": "python3"
  },
  "language_info": {
   "codemirror_mode": {
    "name": "ipython",
    "version": 3
   },
   "file_extension": ".py",
   "mimetype": "text/x-python",
   "name": "python",
   "nbconvert_exporter": "python",
   "pygments_lexer": "ipython3",
   "version": "3.8.5"
  }
 },
 "nbformat": 4,
 "nbformat_minor": 4
}
