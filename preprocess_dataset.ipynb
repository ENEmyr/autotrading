{
 "cells": [
  {
   "cell_type": "code",
   "execution_count": 1,
   "metadata": {},
   "outputs": [
    {
     "name": "stderr",
     "output_type": "stream",
     "text": [
      "C:\\Users\\keypg\\Anaconda3\\envs\\ml\\lib\\site-packages\\numpy\\_distributor_init.py:30: UserWarning: loaded more than 1 DLL from .libs:\n",
      "C:\\Users\\keypg\\Anaconda3\\envs\\ml\\lib\\site-packages\\numpy\\.libs\\libopenblas.NOIJJG62EMASZI6NYURL6JBKM4EVBGM7.gfortran-win_amd64.dll\n",
      "C:\\Users\\keypg\\Anaconda3\\envs\\ml\\lib\\site-packages\\numpy\\.libs\\libopenblas.PYQHXLVVQ7VESDPUVUADXEVJOBGHJPAY.gfortran-win_amd64.dll\n",
      "  warnings.warn(\"loaded more than 1 DLL from .libs:\\n%s\" %\n"
     ]
    }
   ],
   "source": [
    "import numpy as np\n",
    "import tensorflow as tf\n",
    "import pandas as pd\n",
    "import os, sys\n",
    "from functools import reduce\n",
    "gpus = tf.config.experimental.list_physical_devices('GPU')\n",
    "if gpus:\n",
    "    try:\n",
    "        for gpu in gpus:\n",
    "            tf.config.experimental.set_memory_growth(gpu, True)\n",
    "    except RuntimeError as e:\n",
    "        print(e)"
   ]
  },
  {
   "cell_type": "code",
   "execution_count": 2,
   "metadata": {},
   "outputs": [
    {
     "data": {
      "text/html": [
       "<div>\n",
       "<style scoped>\n",
       "    .dataframe tbody tr th:only-of-type {\n",
       "        vertical-align: middle;\n",
       "    }\n",
       "\n",
       "    .dataframe tbody tr th {\n",
       "        vertical-align: top;\n",
       "    }\n",
       "\n",
       "    .dataframe thead th {\n",
       "        text-align: right;\n",
       "    }\n",
       "</style>\n",
       "<table border=\"1\" class=\"dataframe\">\n",
       "  <thead>\n",
       "    <tr style=\"text-align: right;\">\n",
       "      <th></th>\n",
       "      <th>Ticker</th>\n",
       "      <th>Date</th>\n",
       "      <th>Open</th>\n",
       "      <th>High</th>\n",
       "      <th>Low</th>\n",
       "      <th>Close</th>\n",
       "      <th>Adj Close</th>\n",
       "      <th>Volume</th>\n",
       "    </tr>\n",
       "  </thead>\n",
       "  <tbody>\n",
       "    <tr>\n",
       "      <th>0</th>\n",
       "      <td>AAPL</td>\n",
       "      <td>2018-11-20</td>\n",
       "      <td>44.592499</td>\n",
       "      <td>45.367500</td>\n",
       "      <td>43.877499</td>\n",
       "      <td>44.244999</td>\n",
       "      <td>42.865883</td>\n",
       "      <td>271300800</td>\n",
       "    </tr>\n",
       "    <tr>\n",
       "      <th>1</th>\n",
       "      <td>AAPL</td>\n",
       "      <td>2018-11-21</td>\n",
       "      <td>44.932499</td>\n",
       "      <td>45.067501</td>\n",
       "      <td>44.137501</td>\n",
       "      <td>44.195000</td>\n",
       "      <td>42.817429</td>\n",
       "      <td>124496800</td>\n",
       "    </tr>\n",
       "    <tr>\n",
       "      <th>2</th>\n",
       "      <td>AAPL</td>\n",
       "      <td>2018-11-23</td>\n",
       "      <td>43.735001</td>\n",
       "      <td>44.150002</td>\n",
       "      <td>43.025002</td>\n",
       "      <td>43.072498</td>\n",
       "      <td>41.729916</td>\n",
       "      <td>94496000</td>\n",
       "    </tr>\n",
       "    <tr>\n",
       "      <th>3</th>\n",
       "      <td>AAPL</td>\n",
       "      <td>2018-11-26</td>\n",
       "      <td>43.560001</td>\n",
       "      <td>43.737499</td>\n",
       "      <td>42.564999</td>\n",
       "      <td>43.654999</td>\n",
       "      <td>42.294266</td>\n",
       "      <td>179994000</td>\n",
       "    </tr>\n",
       "    <tr>\n",
       "      <th>4</th>\n",
       "      <td>AAPL</td>\n",
       "      <td>2018-11-27</td>\n",
       "      <td>42.877499</td>\n",
       "      <td>43.692501</td>\n",
       "      <td>42.720001</td>\n",
       "      <td>43.560001</td>\n",
       "      <td>42.202229</td>\n",
       "      <td>165549600</td>\n",
       "    </tr>\n",
       "  </tbody>\n",
       "</table>\n",
       "</div>"
      ],
      "text/plain": [
       "  Ticker        Date       Open       High        Low      Close  Adj Close  \\\n",
       "0   AAPL  2018-11-20  44.592499  45.367500  43.877499  44.244999  42.865883   \n",
       "1   AAPL  2018-11-21  44.932499  45.067501  44.137501  44.195000  42.817429   \n",
       "2   AAPL  2018-11-23  43.735001  44.150002  43.025002  43.072498  41.729916   \n",
       "3   AAPL  2018-11-26  43.560001  43.737499  42.564999  43.654999  42.294266   \n",
       "4   AAPL  2018-11-27  42.877499  43.692501  42.720001  43.560001  42.202229   \n",
       "\n",
       "      Volume  \n",
       "0  271300800  \n",
       "1  124496800  \n",
       "2   94496000  \n",
       "3  179994000  \n",
       "4  165549600  "
      ]
     },
     "execution_count": 2,
     "metadata": {},
     "output_type": "execute_result"
    }
   ],
   "source": [
    "df = pd.read_csv('./dataset/all_data.csv')\n",
    "df.head(n=5)"
   ]
  },
  {
   "cell_type": "code",
   "execution_count": 3,
   "metadata": {},
   "outputs": [
    {
     "data": {
      "text/html": [
       "<div>\n",
       "<style scoped>\n",
       "    .dataframe tbody tr th:only-of-type {\n",
       "        vertical-align: middle;\n",
       "    }\n",
       "\n",
       "    .dataframe tbody tr th {\n",
       "        vertical-align: top;\n",
       "    }\n",
       "\n",
       "    .dataframe thead th {\n",
       "        text-align: right;\n",
       "    }\n",
       "</style>\n",
       "<table border=\"1\" class=\"dataframe\">\n",
       "  <thead>\n",
       "    <tr style=\"text-align: right;\">\n",
       "      <th></th>\n",
       "      <th>Open</th>\n",
       "      <th>High</th>\n",
       "      <th>Low</th>\n",
       "      <th>Close</th>\n",
       "      <th>Volume</th>\n",
       "    </tr>\n",
       "    <tr>\n",
       "      <th>Ticker</th>\n",
       "      <th></th>\n",
       "      <th></th>\n",
       "      <th></th>\n",
       "      <th></th>\n",
       "      <th></th>\n",
       "    </tr>\n",
       "  </thead>\n",
       "  <tbody>\n",
       "    <tr>\n",
       "      <th>AAPL</th>\n",
       "      <td>510</td>\n",
       "      <td>510</td>\n",
       "      <td>510</td>\n",
       "      <td>510</td>\n",
       "      <td>510</td>\n",
       "    </tr>\n",
       "    <tr>\n",
       "      <th>AMZN</th>\n",
       "      <td>510</td>\n",
       "      <td>510</td>\n",
       "      <td>510</td>\n",
       "      <td>510</td>\n",
       "      <td>510</td>\n",
       "    </tr>\n",
       "    <tr>\n",
       "      <th>EBAY</th>\n",
       "      <td>510</td>\n",
       "      <td>510</td>\n",
       "      <td>510</td>\n",
       "      <td>510</td>\n",
       "      <td>510</td>\n",
       "    </tr>\n",
       "    <tr>\n",
       "      <th>FB</th>\n",
       "      <td>510</td>\n",
       "      <td>510</td>\n",
       "      <td>510</td>\n",
       "      <td>510</td>\n",
       "      <td>510</td>\n",
       "    </tr>\n",
       "    <tr>\n",
       "      <th>GOOG</th>\n",
       "      <td>510</td>\n",
       "      <td>510</td>\n",
       "      <td>510</td>\n",
       "      <td>510</td>\n",
       "      <td>510</td>\n",
       "    </tr>\n",
       "    <tr>\n",
       "      <th>MSFT</th>\n",
       "      <td>510</td>\n",
       "      <td>510</td>\n",
       "      <td>510</td>\n",
       "      <td>510</td>\n",
       "      <td>510</td>\n",
       "    </tr>\n",
       "    <tr>\n",
       "      <th>NFLX</th>\n",
       "      <td>510</td>\n",
       "      <td>510</td>\n",
       "      <td>510</td>\n",
       "      <td>510</td>\n",
       "      <td>510</td>\n",
       "    </tr>\n",
       "    <tr>\n",
       "      <th>NKE</th>\n",
       "      <td>510</td>\n",
       "      <td>510</td>\n",
       "      <td>510</td>\n",
       "      <td>510</td>\n",
       "      <td>510</td>\n",
       "    </tr>\n",
       "    <tr>\n",
       "      <th>NVDA</th>\n",
       "      <td>510</td>\n",
       "      <td>510</td>\n",
       "      <td>510</td>\n",
       "      <td>510</td>\n",
       "      <td>510</td>\n",
       "    </tr>\n",
       "    <tr>\n",
       "      <th>TSLA</th>\n",
       "      <td>510</td>\n",
       "      <td>510</td>\n",
       "      <td>510</td>\n",
       "      <td>510</td>\n",
       "      <td>510</td>\n",
       "    </tr>\n",
       "  </tbody>\n",
       "</table>\n",
       "</div>"
      ],
      "text/plain": [
       "        Open  High  Low  Close  Volume\n",
       "Ticker                                \n",
       "AAPL     510   510  510    510     510\n",
       "AMZN     510   510  510    510     510\n",
       "EBAY     510   510  510    510     510\n",
       "FB       510   510  510    510     510\n",
       "GOOG     510   510  510    510     510\n",
       "MSFT     510   510  510    510     510\n",
       "NFLX     510   510  510    510     510\n",
       "NKE      510   510  510    510     510\n",
       "NVDA     510   510  510    510     510\n",
       "TSLA     510   510  510    510     510"
      ]
     },
     "execution_count": 3,
     "metadata": {},
     "output_type": "execute_result"
    }
   ],
   "source": [
    "stocks = df.drop(columns=['Date', 'Adj Close'])\n",
    "stocks = stocks.groupby(['Ticker'])\n",
    "stocks.count()"
   ]
  },
  {
   "cell_type": "code",
   "execution_count": 4,
   "metadata": {},
   "outputs": [
    {
     "name": "stdout",
     "output_type": "stream",
     "text": [
      "(5100, 8) (510, 6)\n"
     ]
    }
   ],
   "source": [
    "print(df.shape, stocks.get_group('AAPL').shape)"
   ]
  },
  {
   "cell_type": "code",
   "execution_count": 5,
   "metadata": {},
   "outputs": [
    {
     "name": "stdout",
     "output_type": "stream",
     "text": [
      "stock: AAPL\tshape : (72, 7, 5)\n",
      "stock: AMZN\tshape : (72, 7, 5)\n",
      "stock: EBAY\tshape : (72, 7, 5)\n",
      "stock: FB\tshape : (72, 7, 5)\n",
      "stock: GOOG\tshape : (72, 7, 5)\n",
      "stock: MSFT\tshape : (72, 7, 5)\n",
      "stock: NFLX\tshape : (72, 7, 5)\n",
      "stock: NKE\tshape : (72, 7, 5)\n",
      "stock: NVDA\tshape : (72, 7, 5)\n",
      "stock: TSLA\tshape : (72, 7, 5)\n"
     ]
    }
   ],
   "source": [
    "stock_name = []\n",
    "stocks_df_list = []\n",
    "for name, group in stocks:\n",
    "    stock_name.append(name)\n",
    "    stocks_df_list.append(group.drop(columns=['Ticker']).div([100, 100, 100, 100, 100000]).to_numpy()[:504, :].reshape((72, 7, 5))) # divide for normalize dataset * don't forgot to divide the input when use with real data\n",
    "    print(f'stock: {name}\\tshape : {stocks_df_list[-1].shape}')"
   ]
  },
  {
   "cell_type": "code",
   "execution_count": 6,
   "metadata": {},
   "outputs": [],
   "source": [
    "reduce_stocks = reduce(lambda a,b: np.concatenate((a, b)), stocks_df_list) # trim total samples in each stock into 504 to make it can devide into set of 7\n",
    "features, labels = reduce_stocks[0::2], reduce_stocks[1::2][:,:,3]*100 # label is a close price, multiply by 100 to make it back to original range"
   ]
  },
  {
   "cell_type": "code",
   "execution_count": 7,
   "metadata": {},
   "outputs": [
    {
     "name": "stdout",
     "output_type": "stream",
     "text": [
      "features shape: (360, 7, 5)\n",
      "labels shape: (360, 7)\n",
      "(720, 7, 5)\n"
     ]
    }
   ],
   "source": [
    "print(f'features shape: {features.shape}\\nlabels shape: {labels.shape}')\n",
    "print(reduce_stocks.shape)"
   ]
  },
  {
   "cell_type": "code",
   "execution_count": 8,
   "metadata": {},
   "outputs": [
    {
     "name": "stdout",
     "output_type": "stream",
     "text": [
      "[[4.45924988e-01 4.53675003e-01 4.38774986e-01 4.42449989e-01\n",
      "  2.71300800e+03]\n",
      " [4.49324989e-01 4.50675011e-01 4.41375008e-01 4.41949997e-01\n",
      "  1.24496800e+03]\n",
      " [4.37350006e-01 4.41500015e-01 4.30250015e-01 4.30724983e-01\n",
      "  9.44960000e+02]\n",
      " [4.35600014e-01 4.37374992e-01 4.25649986e-01 4.36549988e-01\n",
      "  1.79994000e+03]\n",
      " [4.28774986e-01 4.36925011e-01 4.27200012e-01 4.35600014e-01\n",
      "  1.65549600e+03]\n",
      " [4.41824989e-01 4.53224983e-01 4.37324982e-01 4.52350006e-01\n",
      "  1.84250000e+03]\n",
      " [4.56650009e-01 4.57000008e-01 4.44249992e-01 4.48875008e-01\n",
      "  1.67080000e+03]] (7, 5)\n",
      "\n",
      "\n",
      " [44.64500046 46.20500183 44.17250061 43.68000031 42.12250137 42.40000153\n",
      " 42.15750122] (7,)\n"
     ]
    }
   ],
   "source": [
    "print(features[0], features[0].shape)\n",
    "print('\\n\\n', labels[0], labels[0].shape)"
   ]
  },
  {
   "cell_type": "code",
   "execution_count": 9,
   "metadata": {},
   "outputs": [],
   "source": [
    "# save several arrays into compressed .npz archive\n",
    "with open('dataset/stock_dataset_preprocessed.npz', 'wb') as f:\n",
    "    np.savez(f, features=features, labels=labels)"
   ]
  },
  {
   "cell_type": "code",
   "execution_count": null,
   "metadata": {},
   "outputs": [],
   "source": []
  }
 ],
 "metadata": {
  "kernelspec": {
   "display_name": "Python 3",
   "language": "python",
   "name": "python3"
  },
  "language_info": {
   "codemirror_mode": {
    "name": "ipython",
    "version": 3
   },
   "file_extension": ".py",
   "mimetype": "text/x-python",
   "name": "python",
   "nbconvert_exporter": "python",
   "pygments_lexer": "ipython3",
   "version": "3.8.5"
  }
 },
 "nbformat": 4,
 "nbformat_minor": 4
}
