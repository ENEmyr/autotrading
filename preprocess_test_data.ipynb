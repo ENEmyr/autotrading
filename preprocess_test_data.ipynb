{
 "cells": [
  {
   "cell_type": "code",
   "execution_count": 1,
   "metadata": {},
   "outputs": [
    {
     "name": "stderr",
     "output_type": "stream",
     "text": [
      "C:\\Users\\keypg\\Anaconda3\\envs\\ml\\lib\\site-packages\\numpy\\_distributor_init.py:30: UserWarning: loaded more than 1 DLL from .libs:\n",
      "C:\\Users\\keypg\\Anaconda3\\envs\\ml\\lib\\site-packages\\numpy\\.libs\\libopenblas.NOIJJG62EMASZI6NYURL6JBKM4EVBGM7.gfortran-win_amd64.dll\n",
      "C:\\Users\\keypg\\Anaconda3\\envs\\ml\\lib\\site-packages\\numpy\\.libs\\libopenblas.PYQHXLVVQ7VESDPUVUADXEVJOBGHJPAY.gfortran-win_amd64.dll\n",
      "  warnings.warn(\"loaded more than 1 DLL from .libs:\\n%s\" %\n"
     ]
    }
   ],
   "source": [
    "import numpy as np\n",
    "import pandas as pd\n",
    "from functools import reduce"
   ]
  },
  {
   "cell_type": "code",
   "execution_count": 2,
   "metadata": {},
   "outputs": [
    {
     "data": {
      "text/html": [
       "<div>\n",
       "<style scoped>\n",
       "    .dataframe tbody tr th:only-of-type {\n",
       "        vertical-align: middle;\n",
       "    }\n",
       "\n",
       "    .dataframe tbody tr th {\n",
       "        vertical-align: top;\n",
       "    }\n",
       "\n",
       "    .dataframe thead th {\n",
       "        text-align: right;\n",
       "    }\n",
       "</style>\n",
       "<table border=\"1\" class=\"dataframe\">\n",
       "  <thead>\n",
       "    <tr style=\"text-align: right;\">\n",
       "      <th></th>\n",
       "      <th>Date</th>\n",
       "      <th>Open</th>\n",
       "      <th>High</th>\n",
       "      <th>Low</th>\n",
       "      <th>Close</th>\n",
       "      <th>Adj Close</th>\n",
       "      <th>Volume</th>\n",
       "    </tr>\n",
       "  </thead>\n",
       "  <tbody>\n",
       "    <tr>\n",
       "      <th>0</th>\n",
       "      <td>2018-09-04</td>\n",
       "      <td>1204.270020</td>\n",
       "      <td>1212.989990</td>\n",
       "      <td>1192.500000</td>\n",
       "      <td>1197.000000</td>\n",
       "      <td>1197.000000</td>\n",
       "      <td>1831000</td>\n",
       "    </tr>\n",
       "    <tr>\n",
       "      <th>1</th>\n",
       "      <td>2018-09-05</td>\n",
       "      <td>1193.800049</td>\n",
       "      <td>1199.010010</td>\n",
       "      <td>1162.000000</td>\n",
       "      <td>1186.479980</td>\n",
       "      <td>1186.479980</td>\n",
       "      <td>2061300</td>\n",
       "    </tr>\n",
       "    <tr>\n",
       "      <th>2</th>\n",
       "      <td>2018-09-06</td>\n",
       "      <td>1186.300049</td>\n",
       "      <td>1186.300049</td>\n",
       "      <td>1152.000000</td>\n",
       "      <td>1171.439941</td>\n",
       "      <td>1171.439941</td>\n",
       "      <td>1888500</td>\n",
       "    </tr>\n",
       "    <tr>\n",
       "      <th>3</th>\n",
       "      <td>2018-09-07</td>\n",
       "      <td>1158.670044</td>\n",
       "      <td>1175.260010</td>\n",
       "      <td>1157.214966</td>\n",
       "      <td>1164.829956</td>\n",
       "      <td>1164.829956</td>\n",
       "      <td>1401300</td>\n",
       "    </tr>\n",
       "    <tr>\n",
       "      <th>4</th>\n",
       "      <td>2018-09-10</td>\n",
       "      <td>1172.189941</td>\n",
       "      <td>1174.540039</td>\n",
       "      <td>1160.109985</td>\n",
       "      <td>1164.640015</td>\n",
       "      <td>1164.640015</td>\n",
       "      <td>1115400</td>\n",
       "    </tr>\n",
       "  </tbody>\n",
       "</table>\n",
       "</div>"
      ],
      "text/plain": [
       "         Date         Open         High          Low        Close  \\\n",
       "0  2018-09-04  1204.270020  1212.989990  1192.500000  1197.000000   \n",
       "1  2018-09-05  1193.800049  1199.010010  1162.000000  1186.479980   \n",
       "2  2018-09-06  1186.300049  1186.300049  1152.000000  1171.439941   \n",
       "3  2018-09-07  1158.670044  1175.260010  1157.214966  1164.829956   \n",
       "4  2018-09-10  1172.189941  1174.540039  1160.109985  1164.640015   \n",
       "\n",
       "     Adj Close   Volume  \n",
       "0  1197.000000  1831000  \n",
       "1  1186.479980  2061300  \n",
       "2  1171.439941  1888500  \n",
       "3  1164.829956  1401300  \n",
       "4  1164.640015  1115400  "
      ]
     },
     "execution_count": 2,
     "metadata": {},
     "output_type": "execute_result"
    }
   ],
   "source": [
    "df = pd.read_csv('./dataset/GOOG.csv')\n",
    "df.head(n=5)"
   ]
  },
  {
   "cell_type": "code",
   "execution_count": 6,
   "metadata": {},
   "outputs": [
    {
     "data": {
      "text/plain": [
       "Open      63\n",
       "High      63\n",
       "Low       63\n",
       "Close     63\n",
       "Volume    63\n",
       "dtype: int64"
      ]
     },
     "execution_count": 6,
     "metadata": {},
     "output_type": "execute_result"
    }
   ],
   "source": [
    "stock = df.drop(columns=['Date', 'Adj Close'])\n",
    "#stocks = stocks.groupby(['Ticker'])\n",
    "stock.count()"
   ]
  },
  {
   "cell_type": "code",
   "execution_count": 7,
   "metadata": {},
   "outputs": [
    {
     "name": "stdout",
     "output_type": "stream",
     "text": [
      "(63, 7)            Open         High          Low        Close   Volume\n",
      "0   1204.270020  1212.989990  1192.500000  1197.000000  1831000\n",
      "1   1193.800049  1199.010010  1162.000000  1186.479980  2061300\n",
      "2   1186.300049  1186.300049  1152.000000  1171.439941  1888500\n",
      "3   1158.670044  1175.260010  1157.214966  1164.829956  1401300\n",
      "4   1172.189941  1174.540039  1160.109985  1164.640015  1115400\n",
      "..          ...          ...          ...          ...      ...\n",
      "58  1038.349976  1049.310059  1033.910034  1048.619995  1942800\n",
      "59  1041.000000  1057.579956  1038.489990  1044.410034  1803200\n",
      "60  1048.760010  1086.839966  1035.760010  1086.229980  2475400\n",
      "61  1076.079956  1094.244995  1076.000000  1088.300049  1468900\n",
      "62  1089.069946  1095.569946  1077.880005  1094.430054  2580200\n",
      "\n",
      "[63 rows x 5 columns]\n"
     ]
    }
   ],
   "source": [
    "print(df.shape, stock)"
   ]
  },
  {
   "cell_type": "code",
   "execution_count": 9,
   "metadata": {},
   "outputs": [
    {
     "name": "stdout",
     "output_type": "stream",
     "text": [
      "shape : (9, 7, 5)\n"
     ]
    }
   ],
   "source": [
    "stock = stock.div([100, 100, 100, 100, 100000]).to_numpy().reshape((9, 7, 5)) # divide for normalize dataset * don't forgot to divide the input when use with real data\n",
    "print(f'shape : {stock.shape}')"
   ]
  },
  {
   "cell_type": "code",
   "execution_count": 14,
   "metadata": {},
   "outputs": [],
   "source": [
    "features, labels = stock, stock[:,:,3]*100 # label is a close price, multiply by 100 to make it back to original range"
   ]
  },
  {
   "cell_type": "code",
   "execution_count": 15,
   "metadata": {},
   "outputs": [
    {
     "name": "stdout",
     "output_type": "stream",
     "text": [
      "features shape: (9, 7, 5)\n",
      "labels shape: (9, 7)\n"
     ]
    }
   ],
   "source": [
    "print(f'features shape: {features.shape}\\nlabels shape: {labels.shape}')"
   ]
  },
  {
   "cell_type": "code",
   "execution_count": 16,
   "metadata": {},
   "outputs": [
    {
     "name": "stdout",
     "output_type": "stream",
     "text": [
      "[[12.0427002  12.1298999  11.925      11.97       18.31      ]\n",
      " [11.93800049 11.9901001  11.62       11.8647998  20.613     ]\n",
      " [11.86300049 11.86300049 11.52       11.71439941 18.885     ]\n",
      " [11.58670044 11.7526001  11.57214966 11.64829956 14.013     ]\n",
      " [11.72189941 11.74540039 11.60109985 11.64640015 11.154     ]\n",
      " [11.61630005 11.78680054 11.5623999  11.77359985 12.093     ]\n",
      " [11.72719971 11.78609985 11.58359985 11.62819946 12.955     ]] (7, 5)\n",
      "\n",
      "\n",
      " [1197.       1186.47998  1171.439941 1164.829956 1164.640015 1177.359985\n",
      " 1162.819946] (7,)\n"
     ]
    }
   ],
   "source": [
    "print(features[0], features[0].shape)\n",
    "print('\\n\\n', labels[0], labels[0].shape)"
   ]
  },
  {
   "cell_type": "code",
   "execution_count": 17,
   "metadata": {},
   "outputs": [],
   "source": [
    "# save several arrays into compressed .npz archive\n",
    "with open('dataset/test_stock_preprocessed.npz', 'wb') as f:\n",
    "    np.savez(f, features=features, labels=labels)"
   ]
  },
  {
   "cell_type": "code",
   "execution_count": null,
   "metadata": {},
   "outputs": [],
   "source": []
  }
 ],
 "metadata": {
  "kernelspec": {
   "display_name": "Python 3",
   "language": "python",
   "name": "python3"
  },
  "language_info": {
   "codemirror_mode": {
    "name": "ipython",
    "version": 3
   },
   "file_extension": ".py",
   "mimetype": "text/x-python",
   "name": "python",
   "nbconvert_exporter": "python",
   "pygments_lexer": "ipython3",
   "version": "3.8.5"
  }
 },
 "nbformat": 4,
 "nbformat_minor": 4
}
