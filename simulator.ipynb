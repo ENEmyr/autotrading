{
 "cells": [
  {
   "cell_type": "code",
   "execution_count": 1,
   "metadata": {},
   "outputs": [
    {
     "name": "stderr",
     "output_type": "stream",
     "text": [
      "C:\\Users\\keypg\\Anaconda3\\envs\\ml\\lib\\site-packages\\numpy\\_distributor_init.py:30: UserWarning: loaded more than 1 DLL from .libs:\n",
      "C:\\Users\\keypg\\Anaconda3\\envs\\ml\\lib\\site-packages\\numpy\\.libs\\libopenblas.NOIJJG62EMASZI6NYURL6JBKM4EVBGM7.gfortran-win_amd64.dll\n",
      "C:\\Users\\keypg\\Anaconda3\\envs\\ml\\lib\\site-packages\\numpy\\.libs\\libopenblas.PYQHXLVVQ7VESDPUVUADXEVJOBGHJPAY.gfortran-win_amd64.dll\n",
      "  warnings.warn(\"loaded more than 1 DLL from .libs:\\n%s\" %\n"
     ]
    }
   ],
   "source": [
    "import numpy as np\n",
    "import tensorflow as tf\n",
    "import matplotlib.pyplot as plt\n",
    "import math, os, sys, datetime\n",
    "from simulator import Simulator\n",
    "#from utils.batch_manager import fit_into_batch, extract_from_batch\n",
    "#from utils.preprocessstock import preprocess"
   ]
  },
  {
   "cell_type": "code",
   "execution_count": 2,
   "metadata": {},
   "outputs": [],
   "source": [
    "gpus = tf.config.experimental.list_physical_devices('GPU')\n",
    "if gpus:\n",
    "    try:\n",
    "        for gpu in gpus:\n",
    "            tf.config.experimental.set_memory_growth(gpu, True)\n",
    "    except RuntimeError as e:\n",
    "        print(e)"
   ]
  },
  {
   "cell_type": "code",
   "execution_count": 3,
   "metadata": {},
   "outputs": [],
   "source": [
    "# USER INPUT SECTION #\n",
    "DATA_CSV_PATH = os.path.abspath('dataset/MMM-18.csv')\n",
    "MODEL_TYPE = 'tdnn' # tdnn, tdnn_pso, tdnn_de, svm, rf\n",
    "BALANCE = 1000000\n",
    "BUY_LIMIT_FROM_BALANCE_PORTION = 1/3\n",
    "TRADE_BASE_FEE = 0\n",
    "TRADE_FEE = .15\n",
    "VAT = 7\n",
    "CUT_LOSS = 2\n",
    "UNIT_MULTIPLIER = 100\n",
    "TRADE_SENSITIVITY = .40\n",
    "TRADE_FREQUENCY = 1\n",
    "#CURRENT_UNIT = 0\n",
    "#MAX_UNIT_BUY_PER_TRADE = 10 # total number of trading unit come from MAX_UNIT_BUY_PER_TRADE * UNIT_MULTIPLIER\n",
    "#MAX_UNIT_SELL_PER_TRADE = 10 # total number of trading unit come from MAX_UNIT_SELL_PER_TRADE * UNIT_MULTIPLIER"
   ]
  },
  {
   "cell_type": "code",
   "execution_count": 4,
   "metadata": {},
   "outputs": [],
   "source": [
    "simulator = Simulator(csv_file_path=DATA_CSV_PATH,\n",
    "                     model_type=MODEL_TYPE,\n",
    "                     balance=BALANCE,\n",
    "                     buy_limit_from_balance_portion=BUY_LIMIT_FROM_BALANCE_PORTION,\n",
    "                     trade_base_fee=TRADE_BASE_FEE,\n",
    "                     trade_fee=TRADE_FEE,\n",
    "                     vat=VAT,\n",
    "                     cut_loss=CUT_LOSS,\n",
    "                     unit_multiplier=UNIT_MULTIPLIER,\n",
    "                     trade_sensitivity=TRADE_SENSITIVITY,\n",
    "                     trade_freq=TRADE_FREQUENCY)"
   ]
  },
  {
   "cell_type": "code",
   "execution_count": 5,
   "metadata": {},
   "outputs": [],
   "source": [
    "r_balance, r_real_hist_price, r_y, r_pred, r_pred_hma, r_obv, r_obv_hma, r_trade_record, r_brought_units = simulator.run()"
   ]
  },
  {
   "cell_type": "code",
   "execution_count": 7,
   "metadata": {},
   "outputs": [
    {
     "data": {
      "text/plain": [
       "48615.39015656724"
      ]
     },
     "execution_count": 7,
     "metadata": {},
     "output_type": "execute_result"
    }
   ],
   "source": [
    "r_balance"
   ]
  },
  {
   "cell_type": "code",
   "execution_count": 9,
   "metadata": {},
   "outputs": [
    {
     "data": {
      "text/plain": [
       "{170.6456402369908: 100.0,\n",
       " 170.41832951137: 100.0,\n",
       " 170.12682397024972: 100.0,\n",
       " 170.03134209769112: 100.0,\n",
       " 170.37509427751814: 100.0,\n",
       " 170.18145969935827: 100.0,\n",
       " 170.48061207362585: 100.0,\n",
       " 170.65657806396484: 100.0,\n",
       " 170.5836568559919: 100.0,\n",
       " 170.89612197875977: 100.0,\n",
       " 170.9478656223842: 100.0,\n",
       " 202.50274222237724: 1000.0,\n",
       " 203.7078094482422: 700.0,\n",
       " 204.40284946986608: 500.0,\n",
       " 205.3567831856864: 300.0,\n",
       " 205.8258389064244: 200.0,\n",
       " 206.56044932774134: 200.0,\n",
       " 205.50985063825334: 200.0,\n",
       " 205.15699168613978: 100.0,\n",
       " 204.77569907052177: 100.0,\n",
       " 204.24666322980607: 100.0}"
      ]
     },
     "execution_count": 9,
     "metadata": {},
     "output_type": "execute_result"
    }
   ],
   "source": [
    "r_brought_units"
   ]
  }
 ],
 "metadata": {
  "kernelspec": {
   "display_name": "Python 3",
   "language": "python",
   "name": "python3"
  },
  "language_info": {
   "codemirror_mode": {
    "name": "ipython",
    "version": 3
   },
   "file_extension": ".py",
   "mimetype": "text/x-python",
   "name": "python",
   "nbconvert_exporter": "python",
   "pygments_lexer": "ipython3",
   "version": "3.8.5"
  }
 },
 "nbformat": 4,
 "nbformat_minor": 4
}
