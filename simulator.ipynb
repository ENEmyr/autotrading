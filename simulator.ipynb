{
 "cells": [
  {
   "cell_type": "code",
   "execution_count": 1,
   "metadata": {},
   "outputs": [
    {
     "name": "stderr",
     "output_type": "stream",
     "text": [
      "C:\\Users\\keypg\\Anaconda3\\envs\\ml\\lib\\site-packages\\numpy\\_distributor_init.py:30: UserWarning: loaded more than 1 DLL from .libs:\n",
      "C:\\Users\\keypg\\Anaconda3\\envs\\ml\\lib\\site-packages\\numpy\\.libs\\libopenblas.NOIJJG62EMASZI6NYURL6JBKM4EVBGM7.gfortran-win_amd64.dll\n",
      "C:\\Users\\keypg\\Anaconda3\\envs\\ml\\lib\\site-packages\\numpy\\.libs\\libopenblas.PYQHXLVVQ7VESDPUVUADXEVJOBGHJPAY.gfortran-win_amd64.dll\n",
      "  warnings.warn(\"loaded more than 1 DLL from .libs:\\n%s\" %\n"
     ]
    }
   ],
   "source": [
    "import numpy as np\n",
    "import tensorflow as tf\n",
    "import matplotlib.pyplot as plt\n",
    "import math, os, sys, datetime\n",
    "from simulator import Simulator\n",
    "#from utils.batch_manager import fit_into_batch, extract_from_batch\n",
    "#from utils.preprocessstock import preprocess"
   ]
  },
  {
   "cell_type": "code",
   "execution_count": 2,
   "metadata": {},
   "outputs": [],
   "source": [
    "gpus = tf.config.experimental.list_physical_devices('GPU')\n",
    "if gpus:\n",
    "    try:\n",
    "        for gpu in gpus:\n",
    "            tf.config.experimental.set_memory_growth(gpu, True)\n",
    "    except RuntimeError as e:\n",
    "        print(e)"
   ]
  },
  {
   "cell_type": "code",
   "execution_count": 3,
   "metadata": {},
   "outputs": [],
   "source": [
    "# USER INPUT SECTION #\n",
    "DATA_CSV_PATH = os.path.abspath('dataset/MSFT-20.csv')\n",
    "MODEL_TYPE = 'tdnn_pso' # tdnn, tdnn_pso, tdnn_de, svm, rf\n",
    "BALANCE = 1000000\n",
    "BUY_LIMIT_FROM_BALANCE_PORTION = 1/3\n",
    "TRADE_BASE_FEE = 0\n",
    "TRADE_FEE = .15\n",
    "VAT = 7\n",
    "CUT_LOSS = 2\n",
    "UNIT_MULTIPLIER = 100\n",
    "EMA_ALPHA = .25\n",
    "ADAPTIVE_EMA_ALPHA = True\n",
    "TRADE_SENSITIVITY = .40\n",
    "TRADE_FREQUENCY = 1\n",
    "#CURRENT_UNIT = 0\n",
    "#MAX_UNIT_BUY_PER_TRADE = 10 # total number of trading unit come from MAX_UNIT_BUY_PER_TRADE * UNIT_MULTIPLIER\n",
    "#MAX_UNIT_SELL_PER_TRADE = 10 # total number of trading unit come from MAX_UNIT_SELL_PER_TRADE * UNIT_MULTIPLIER"
   ]
  },
  {
   "cell_type": "code",
   "execution_count": 4,
   "metadata": {},
   "outputs": [],
   "source": [
    "simulator = Simulator(csv_file_path=DATA_CSV_PATH,\n",
    "                     model_type=MODEL_TYPE,\n",
    "                     balance=BALANCE,\n",
    "                     buy_limit_from_balance_portion=BUY_LIMIT_FROM_BALANCE_PORTION,\n",
    "                     trade_base_fee=TRADE_BASE_FEE,\n",
    "                     trade_fee=TRADE_FEE,\n",
    "                     vat=VAT,\n",
    "                     cut_loss=CUT_LOSS,\n",
    "                     unit_multiplier=UNIT_MULTIPLIER,\n",
    "                     trade_sensitivity=TRADE_SENSITIVITY,\n",
    "                     ema_alpha=EMA_ALPHA,\n",
    "                     adaptive_ema_alpha=ADAPTIVE_EMA_ALPHA,\n",
    "                     trade_freq=TRADE_FREQUENCY)"
   ]
  },
  {
   "cell_type": "code",
   "execution_count": 5,
   "metadata": {},
   "outputs": [],
   "source": [
    "r_balance, r_real_hist_price, r_y, r_pred, r_pred_hma, r_obv, r_obv_hma, r_trade_record, r_brought_units = simulator.run()"
   ]
  },
  {
   "cell_type": "code",
   "execution_count": 6,
   "metadata": {},
   "outputs": [
    {
     "data": {
      "text/plain": [
       "1651607.9605181275"
      ]
     },
     "execution_count": 6,
     "metadata": {},
     "output_type": "execute_result"
    }
   ],
   "source": [
    "r_balance"
   ]
  },
  {
   "cell_type": "code",
   "execution_count": 7,
   "metadata": {},
   "outputs": [
    {
     "data": {
      "text/plain": [
       "{}"
      ]
     },
     "execution_count": 7,
     "metadata": {},
     "output_type": "execute_result"
    }
   ],
   "source": [
    "r_brought_units\n",
    "#sum_r = r_balance\n",
    "#for key in r_brought_units.keys():\n",
    "#    sum_r += key*r_brought_units[key]\n",
    "#sum_r"
   ]
  },
  {
   "cell_type": "code",
   "execution_count": 8,
   "metadata": {},
   "outputs": [
    {
     "data": {
      "image/png": "[encoded data removed]",
      "text/plain": [
       "<Figure size 432x288 with 1 Axes>"
      ]
     },
     "metadata": {
      "needs_background": "light"
     },
     "output_type": "display_data"
    }
   ],
   "source": [
    "b_x = []\n",
    "b_recs = []\n",
    "bv_recs = []\n",
    "s_x = []\n",
    "s_recs = []\n",
    "sv_recs = []\n",
    "for record in r_trade_record:\n",
    "    if record[0] == 'b':\n",
    "        b_x.append(record[1])\n",
    "        b_recs.append(record[2])\n",
    "        bv_recs.append(record[3])\n",
    "    elif record[0] == 's':\n",
    "        s_x.append(record[1])\n",
    "        s_recs.append(record[2])\n",
    "        sv_recs.append(record[3])\n",
    "reduce_b = {}\n",
    "reduce_s = {}\n",
    "for idx, val in enumerate(zip(b_x, b_recs, bv_recs)):\n",
    "    if val[0] in list(reduce_b):\n",
    "        reduce_b[val[0]][1] += val[2]\n",
    "    else:\n",
    "        reduce_b[val[0]] = [val[1],val[2]]\n",
    "        \n",
    "for idx, val in enumerate(zip(s_x, s_recs, sv_recs)):\n",
    "    if val[0] in list(reduce_s):\n",
    "        reduce_s[val[0]][1] += val[2]\n",
    "    else:\n",
    "        reduce_s[val[0]] = [val[1],val[2]]\n",
    "        \n",
    "days = np.arange(1, len(r_real_hist_price[7:15])+1)\n",
    "plt.plot(days, r_real_hist_price[7:15], 'black', label='actual')\n",
    "days = np.arange(1, len(r_pred_hma[7:15])+1)\n",
    "plt.plot(days, r_pred_hma[7:15], 'b', label='predicted')\n",
    "#plt.scatter(list(reduce_b), np.array(list(reduce_b.values()))[:,0].astype('float'), c='green', linewidths=1)\n",
    "#plt.scatter(list(reduce_s), np.array(list(reduce_s.values()))[:,0].astype('float'), c='red', linewidths=1)\n",
    "#for i in range(len(reduce_b)):\n",
    "#    plt.annotate(np.array(list(reduce_b.values()))[i,1].astype('float'), (list(reduce_b)[i], np.array(list(reduce_b.values()))[i,0].astype('float')))\n",
    "#for i in range(len(reduce_s)):\n",
    "#    plt.annotate(np.array(list(reduce_s.values()))[i,1].astype('float'), (list(reduce_s)[i], np.array(list(reduce_s.values()))[i,0].astype('float')))\n",
    "plt.xlabel('Days')\n",
    "plt.ylabel('Close Prices')\n",
    "plt.legend()\n",
    "plt.show()"
   ]
  },
  {
   "cell_type": "code",
   "execution_count": 9,
   "metadata": {},
   "outputs": [
    {
     "data": {
      "text/plain": [
       "1.6516079605181275"
      ]
     },
     "execution_count": 9,
     "metadata": {},
     "output_type": "execute_result"
    }
   ],
   "source": [
    "r_balance/BALANCE"
   ]
  },
  {
   "cell_type": "code",
   "execution_count": null,
   "metadata": {},
   "outputs": [],
   "source": []
  }
 ],
 "metadata": {
  "kernelspec": {
   "display_name": "Python 3",
   "language": "python",
   "name": "python3"
  },
  "language_info": {
   "codemirror_mode": {
    "name": "ipython",
    "version": 3
   },
   "file_extension": ".py",
   "mimetype": "text/x-python",
   "name": "python",
   "nbconvert_exporter": "python",
   "pygments_lexer": "ipython3",
   "version": "3.8.5"
  }
 },
 "nbformat": 4,
 "nbformat_minor": 4
}
